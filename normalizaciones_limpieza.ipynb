{
 "cells": [
  {
   "cell_type": "code",
   "execution_count": 2,
   "id": "b4068a45",
   "metadata": {},
   "outputs": [],
   "source": [
    "import pandas as pd\n",
    "import seaborn as sns\n",
    "import matplotlib.pyplot as plt\n",
    "import numpy as np"
   ]
  },
  {
   "cell_type": "code",
   "execution_count": 3,
   "id": "986ae69b",
   "metadata": {
    "scrolled": true
   },
   "outputs": [],
   "source": [
    "data_2017 = pd.read_csv('/home/magickmichelle/Documentos/maestria2020_2021/taller_tesis/137/linea_137_violencia_sexual_llamados_intervenciones/llamados_atendidos_abuso_sexual_2017.csv',  engine= 'python')\n",
    "data_2018 = pd.read_csv('/home/magickmichelle/Documentos/maestria2020_2021/taller_tesis/137/linea_137_violencia_sexual_llamados_intervenciones/llamados_atendidos_abuso_sexual_2018.csv', engine= 'python')\n",
    "data_2019 =pd.read_csv('/home/magickmichelle/Documentos/maestria2020_2021/taller_tesis/137/linea_137_violencia_sexual_llamados_intervenciones/llamados_atendidos_abuso_sexual_2019.csv', encoding='latin-1')\n",
    "data_2020 =pd.read_csv('/home/magickmichelle/Documentos/maestria2020_2021/taller_tesis/137/linea_137_violencia_sexual_llamados_intervenciones/llamados_atendidos_abuso_sexual_2020.csv', engine= 'python')\n",
    "data_2021 =pd.read_csv('/home/magickmichelle/Documentos/maestria2020_2021/taller_tesis/137/linea_137_violencia_sexual_llamados_intervenciones/llamados_atendidos_abuso_sexual_2021.csv', engine= 'python')"
   ]
  },
  {
   "cell_type": "markdown",
   "id": "28dcc0b5",
   "metadata": {},
   "source": [
    "## 1. Antes de concatenar todos los años\n",
    "\n",
    "1.1 Comparo los nombres de las columnas de cada año (para eso armo un df_columnas)"
   ]
  },
  {
   "cell_type": "code",
   "execution_count": 6,
   "id": "13d47501",
   "metadata": {},
   "outputs": [],
   "source": [
    "# Calling DataFrame constructor after zipping\n",
    "# both lists, with columns specified\n",
    "df_columnas = pd.DataFrame(list(zip(data_2017.columns, data_2018.columns, data_2019, data_2020.columns, data_2021.columns)),\n",
    "               columns =['2017', '2018', '2019', '2020', '2021'])\n",
    "#df_columnas"
   ]
  },
  {
   "cell_type": "markdown",
   "id": "855a2e5c",
   "metadata": {},
   "source": [
    "1.2 Lo primero que se nota es la inconsistencia de la variable caso_id que solo existe desde 2019. Quito la variable. "
   ]
  },
  {
   "cell_type": "code",
   "execution_count": 7,
   "id": "adf1d243",
   "metadata": {},
   "outputs": [],
   "source": [
    "data_2019.drop('caso_id',\n",
    "  axis='columns', inplace=True)\n",
    "data_2020.drop('caso_id',\n",
    "  axis='columns', inplace=True)\n",
    "data_2021.drop('caso_id',\n",
    "  axis='columns', inplace=True)\n"
   ]
  },
  {
   "cell_type": "code",
   "execution_count": 8,
   "id": "98dba4e6",
   "metadata": {},
   "outputs": [],
   "source": [
    "df_columnas = pd.DataFrame(list(zip(data_2017.columns, data_2018.columns, data_2019, data_2020.columns, data_2021.columns)),\n",
    "               columns =['2017', '2018', '2019', '2020', '2021'])\n",
    "# df_columnas"
   ]
  },
  {
   "cell_type": "code",
   "execution_count": 9,
   "id": "34e94390",
   "metadata": {},
   "outputs": [
    {
     "name": "stdout",
     "output_type": "stream",
     "text": [
      "[ True  True  True  True False  True  True  True  True  True  True  True\n",
      "  True  True  True  True  True  True  True  True  True  True  True  True\n",
      "  True  True  True  True  True  True  True  True  True  True  True  True\n",
      "  True  True  True  True  True  True  True  True  True  True  True  True\n",
      "  True  True  True  True  True False]\n",
      "[ True  True  True  True False  True  True  True  True  True  True  True\n",
      "  True  True  True  True  True  True  True  True  True  True  True  True\n",
      "  True  True  True  True  True  True  True  True  True  True  True  True\n",
      "  True  True  True  True  True  True  True  True  True  True  True  True\n",
      "  True  True  True  True  True False]\n",
      "[ True  True  True  True  True  True  True  True  True  True  True  True\n",
      "  True  True  True  True  True  True  True  True  True  True  True  True\n",
      "  True  True  True  True  True  True  True  True  True  True  True  True\n",
      "  True  True  True  True  True  True  True  True  True  True  True  True\n",
      "  True  True  True  True  True False]\n",
      "[ True  True  True  True  True  True  True  True  True  True  True  True\n",
      "  True  True  True  True  True  True  True  True  True  True  True  True\n",
      "  True  True  True  True  True  True  True  True  True  True  True  True\n",
      "  True  True  True  True  True  True  True  True  True  True  True  True\n",
      "  True  True  True  True  True  True]\n"
     ]
    }
   ],
   "source": [
    "print(data_2021.columns == data_2017.columns)\n",
    "print(data_2021.columns == data_2018.columns)\n",
    "print(data_2021.columns == data_2019.columns)\n",
    "print(data_2021.columns == data_2020.columns)\n"
   ]
  },
  {
   "cell_type": "markdown",
   "id": "1ccb0ef3",
   "metadata": {},
   "source": [
    "### cambios de nombres de columnas:\n",
    "2017 2018 llamante_quien_llama == llamante_vinculo\n",
    "\n",
    "2017 2018 2019 llamado_provincia_indec_id == llamado_provincia_id\n",
    "\n",
    "además separo fecha_hora y fecha y hora"
   ]
  },
  {
   "cell_type": "code",
   "execution_count": 10,
   "id": "1a15842b",
   "metadata": {},
   "outputs": [],
   "source": [
    "data_2017.rename(columns = {'llamante_quien_llama': 'llamante_vinculo', 'llamado_provincia_indec_id': 'llamado_provincia_id'}, inplace = True)\n",
    "data_2018.rename(columns = {'llamante_quien_llama': 'llamante_vinculo', 'llamado_provincia_indec_id': 'llamado_provincia_id'}, inplace = True)\n",
    "data_2019.rename(columns = {'llamado_provincia_indec_id': 'llamado_provincia_id'}, inplace = True)\n",
    "\n"
   ]
  },
  {
   "cell_type": "markdown",
   "id": "cf61e950",
   "metadata": {},
   "source": [
    "### Creación dataset a: unión de todos los años con arreglos de nombres de columnas"
   ]
  },
  {
   "cell_type": "code",
   "execution_count": 11,
   "id": "12652b77",
   "metadata": {},
   "outputs": [],
   "source": [
    "dataset_a = pd.concat([data_2017, data_2018, data_2019, data_2020, data_2021])\n"
   ]
  },
  {
   "cell_type": "code",
   "execution_count": 12,
   "id": "d87f5880",
   "metadata": {},
   "outputs": [],
   "source": [
    "dataset_a.to_excel('/home/magickmichelle/Documentos/maestria2020_2021/taller_tesis/137/linea_137_violencia_sexual_llamados_intervenciones/dataset_a.xlsx', index=False)\n"
   ]
  },
  {
   "cell_type": "code",
   "execution_count": 13,
   "id": "638293bb",
   "metadata": {},
   "outputs": [],
   "source": [
    "dataset_a['llamado_fecha'] = pd.to_datetime(dataset_a['llamado_fecha_hora']).dt.date\n",
    "dataset_a['llamado_hora'] = pd.to_datetime(dataset_a['llamado_fecha_hora']).dt.time"
   ]
  },
  {
   "cell_type": "code",
   "execution_count": 14,
   "id": "c27f40c3",
   "metadata": {
    "scrolled": true
   },
   "outputs": [
    {
     "data": {
      "text/html": [
       "<div>\n",
       "<style scoped>\n",
       "    .dataframe tbody tr th:only-of-type {\n",
       "        vertical-align: middle;\n",
       "    }\n",
       "\n",
       "    .dataframe tbody tr th {\n",
       "        vertical-align: top;\n",
       "    }\n",
       "\n",
       "    .dataframe thead th {\n",
       "        text-align: right;\n",
       "    }\n",
       "</style>\n",
       "<table border=\"1\" class=\"dataframe\">\n",
       "  <thead>\n",
       "    <tr style=\"text-align: right;\">\n",
       "      <th></th>\n",
       "      <th>llamado_fecha_hora</th>\n",
       "      <th>llamado_provincia</th>\n",
       "      <th>llamante_edad</th>\n",
       "      <th>llamante_genero</th>\n",
       "      <th>llamante_vinculo</th>\n",
       "      <th>caso_judicializado</th>\n",
       "      <th>hecho_lugar</th>\n",
       "      <th>victima_a_resguardo</th>\n",
       "      <th>victima_edad</th>\n",
       "      <th>victima_genero</th>\n",
       "      <th>...</th>\n",
       "      <th>ofv_uso_arma_fuego</th>\n",
       "      <th>ofv_enganio_seduccion</th>\n",
       "      <th>ofv_intento_matar</th>\n",
       "      <th>ofv_uso_animal_victimizar</th>\n",
       "      <th>ofv_grooming</th>\n",
       "      <th>ofv_otra_forma_violencia</th>\n",
       "      <th>ofv_no_sabe_no_contesta</th>\n",
       "      <th>llamado_provincia_id</th>\n",
       "      <th>llamado_fecha</th>\n",
       "      <th>llamado_hora</th>\n",
       "    </tr>\n",
       "  </thead>\n",
       "  <tbody>\n",
       "    <tr>\n",
       "      <th>0</th>\n",
       "      <td>2016-11-19 12:46:38</td>\n",
       "      <td>Misiones</td>\n",
       "      <td>30</td>\n",
       "      <td>Femenino</td>\n",
       "      <td>Hospital</td>\n",
       "      <td>NS/NC</td>\n",
       "      <td>Vivienda de la Víctima</td>\n",
       "      <td>SI</td>\n",
       "      <td>12</td>\n",
       "      <td>Femenino</td>\n",
       "      <td>...</td>\n",
       "      <td>NO</td>\n",
       "      <td>NO</td>\n",
       "      <td>NO</td>\n",
       "      <td>NO</td>\n",
       "      <td>NO</td>\n",
       "      <td>NO</td>\n",
       "      <td>NO</td>\n",
       "      <td>54.0</td>\n",
       "      <td>2016-11-19</td>\n",
       "      <td>12:46:38</td>\n",
       "    </tr>\n",
       "    <tr>\n",
       "      <th>1</th>\n",
       "      <td>2016-11-19 13:46:24</td>\n",
       "      <td>Ciudad Autónoma de Buenos Aires</td>\n",
       "      <td>Sin dato</td>\n",
       "      <td>Femenino</td>\n",
       "      <td>Madre</td>\n",
       "      <td>NS/NC</td>\n",
       "      <td>Vivienda de la Víctima</td>\n",
       "      <td>SI</td>\n",
       "      <td>11</td>\n",
       "      <td>Masculino</td>\n",
       "      <td>...</td>\n",
       "      <td>NO</td>\n",
       "      <td>NO</td>\n",
       "      <td>NO</td>\n",
       "      <td>NO</td>\n",
       "      <td>NO</td>\n",
       "      <td>SI</td>\n",
       "      <td>NO</td>\n",
       "      <td>2.0</td>\n",
       "      <td>2016-11-19</td>\n",
       "      <td>13:46:24</td>\n",
       "    </tr>\n",
       "    <tr>\n",
       "      <th>2</th>\n",
       "      <td>2016-11-19 18:20:08</td>\n",
       "      <td>Tucumán</td>\n",
       "      <td>47</td>\n",
       "      <td>Femenino</td>\n",
       "      <td>Víctima</td>\n",
       "      <td>NS/NC</td>\n",
       "      <td>Vivienda de la Víctima</td>\n",
       "      <td>SI</td>\n",
       "      <td>47</td>\n",
       "      <td>Femenino</td>\n",
       "      <td>...</td>\n",
       "      <td>NO</td>\n",
       "      <td>NO</td>\n",
       "      <td>NO</td>\n",
       "      <td>NO</td>\n",
       "      <td>NO</td>\n",
       "      <td>NO</td>\n",
       "      <td>NO</td>\n",
       "      <td>90.0</td>\n",
       "      <td>2016-11-19</td>\n",
       "      <td>18:20:08</td>\n",
       "    </tr>\n",
       "    <tr>\n",
       "      <th>3</th>\n",
       "      <td>2016-11-20 00:05:55</td>\n",
       "      <td>Santa Fé</td>\n",
       "      <td>Sin dato</td>\n",
       "      <td>Masculino</td>\n",
       "      <td>Vecino</td>\n",
       "      <td>NS/NC</td>\n",
       "      <td>Vivienda de la Víctima</td>\n",
       "      <td>NO</td>\n",
       "      <td>11</td>\n",
       "      <td>Femenino</td>\n",
       "      <td>...</td>\n",
       "      <td>NO</td>\n",
       "      <td>NO</td>\n",
       "      <td>NO</td>\n",
       "      <td>NO</td>\n",
       "      <td>NO</td>\n",
       "      <td>NO</td>\n",
       "      <td>NO</td>\n",
       "      <td>82.0</td>\n",
       "      <td>2016-11-20</td>\n",
       "      <td>00:05:55</td>\n",
       "    </tr>\n",
       "    <tr>\n",
       "      <th>4</th>\n",
       "      <td>2016-11-20 00:05:55</td>\n",
       "      <td>Santa Fé</td>\n",
       "      <td>Sin dato</td>\n",
       "      <td>Masculino</td>\n",
       "      <td>Vecino</td>\n",
       "      <td>NS/NC</td>\n",
       "      <td>Vivienda de la Víctima</td>\n",
       "      <td>NO</td>\n",
       "      <td>12</td>\n",
       "      <td>Femenino</td>\n",
       "      <td>...</td>\n",
       "      <td>NO</td>\n",
       "      <td>NO</td>\n",
       "      <td>NO</td>\n",
       "      <td>NO</td>\n",
       "      <td>NO</td>\n",
       "      <td>NO</td>\n",
       "      <td>NO</td>\n",
       "      <td>82.0</td>\n",
       "      <td>2016-11-20</td>\n",
       "      <td>00:05:55</td>\n",
       "    </tr>\n",
       "  </tbody>\n",
       "</table>\n",
       "<p>5 rows × 56 columns</p>\n",
       "</div>"
      ],
      "text/plain": [
       "    llamado_fecha_hora                llamado_provincia llamante_edad  \\\n",
       "0  2016-11-19 12:46:38                         Misiones            30   \n",
       "1  2016-11-19 13:46:24  Ciudad Autónoma de Buenos Aires      Sin dato   \n",
       "2  2016-11-19 18:20:08                          Tucumán            47   \n",
       "3  2016-11-20 00:05:55                         Santa Fé      Sin dato   \n",
       "4  2016-11-20 00:05:55                         Santa Fé      Sin dato   \n",
       "\n",
       "  llamante_genero llamante_vinculo caso_judicializado             hecho_lugar  \\\n",
       "0        Femenino         Hospital              NS/NC  Vivienda de la Víctima   \n",
       "1        Femenino            Madre              NS/NC  Vivienda de la Víctima   \n",
       "2        Femenino          Víctima              NS/NC  Vivienda de la Víctima   \n",
       "3       Masculino           Vecino              NS/NC  Vivienda de la Víctima   \n",
       "4       Masculino           Vecino              NS/NC  Vivienda de la Víctima   \n",
       "\n",
       "  victima_a_resguardo victima_edad victima_genero  ... ofv_uso_arma_fuego  \\\n",
       "0                  SI           12       Femenino  ...                 NO   \n",
       "1                  SI           11      Masculino  ...                 NO   \n",
       "2                  SI           47       Femenino  ...                 NO   \n",
       "3                  NO           11       Femenino  ...                 NO   \n",
       "4                  NO           12       Femenino  ...                 NO   \n",
       "\n",
       "  ofv_enganio_seduccion ofv_intento_matar ofv_uso_animal_victimizar  \\\n",
       "0                    NO                NO                        NO   \n",
       "1                    NO                NO                        NO   \n",
       "2                    NO                NO                        NO   \n",
       "3                    NO                NO                        NO   \n",
       "4                    NO                NO                        NO   \n",
       "\n",
       "  ofv_grooming ofv_otra_forma_violencia ofv_no_sabe_no_contesta  \\\n",
       "0           NO                       NO                      NO   \n",
       "1           NO                       SI                      NO   \n",
       "2           NO                       NO                      NO   \n",
       "3           NO                       NO                      NO   \n",
       "4           NO                       NO                      NO   \n",
       "\n",
       "  llamado_provincia_id llamado_fecha llamado_hora  \n",
       "0                 54.0    2016-11-19     12:46:38  \n",
       "1                  2.0    2016-11-19     13:46:24  \n",
       "2                 90.0    2016-11-19     18:20:08  \n",
       "3                 82.0    2016-11-20     00:05:55  \n",
       "4                 82.0    2016-11-20     00:05:55  \n",
       "\n",
       "[5 rows x 56 columns]"
      ]
     },
     "execution_count": 14,
     "metadata": {},
     "output_type": "execute_result"
    }
   ],
   "source": [
    "dataset_a.head()"
   ]
  },
  {
   "cell_type": "markdown",
   "id": "0115a2ed",
   "metadata": {},
   "source": [
    "### Creación del dataset_b, con fecha y hora separadas y con las columnas ordenadas de manera más intuitiva"
   ]
  },
  {
   "cell_type": "code",
   "execution_count": 15,
   "id": "f327f63c",
   "metadata": {},
   "outputs": [],
   "source": [
    "dataset_b = dataset_a[['llamado_fecha_hora', \n",
    "                                   'llamado_fecha', \n",
    "                                   'llamado_hora', \n",
    "                                   'llamado_provincia', \n",
    "                                   'llamado_provincia_id',\n",
    "                                   'llamante_edad',\n",
    "                                   'llamante_genero', \n",
    "                                   'llamante_vinculo', \n",
    "                                   'caso_judicializado',\n",
    "                                   'hecho_lugar', \n",
    "                                   'victima_a_resguardo', \n",
    "                                   'victima_edad', \n",
    "                                   'victima_genero',\n",
    "       'victima_nacionalidad', 'victima_vinculo_agresor',\n",
    "       'victima_discapacidad', 'victima_convive_agresor',\n",
    "       'vs_violacion_via_vaginal', 'vs_violacion_via_anal',\n",
    "       'vs_violacion_via_oral', 'vs_tentativa_violacion',\n",
    "       'vs_tocamiento_sexual', 'vs_intento_tocamiento',\n",
    "       'vs_Intento_violación_tercera_persona', 'vs_grooming',\n",
    "       'vs_exhibicionismo', 'vs_amenazas_verbales_contenido_sexual',\n",
    "       'vs_explotacion_sexual', 'vs_explotacion_sexual_comercial',\n",
    "       'vs_explotacion_sexual_viajes_turismo',\n",
    "       'vs_sospecha_trata_personas_fines_sexuales',\n",
    "       'vs_existencia_facilitador_corrupcion_nnya',\n",
    "       'vs_obligacion_sacarse_fotos_pornograficas',\n",
    "       'vs_eyaculacion_partes_cuerpo', 'vs_acoso_sexual',\n",
    "       'vs_iniciacion_sexual_forzada_inducida',\n",
    "       'vs_otra_forma_violencia_sexual', 'vs_no_sabe_no_contesta',\n",
    "       'ofv_sentimiento_amenaza', 'ofv_amenaza_explicita',\n",
    "       'ofv_violencia_fisica', 'ofv_intento_ahorcar', 'ofv_intento_quemar',\n",
    "       'ofv_intento_ahogar', 'ofv_amenaza_muerte',\n",
    "       'ofv_uso_sustancias_psicoactivas', 'ofv_intento_privacion_libertad',\n",
    "       'ofv_privacion_libertad', 'ofv_uso_arma_blanca', 'ofv_uso_arma_fuego',\n",
    "       'ofv_enganio_seduccion', 'ofv_intento_matar',\n",
    "       'ofv_uso_animal_victimizar', 'ofv_grooming', 'ofv_otra_forma_violencia',\n",
    "       'ofv_no_sabe_no_contesta']]\n"
   ]
  },
  {
   "cell_type": "code",
   "execution_count": 40,
   "id": "2cc1e229",
   "metadata": {},
   "outputs": [],
   "source": [
    "dataset_b.to_excel('/home/magickmichelle/Documentos/maestria2020_2021/taller_tesis/137/linea_137_violencia_sexual_llamados_intervenciones/dataset_b.xlsx', index=False)\n"
   ]
  },
  {
   "cell_type": "markdown",
   "id": "4e65894e",
   "metadata": {},
   "source": [
    "### Chequear el type de las variables\n",
    "\n",
    "(todos dan object menos id provincia que da integer)"
   ]
  },
  {
   "cell_type": "code",
   "execution_count": 59,
   "id": "af7815a0",
   "metadata": {},
   "outputs": [],
   "source": [
    "# dataset_a.dtypes"
   ]
  },
  {
   "cell_type": "code",
   "execution_count": 60,
   "id": "e5c94304",
   "metadata": {},
   "outputs": [],
   "source": [
    "# dataset_b.dtypes"
   ]
  },
  {
   "cell_type": "markdown",
   "id": "ddcd0fc1",
   "metadata": {},
   "source": [
    "### Pasar las columnas  a categorical "
   ]
  },
  {
   "cell_type": "code",
   "execution_count": 16,
   "id": "a5e0ca98",
   "metadata": {},
   "outputs": [],
   "source": [
    "dataset_c = dataset_b.copy(deep=True)"
   ]
  },
  {
   "cell_type": "code",
   "execution_count": 17,
   "id": "8b3eb3a8",
   "metadata": {},
   "outputs": [],
   "source": [
    "indexes = np.arange(12, 56) # armo un array con los índices de columnas categóricas que vienen después de la última de edad"
   ]
  },
  {
   "cell_type": "code",
   "execution_count": 18,
   "id": "9185ba54",
   "metadata": {},
   "outputs": [
    {
     "data": {
      "text/plain": [
       "array([12, 13, 14, 15, 16, 17, 18, 19, 20, 21, 22, 23, 24, 25, 26, 27, 28,\n",
       "       29, 30, 31, 32, 33, 34, 35, 36, 37, 38, 39, 40, 41, 42, 43, 44, 45,\n",
       "       46, 47, 48, 49, 50, 51, 52, 53, 54, 55])"
      ]
     },
     "execution_count": 18,
     "metadata": {},
     "output_type": "execute_result"
    }
   ],
   "source": [
    "indexes"
   ]
  },
  {
   "cell_type": "code",
   "execution_count": 19,
   "id": "8360b61a",
   "metadata": {},
   "outputs": [],
   "source": [
    "for i in indexes:\n",
    "    dataset_c.iloc[:, i] = dataset_c.iloc[:, i].astype('category')\n"
   ]
  },
  {
   "cell_type": "code",
   "execution_count": 79,
   "id": "836872d0",
   "metadata": {},
   "outputs": [
    {
     "data": {
      "text/plain": [
       "llamado_fecha_hora                             object\n",
       "llamado_fecha                                  object\n",
       "llamado_hora                                   object\n",
       "llamado_provincia                              object\n",
       "llamado_provincia_id                          float64\n",
       "llamante_edad                                  object\n",
       "llamante_genero                                object\n",
       "llamante_vinculo                               object\n",
       "caso_judicializado                             object\n",
       "hecho_lugar                                    object\n",
       "victima_a_resguardo                            object\n",
       "victima_edad                                   object\n",
       "victima_genero                               category\n",
       "victima_nacionalidad                         category\n",
       "victima_vinculo_agresor                      category\n",
       "victima_discapacidad                         category\n",
       "victima_convive_agresor                      category\n",
       "vs_violacion_via_vaginal                     category\n",
       "vs_violacion_via_anal                        category\n",
       "vs_violacion_via_oral                        category\n",
       "vs_tentativa_violacion                       category\n",
       "vs_tocamiento_sexual                         category\n",
       "vs_intento_tocamiento                        category\n",
       "vs_Intento_violación_tercera_persona         category\n",
       "vs_grooming                                  category\n",
       "vs_exhibicionismo                            category\n",
       "vs_amenazas_verbales_contenido_sexual        category\n",
       "vs_explotacion_sexual                        category\n",
       "vs_explotacion_sexual_comercial              category\n",
       "vs_explotacion_sexual_viajes_turismo         category\n",
       "vs_sospecha_trata_personas_fines_sexuales    category\n",
       "vs_existencia_facilitador_corrupcion_nnya    category\n",
       "vs_obligacion_sacarse_fotos_pornograficas    category\n",
       "vs_eyaculacion_partes_cuerpo                 category\n",
       "vs_acoso_sexual                              category\n",
       "vs_iniciacion_sexual_forzada_inducida        category\n",
       "vs_otra_forma_violencia_sexual               category\n",
       "vs_no_sabe_no_contesta                       category\n",
       "ofv_sentimiento_amenaza                      category\n",
       "ofv_amenaza_explicita                        category\n",
       "ofv_violencia_fisica                         category\n",
       "ofv_intento_ahorcar                          category\n",
       "ofv_intento_quemar                           category\n",
       "ofv_intento_ahogar                           category\n",
       "ofv_amenaza_muerte                           category\n",
       "ofv_uso_sustancias_psicoactivas              category\n",
       "ofv_intento_privacion_libertad               category\n",
       "ofv_privacion_libertad                       category\n",
       "ofv_uso_arma_blanca                          category\n",
       "ofv_uso_arma_fuego                           category\n",
       "ofv_enganio_seduccion                        category\n",
       "ofv_intento_matar                            category\n",
       "ofv_uso_animal_victimizar                    category\n",
       "ofv_grooming                                 category\n",
       "ofv_otra_forma_violencia                     category\n",
       "ofv_no_sabe_no_contesta                      category\n",
       "dtype: object"
      ]
     },
     "execution_count": 79,
     "metadata": {},
     "output_type": "execute_result"
    }
   ],
   "source": [
    "# ahora son todas category menos las que van del 0 al 11 que las voy a cambiar a mano\n",
    "dataset_c.dtypes"
   ]
  },
  {
   "cell_type": "markdown",
   "id": "1124f310",
   "metadata": {},
   "source": [
    "### Columnas a cambiar a mano:\n",
    "\n",
    "                                 \n",
    "- llamado_provincia\n",
    "- llamado_provincia_id                          \n",
    "- llamante_edad                                  \n",
    "- llamante_genero                                \n",
    "- llamante_vinculo                               \n",
    "- caso_judicializado                             \n",
    "- hecho_lugar                                    \n",
    "- victima_a_resguardo                            "
   ]
  },
  {
   "cell_type": "code",
   "execution_count": 20,
   "id": "aa731fd1",
   "metadata": {},
   "outputs": [],
   "source": [
    "# para las que están mezcladas (las que vienen antes del índice 12) las cambio a mano\n",
    "dataset_c = dataset_c.astype({'llamado_provincia': 'category','llamado_provincia_id': 'category',\n",
    "           'llamante_genero': 'category','llamante_vinculo': 'category',\n",
    "           'caso_judicializado': 'category','hecho_lugar' : 'category',\n",
    "           'victima_a_resguardo': 'category' })"
   ]
  },
  {
   "cell_type": "code",
   "execution_count": 21,
   "id": "6df9d70d",
   "metadata": {},
   "outputs": [
    {
     "data": {
      "text/plain": [
       "llamado_fecha_hora                             object\n",
       "llamado_fecha                                  object\n",
       "llamado_hora                                   object\n",
       "llamado_provincia                            category\n",
       "llamado_provincia_id                         category\n",
       "llamante_edad                                  object\n",
       "llamante_genero                              category\n",
       "llamante_vinculo                             category\n",
       "caso_judicializado                           category\n",
       "hecho_lugar                                  category\n",
       "victima_a_resguardo                          category\n",
       "victima_edad                                   object\n",
       "victima_genero                               category\n",
       "victima_nacionalidad                         category\n",
       "victima_vinculo_agresor                      category\n",
       "victima_discapacidad                         category\n",
       "victima_convive_agresor                      category\n",
       "vs_violacion_via_vaginal                     category\n",
       "vs_violacion_via_anal                        category\n",
       "vs_violacion_via_oral                        category\n",
       "vs_tentativa_violacion                       category\n",
       "vs_tocamiento_sexual                         category\n",
       "vs_intento_tocamiento                        category\n",
       "vs_Intento_violación_tercera_persona         category\n",
       "vs_grooming                                  category\n",
       "vs_exhibicionismo                            category\n",
       "vs_amenazas_verbales_contenido_sexual        category\n",
       "vs_explotacion_sexual                        category\n",
       "vs_explotacion_sexual_comercial              category\n",
       "vs_explotacion_sexual_viajes_turismo         category\n",
       "vs_sospecha_trata_personas_fines_sexuales    category\n",
       "vs_existencia_facilitador_corrupcion_nnya    category\n",
       "vs_obligacion_sacarse_fotos_pornograficas    category\n",
       "vs_eyaculacion_partes_cuerpo                 category\n",
       "vs_acoso_sexual                              category\n",
       "vs_iniciacion_sexual_forzada_inducida        category\n",
       "vs_otra_forma_violencia_sexual               category\n",
       "vs_no_sabe_no_contesta                       category\n",
       "ofv_sentimiento_amenaza                      category\n",
       "ofv_amenaza_explicita                        category\n",
       "ofv_violencia_fisica                         category\n",
       "ofv_intento_ahorcar                          category\n",
       "ofv_intento_quemar                           category\n",
       "ofv_intento_ahogar                           category\n",
       "ofv_amenaza_muerte                           category\n",
       "ofv_uso_sustancias_psicoactivas              category\n",
       "ofv_intento_privacion_libertad               category\n",
       "ofv_privacion_libertad                       category\n",
       "ofv_uso_arma_blanca                          category\n",
       "ofv_uso_arma_fuego                           category\n",
       "ofv_enganio_seduccion                        category\n",
       "ofv_intento_matar                            category\n",
       "ofv_uso_animal_victimizar                    category\n",
       "ofv_grooming                                 category\n",
       "ofv_otra_forma_violencia                     category\n",
       "ofv_no_sabe_no_contesta                      category\n",
       "dtype: object"
      ]
     },
     "execution_count": 21,
     "metadata": {},
     "output_type": "execute_result"
    }
   ],
   "source": [
    "dataset_c.dtypes"
   ]
  },
  {
   "cell_type": "markdown",
   "id": "76e16545",
   "metadata": {},
   "source": [
    "### valores numéricos: type integer\n",
    "\n",
    "- llamante edad as integer y sin datos = NA\n",
    "- victima edad as integer y sin datos = NA\n",
    "- provincia id as integer y sin datos = NA"
   ]
  },
  {
   "cell_type": "code",
   "execution_count": 22,
   "id": "c8f60246",
   "metadata": {},
   "outputs": [],
   "source": [
    "#dataset_b['victima_edad'] = pd.to_numeric(dataset_b['victima_edad'], errors='coerce')\n",
    "dataset_c['victima_edad'] = pd.to_numeric(dataset_c['victima_edad'], errors='coerce').convert_dtypes()\n",
    "#dataset_b['llamante_edad'] = pd.to_numeric(dataset_b['llamante_edad'], errors='coerce')\n",
    "dataset_c['llamante_edad'] = pd.to_numeric(dataset_c['llamante_edad'], errors='coerce').convert_dtypes() \n"
   ]
  },
  {
   "cell_type": "code",
   "execution_count": 23,
   "id": "debd1b58",
   "metadata": {},
   "outputs": [
    {
     "data": {
      "text/plain": [
       "0       12\n",
       "1       11\n",
       "2       47\n",
       "3       11\n",
       "4       12\n",
       "        ..\n",
       "3304     8\n",
       "3305    23\n",
       "3306    13\n",
       "3307    15\n",
       "3308     5\n",
       "Name: victima_edad, Length: 19143, dtype: Int64"
      ]
     },
     "execution_count": 23,
     "metadata": {},
     "output_type": "execute_result"
    }
   ],
   "source": [
    "dataset_c['victima_edad']"
   ]
  },
  {
   "cell_type": "code",
   "execution_count": 24,
   "id": "2f5e7e97",
   "metadata": {},
   "outputs": [
    {
     "data": {
      "text/plain": [
       "llamado_fecha_hora                             object\n",
       "llamado_fecha                                  object\n",
       "llamado_hora                                   object\n",
       "llamado_provincia                            category\n",
       "llamado_provincia_id                         category\n",
       "llamante_edad                                   Int64\n",
       "llamante_genero                              category\n",
       "llamante_vinculo                             category\n",
       "caso_judicializado                           category\n",
       "hecho_lugar                                  category\n",
       "victima_a_resguardo                          category\n",
       "victima_edad                                    Int64\n",
       "victima_genero                               category\n",
       "victima_nacionalidad                         category\n",
       "victima_vinculo_agresor                      category\n",
       "victima_discapacidad                         category\n",
       "victima_convive_agresor                      category\n",
       "vs_violacion_via_vaginal                     category\n",
       "vs_violacion_via_anal                        category\n",
       "vs_violacion_via_oral                        category\n",
       "vs_tentativa_violacion                       category\n",
       "vs_tocamiento_sexual                         category\n",
       "vs_intento_tocamiento                        category\n",
       "vs_Intento_violación_tercera_persona         category\n",
       "vs_grooming                                  category\n",
       "vs_exhibicionismo                            category\n",
       "vs_amenazas_verbales_contenido_sexual        category\n",
       "vs_explotacion_sexual                        category\n",
       "vs_explotacion_sexual_comercial              category\n",
       "vs_explotacion_sexual_viajes_turismo         category\n",
       "vs_sospecha_trata_personas_fines_sexuales    category\n",
       "vs_existencia_facilitador_corrupcion_nnya    category\n",
       "vs_obligacion_sacarse_fotos_pornograficas    category\n",
       "vs_eyaculacion_partes_cuerpo                 category\n",
       "vs_acoso_sexual                              category\n",
       "vs_iniciacion_sexual_forzada_inducida        category\n",
       "vs_otra_forma_violencia_sexual               category\n",
       "vs_no_sabe_no_contesta                       category\n",
       "ofv_sentimiento_amenaza                      category\n",
       "ofv_amenaza_explicita                        category\n",
       "ofv_violencia_fisica                         category\n",
       "ofv_intento_ahorcar                          category\n",
       "ofv_intento_quemar                           category\n",
       "ofv_intento_ahogar                           category\n",
       "ofv_amenaza_muerte                           category\n",
       "ofv_uso_sustancias_psicoactivas              category\n",
       "ofv_intento_privacion_libertad               category\n",
       "ofv_privacion_libertad                       category\n",
       "ofv_uso_arma_blanca                          category\n",
       "ofv_uso_arma_fuego                           category\n",
       "ofv_enganio_seduccion                        category\n",
       "ofv_intento_matar                            category\n",
       "ofv_uso_animal_victimizar                    category\n",
       "ofv_grooming                                 category\n",
       "ofv_otra_forma_violencia                     category\n",
       "ofv_no_sabe_no_contesta                      category\n",
       "dtype: object"
      ]
     },
     "execution_count": 24,
     "metadata": {},
     "output_type": "execute_result"
    }
   ],
   "source": [
    "dataset_c.dtypes"
   ]
  },
  {
   "cell_type": "code",
   "execution_count": 85,
   "id": "1f821ae2",
   "metadata": {},
   "outputs": [],
   "source": [
    "dataset_c.to_excel('/home/magickmichelle/Documentos/maestria2020_2021/taller_tesis/137/linea_137_violencia_sexual_llamados_intervenciones/dataset_c.xlsx', index=False)\n"
   ]
  },
  {
   "cell_type": "code",
   "execution_count": 25,
   "id": "8b0ca5c0",
   "metadata": {},
   "outputs": [],
   "source": [
    "dataset_d = dataset_c.copy(deep=True)"
   ]
  },
  {
   "cell_type": "markdown",
   "id": "d158c5af",
   "metadata": {},
   "source": [
    "##  Normalizaciones de errores en carga de datos\n",
    "\n",
    "- ver todas las cat: llamado_provincia, llamante_vinculo, hecho_lugar, victima_nacionalidad, victima_vinculo_agresor\n",
    "\n",
    "- en todo el dataset Ns/Nc = NS/NC\n",
    "- llamante_edad Sin dato pasar a N/A\n",
    "- llamante género: Masculino = Masculino Trans = Transgénero\n",
    "- llamante vinculo Vecino = Vecina/o ' Madre' = 'Madre'\n",
    "- caso judicializado 'NS/NS' = 'NS/NC' 'Sin datos' = 'NS/NC'\n",
    "- victima_a_resguardo No = NO\n",
    "- victima_genero Trans = Transgénero\n",
    "- victima_vinculo_agresor 'Pareja de la vícitma' = 'Pareja de la víctima' 'Pareja ' = 'Pareja de la víctima'  Ex pareja = Ex pareja de la víctima\n",
    "- hecho_lugar Otro(Especificar en observaciones) = Otro \n",
    "- llamado_provincia: 'Ciudad Autónoma de Buenos Aires' = 'CABA'\n",
    "- llamado_provincia: 'Santa Fé' = 'Santa Fe'\n"
   ]
  },
  {
   "cell_type": "code",
   "execution_count": 26,
   "id": "0cfdf55b",
   "metadata": {},
   "outputs": [],
   "source": [
    "dataset_d.llamante_genero.replace({' Masculino':'Masculino', 'Trans':'Transgénero'}, inplace = True)\n",
    "dataset_d.llamante_vinculo.replace({'Vecino': 'Vecina/o', ' Madre':'Madre'}, inplace = True)\n",
    "dataset_d.victima_a_resguardo.replace({'No': 'NO'}, inplace = True)\n",
    "dataset_d.victima_genero.replace({'Trans': 'Transgénero'}, inplace = True)\n",
    "dataset_d.victima_vinculo_agresor.replace({'Pareja de la vícitma': 'Pareja de la víctima', 'Pareja ': 'Pareja de la víctima','Pareja': 'Pareja de la víctima', 'Ex pareja': 'Ex pareja de la víctima'}, inplace = True)\n",
    "dataset_d.hecho_lugar.replace({'Otro(Especificar en observaciones)': 'Otro' }, inplace = True)\n",
    "dataset_d.caso_judicializado.replace({'NS/NS': 'NS/NC', 'Sin datos':'NS/NC'}, inplace = True)\n",
    "dataset_d.llamado_provincia.replace({'Ciudad Autónoma de Buenos Aires': 'CABA'}, inplace = True)\n",
    "dataset_d.llamado_provincia.replace({'Santa Fé': 'Santa Fe'}, inplace = True)\n",
    "dataset_d.replace('Ns/Nc', 'NS/NC', inplace=True)"
   ]
  },
  {
   "cell_type": "markdown",
   "id": "1b9d2158",
   "metadata": {},
   "source": [
    "## Outliers de error de carga"
   ]
  },
  {
   "cell_type": "code",
   "execution_count": 27,
   "id": "26d7fc28",
   "metadata": {},
   "outputs": [],
   "source": [
    "dataset_d['llamante_edad'].loc[(dataset_d['llamante_edad'] >= 100)] = None\n",
    "dataset_d['llamante_edad'].loc[(dataset_d['llamante_edad'] < 3)] = None"
   ]
  },
  {
   "cell_type": "code",
   "execution_count": 28,
   "id": "c5988695",
   "metadata": {},
   "outputs": [],
   "source": [
    "dataset_d['victima_edad'].loc[(dataset_d['victima_edad'] >= 103)] = None\n",
    "dataset_d['victima_edad'].loc[(dataset_d['victima_edad'] < 0)] = None\n",
    "# el límite para abajo solo es negativo"
   ]
  },
  {
   "cell_type": "code",
   "execution_count": 29,
   "id": "58aea6e2",
   "metadata": {},
   "outputs": [
    {
     "data": {
      "text/plain": [
       "0       12\n",
       "1       11\n",
       "2       47\n",
       "3       11\n",
       "4       12\n",
       "        ..\n",
       "3304     8\n",
       "3305    23\n",
       "3306    13\n",
       "3307    15\n",
       "3308     5\n",
       "Name: victima_edad, Length: 19143, dtype: Int64"
      ]
     },
     "execution_count": 29,
     "metadata": {},
     "output_type": "execute_result"
    }
   ],
   "source": [
    "dataset_d['victima_edad']"
   ]
  },
  {
   "cell_type": "code",
   "execution_count": 30,
   "id": "655572ec",
   "metadata": {},
   "outputs": [
    {
     "data": {
      "text/plain": [
       "8580"
      ]
     },
     "execution_count": 30,
     "metadata": {},
     "output_type": "execute_result"
    }
   ],
   "source": [
    "dataset_d['llamante_edad'].isnull().sum()"
   ]
  },
  {
   "cell_type": "code",
   "execution_count": 92,
   "id": "3d6aeeba",
   "metadata": {},
   "outputs": [],
   "source": [
    "# guardo normalizado\n",
    "\n",
    "dataset_d.to_excel('/home/magickmichelle/Documentos/maestria2020_2021/taller_tesis/137/linea_137_violencia_sexual_llamados_intervenciones/dataset_d_normf.xlsx', index=False)\n"
   ]
  },
  {
   "cell_type": "code",
   "execution_count": null,
   "id": "d622919a",
   "metadata": {},
   "outputs": [],
   "source": [
    "# volver a levantar especificando dtype:\n",
    "# guardo y levanto de nuevo como categorical\n",
    "llamados_entero = pd.read_excel('/home/magickmichelle/Documentos/maestria2020_2021/taller_tesis/137/linea_137_violencia_sexual_llamados_intervenciones/dataset_d_normf.xlsx',\n",
    "                               dtype= {'llamado_fecha_hora': 'datetime64[ns]','llamado_fecha': 'datetime64[ns]','llamado_hora': 'datetime64[ns]', 'llamado_provincia': 'category','llamado_provincia_id': 'category','llamante_edad': 'Int64','llamante_genero': 'category','llamante_vinculo': 'category','caso_judicializado': 'category','hecho_lugar': 'category','victima_a_resguardo': 'category','victima_edad': 'Int64','victima_genero': 'category','victima_nacionalidad': 'category','victima_vinculo_agresor': 'category','victima_discapacidad': 'category','victima_convive_agresor': 'category','vs_violacion_via_vaginal': 'category','vs_violacion_via_anal': 'category','vs_violacion_via_oral': 'category','vs_tentativa_violacion': 'category','vs_tocamiento_sexual': 'category','vs_intento_tocamiento': 'category','vs_Intento_violación_tercera_persona': 'category','vs_grooming': 'category','vs_exhibicionismo': 'category','vs_amenazas_verbales_contenido_sexual': 'category','vs_explotacion_sexual': 'category','vs_explotacion_sexual_comercial': 'category','vs_explotacion_sexual_viajes_turismo': 'category','vs_sospecha_trata_personas_fines_sexuales': 'category','vs_existencia_facilitador_corrupcion_nnya': 'category','vs_obligacion_sacarse_fotos_pornograficas': 'category','vs_eyaculacion_partes_cuerpo': 'category','vs_acoso_sexual': 'category','vs_iniciacion_sexual_forzada_inducida': 'category','vs_otra_forma_violencia_sexual': 'category','vs_no_sabe_no_contesta': 'category','ofv_sentimiento_amenaza': 'category','ofv_amenaza_explicita': 'category','ofv_violencia_fisica': 'category','ofv_intento_ahorcar': 'category','ofv_intento_quemar': 'category','ofv_intento_ahogar': 'category','ofv_amenaza_muerte': 'category','ofv_uso_sustancias_psicoactivas': 'category','ofv_intento_privacion_libertad': 'category','ofv_privacion_libertad': 'category','ofv_uso_arma_blanca': 'category','ofv_uso_arma_fuego': 'category','ofv_enganio_seduccion': 'category','ofv_intento_matar': 'category','ofv_uso_animal_victimizar': 'category','ofv_grooming': 'category','ofv_otra_forma_violencia': 'category','ofv_no_sabe_no_contesta': 'category'})"
   ]
  }
 ],
 "metadata": {
  "kernelspec": {
   "display_name": "Python 3 (ipykernel)",
   "language": "python",
   "name": "python3"
  },
  "language_info": {
   "codemirror_mode": {
    "name": "ipython",
    "version": 3
   },
   "file_extension": ".py",
   "mimetype": "text/x-python",
   "name": "python",
   "nbconvert_exporter": "python",
   "pygments_lexer": "ipython3",
   "version": "3.8.12"
  }
 },
 "nbformat": 4,
 "nbformat_minor": 5
}
