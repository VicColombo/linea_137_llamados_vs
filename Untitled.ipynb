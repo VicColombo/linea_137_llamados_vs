{
 "cells": [
  {
   "cell_type": "code",
   "execution_count": null,
   "id": "cd7bc7b1",
   "metadata": {},
   "outputs": [],
   "source": [
    "llamados= pd.read_excel('dataset_d_normf.xlsx',\n",
    "                        dtype= {'llamado_fecha_hora': 'datetime64[ns]','llamado_fecha': 'datetime64[ns]',\n",
    "                                'llamado_provincia': 'category','llamado_provincia_id': 'category',\n",
    "                                'llamante_edad': 'Int64','llamante_genero': 'category','llamante_vinculo': 'category',\n",
    "                                'caso_judicializado': 'category','hecho_lugar': 'category',\n",
    "                                'victima_a_resguardo': 'category','victima_edad': 'Int64',\n",
    "                                'victima_genero': 'category','victima_nacionalidad': 'category',\n",
    "                                'victima_vinculo_agresor': 'category','victima_discapacidad': 'category',\n",
    "                                'victima_convive_agresor': 'category','vs_violacion_via_vaginal': 'category',\n",
    "                                'vs_violacion_via_anal': 'category','vs_violacion_via_oral': 'category',\n",
    "                                'vs_tentativa_violacion': 'category','vs_tocamiento_sexual': 'category',\n",
    "                                'vs_intento_tocamiento': 'category','vs_Intento_violación_tercera_persona': 'category',\n",
    "                                'vs_grooming': 'category','vs_exhibicionismo': 'category',\n",
    "                                'vs_amenazas_verbales_contenido_sexual': 'category','vs_explotacion_sexual': 'category',\n",
    "                                'vs_explotacion_sexual_comercial': 'category',\n",
    "                                'vs_explotacion_sexual_viajes_turismo': 'category',\n",
    "                                'vs_sospecha_trata_personas_fines_sexuales': 'category',\n",
    "                                'vs_existencia_facilitador_corrupcion_nnya': 'category',\n",
    "                                'vs_obligacion_sacarse_fotos_pornograficas': 'category',\n",
    "                                'vs_eyaculacion_partes_cuerpo': 'category','vs_acoso_sexual': 'category',\n",
    "                                'vs_iniciacion_sexual_forzada_inducida': 'category',\n",
    "                                'vs_otra_forma_violencia_sexual': 'category','vs_no_sabe_no_contesta': 'category',\n",
    "                                'ofv_sentimiento_amenaza': 'category','ofv_amenaza_explicita': 'category',\n",
    "                                'ofv_violencia_fisica': 'category','ofv_intento_ahorcar': 'category',\n",
    "                                'ofv_intento_quemar': 'category','ofv_intento_ahogar': 'category',\n",
    "                                'ofv_amenaza_muerte': 'category','ofv_uso_sustancias_psicoactivas': 'category',\n",
    "                                'ofv_intento_privacion_libertad': 'category','ofv_privacion_libertad': 'category',\n",
    "                                'ofv_uso_arma_blanca': 'category','ofv_uso_arma_fuego': 'category',\n",
    "                                'ofv_enganio_seduccion': 'category','ofv_intento_matar': 'category',\n",
    "                                'ofv_uso_animal_victimizar': 'category','ofv_grooming': 'category',\n",
    "                                'ofv_otra_forma_violencia': 'category','ofv_no_sabe_no_contesta': 'category'})"
   ]
  }
 ],
 "metadata": {
  "kernelspec": {
   "display_name": "Python 3 (ipykernel)",
   "language": "python",
   "name": "python3"
  },
  "language_info": {
   "codemirror_mode": {
    "name": "ipython",
    "version": 3
   },
   "file_extension": ".py",
   "mimetype": "text/x-python",
   "name": "python",
   "nbconvert_exporter": "python",
   "pygments_lexer": "ipython3",
   "version": "3.8.12"
  }
 },
 "nbformat": 4,
 "nbformat_minor": 5
}
