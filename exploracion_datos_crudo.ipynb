{
 "cells": [
  {
   "cell_type": "code",
   "execution_count": null,
   "id": "052952a8",
   "metadata": {},
   "outputs": [],
   "source": [
    "import pandas as pd\n",
    "import seaborn as sns\n",
    "import matplotlib.pyplot as plt\n",
    "import numpy as np"
   ]
  },
  {
   "cell_type": "code",
   "execution_count": null,
   "id": "92cf8f21",
   "metadata": {},
   "outputs": [],
   "source": [
    "data_2017 = pd.read_csv('/home/magickmichelle/Documentos/maestria2020_2021/taller_tesis/137/linea_137_violencia_sexual_llamados_intervenciones/llamados_atendidos_abuso_sexual_2017.csv',  engine= 'python')\n",
    "data_2018 = pd.read_csv('/home/magickmichelle/Documentos/maestria2020_2021/taller_tesis/137/linea_137_violencia_sexual_llamados_intervenciones/llamados_atendidos_abuso_sexual_2018.csv', engine= 'python')\n",
    "data_2019 =pd.read_csv('/home/magickmichelle/Documentos/maestria2020_2021/taller_tesis/137/linea_137_violencia_sexual_llamados_intervenciones/llamados_atendidos_abuso_sexual_2019.csv', encoding='latin-1')\n",
    "data_2020 =pd.read_csv('/home/magickmichelle/Documentos/maestria2020_2021/taller_tesis/137/linea_137_violencia_sexual_llamados_intervenciones/llamados_atendidos_abuso_sexual_2020.csv', engine= 'python')\n",
    "data_2021 =pd.read_csv('/home/magickmichelle/Documentos/maestria2020_2021/taller_tesis/137/linea_137_violencia_sexual_llamados_intervenciones/llamados_atendidos_abuso_sexual_2021.csv', engine= 'python')"
   ]
  },
  {
   "cell_type": "code",
   "execution_count": null,
   "id": "b93c80c3",
   "metadata": {},
   "outputs": [],
   "source": [
    "## pasar esta celda a la notebook de exploración\n",
    "\n",
    "data_2017.head()"
   ]
  },
  {
   "cell_type": "code",
   "execution_count": null,
   "id": "fd2b93e2",
   "metadata": {},
   "outputs": [],
   "source": [
    "data_2017['llamante_edad'].value_counts()\n",
    "data_2018['llamante_edad'].value_counts()\n",
    "data_2019['llamante_edad'].value_counts()\n",
    "data_2020['llamante_edad'].value_counts()\n",
    "data_2021['llamante_edad'].value_counts()\n"
   ]
  }
 ],
 "metadata": {
  "kernelspec": {
   "display_name": "Python 3 (ipykernel)",
   "language": "python",
   "name": "python3"
  },
  "language_info": {
   "codemirror_mode": {
    "name": "ipython",
    "version": 3
   },
   "file_extension": ".py",
   "mimetype": "text/x-python",
   "name": "python",
   "nbconvert_exporter": "python",
   "pygments_lexer": "ipython3",
   "version": "3.8.12"
  }
 },
 "nbformat": 4,
 "nbformat_minor": 5
}
