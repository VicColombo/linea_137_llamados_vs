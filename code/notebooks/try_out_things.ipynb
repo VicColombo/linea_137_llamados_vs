{
 "cells": [
  {
   "cell_type": "code",
   "execution_count": 1,
   "metadata": {},
   "outputs": [],
   "source": [
    "import pandas as pd\n",
    "import os\n",
    "import gower"
   ]
  },
  {
   "cell_type": "code",
   "execution_count": 58,
   "metadata": {},
   "outputs": [],
   "source": [
    "llamados_v4 = pd.read_excel('/home/vcolombo/Documents/Vic/linea_137_llamados_vs/datasets/xlsx/llamados_v4.xlsx')\n"
   ]
  },
  {
   "cell_type": "code",
   "execution_count": 59,
   "metadata": {},
   "outputs": [],
   "source": [
    "columnas_pocos_si = []\n",
    "for i in llamados_v4:\n",
    "    if (llamados_v4[i]== 'SI').sum() < 191:\n",
    "        columnas_pocos_si.append(i)\n",
    "\n",
    "\n",
    "\n",
    "    \n",
    "vs = list(llamados_v4.loc[:, llamados_v4.columns.str.startswith('vs')].columns)\n",
    "ofv = list(llamados_v4.loc[:, llamados_v4.columns.str.startswith('ofv')].columns)\n",
    "\n",
    "for i in vs:\n",
    "    if i in columnas_pocos_si:\n",
    "        llamados_v4.drop(i, axis=1, inplace=True)\n",
    "\n",
    "for i in ofv:\n",
    "    if i in columnas_pocos_si:\n",
    "        llamados_v4.drop(i, axis=1, inplace=True)    "
   ]
  },
  {
   "cell_type": "code",
   "execution_count": 60,
   "metadata": {},
   "outputs": [
    {
     "data": {
      "text/plain": [
       "Index(['llamado_fecha_hora', 'llamado_provincia', 'llamante_edad',\n",
       "       'llamante_genero', 'llamante_vinculo', 'caso_judicializado',\n",
       "       'hecho_lugar', 'victima_a_resguardo', 'victima_edad', 'victima_genero',\n",
       "       'victima_nacionalidad', 'victima_vinculo_agresor',\n",
       "       'victima_discapacidad', 'victima_convive_agresor',\n",
       "       'vs_violacion_via_vaginal', 'vs_violacion_via_anal',\n",
       "       'vs_violacion_via_oral', 'vs_tentativa_violacion',\n",
       "       'vs_tocamiento_sexual', 'vs_intento_tocamiento', 'vs_grooming',\n",
       "       'vs_exhibicionismo', 'vs_explotacion_sexual',\n",
       "       'vs_obligacion_sacarse_fotos_pornograficas', 'vs_acoso_sexual',\n",
       "       'vs_iniciacion_sexual_forzada_inducida',\n",
       "       'vs_otra_forma_violencia_sexual', 'vs_no_sabe_no_contesta',\n",
       "       'ofv_sentimiento_amenaza', 'ofv_amenaza_explicita',\n",
       "       'ofv_violencia_fisica', 'ofv_enganio_seduccion', 'ofv_grooming',\n",
       "       'ofv_otra_forma_violencia', 'ofv_no_sabe_no_contesta',\n",
       "       'agresor_fam_no_fam', 'genero_agresor', 'agresor_conocido_no_conocido',\n",
       "       'tipo_vinculo_llamante', 'vs_explotacion_sexual_group',\n",
       "       'vs_violacion_group', 'vs_tentativa_group'],\n",
       "      dtype='object')"
      ]
     },
     "execution_count": 60,
     "metadata": {},
     "output_type": "execute_result"
    }
   ],
   "source": [
    "llamados_v4.columns"
   ]
  },
  {
   "cell_type": "code",
   "execution_count": 2,
   "metadata": {},
   "outputs": [
    {
     "data": {
      "text/plain": [
       "Index(['llamado_fecha_hora', 'llamado_provincia', 'llamante_edad',\n",
       "       'llamante_genero', 'llamante_vinculo', 'caso_judicializado',\n",
       "       'hecho_lugar', 'victima_a_resguardo', 'victima_edad', 'victima_genero',\n",
       "       'victima_nacionalidad', 'victima_vinculo_agresor',\n",
       "       'victima_discapacidad', 'victima_convive_agresor',\n",
       "       'vs_violacion_via_vaginal', 'vs_violacion_via_anal',\n",
       "       'vs_violacion_via_oral', 'vs_tentativa_violacion',\n",
       "       'vs_tocamiento_sexual', 'vs_intento_tocamiento', 'vs_grooming',\n",
       "       'vs_exhibicionismo', 'vs_explotacion_sexual',\n",
       "       'vs_obligacion_sacarse_fotos_pornograficas', 'vs_acoso_sexual',\n",
       "       'vs_iniciacion_sexual_forzada_inducida',\n",
       "       'vs_otra_forma_violencia_sexual', 'vs_no_sabe_no_contesta',\n",
       "       'ofv_sentimiento_amenaza', 'ofv_amenaza_explicita',\n",
       "       'ofv_violencia_fisica', 'ofv_enganio_seduccion', 'ofv_grooming',\n",
       "       'ofv_otra_forma_violencia', 'ofv_no_sabe_no_contesta',\n",
       "       'agresor_fam_no_fam', 'genero_agresor', 'agresor_conocido_no_conocido',\n",
       "       'tipo_vinculo_llamante', 'vs_explotacion_sexual_group',\n",
       "       'vs_violacion_group', 'vs_tentativa_group'],\n",
       "      dtype='object')"
      ]
     },
     "execution_count": 2,
     "metadata": {},
     "output_type": "execute_result"
    }
   ],
   "source": [
    "llamados_v5= pd.read_excel('/home/vcolombo/Documents/Vic/linea_137_llamados_vs/datasets/xlsx/llamados_v5.xlsx')\n",
    "llamados_v5.columns"
   ]
  }
 ],
 "metadata": {
  "kernelspec": {
   "display_name": "Python 3",
   "language": "python",
   "name": "python3"
  },
  "language_info": {
   "codemirror_mode": {
    "name": "ipython",
    "version": 3
   },
   "file_extension": ".py",
   "mimetype": "text/x-python",
   "name": "python",
   "nbconvert_exporter": "python",
   "pygments_lexer": "ipython3",
   "version": "3.10.12"
  }
 },
 "nbformat": 4,
 "nbformat_minor": 2
}
