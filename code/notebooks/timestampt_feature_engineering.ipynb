{
 "cells": [
  {
   "cell_type": "code",
   "execution_count": 1,
   "metadata": {},
   "outputs": [],
   "source": [
    "import numpy as np\n",
    "import os\n",
    "import pandas as pd\n"
   ]
  },
  {
   "cell_type": "code",
   "execution_count": 2,
   "metadata": {},
   "outputs": [],
   "source": [
    "dataset_dir = os.path.join(os.path.dirname(os.path.dirname(os.path.abspath(''))), 'datasets')"
   ]
  },
  {
   "cell_type": "code",
   "execution_count": 40,
   "metadata": {},
   "outputs": [],
   "source": [
    "llamados_v2= pd.read_excel(os.path.join(dataset_dir, 'xlsx/llamados_v2.xlsx'), parse_dates=['llamado_fecha_hora'])\n"
   ]
  },
  {
   "cell_type": "code",
   "execution_count": 8,
   "metadata": {},
   "outputs": [
    {
     "data": {
      "text/plain": [
       "dtype('<M8[ns]')"
      ]
     },
     "execution_count": 8,
     "metadata": {},
     "output_type": "execute_result"
    }
   ],
   "source": [
    "llamados_v2.llamado_fecha_hora.dtype\n"
   ]
  },
  {
   "cell_type": "code",
   "execution_count": 41,
   "metadata": {},
   "outputs": [],
   "source": [
    "# día de la semana\n",
    "llamados_v2['dia_de_la_semana'] = llamados_v2['llamado_fecha_hora'].dt.day_of_week\n",
    "\n"
   ]
  },
  {
   "cell_type": "code",
   "execution_count": null,
   "metadata": {},
   "outputs": [],
   "source": [
    "# fin de semana\n",
    "llamados_v2['fin_de_semana'] = np.where(llamados_v2['dia_de_la_semana'].isin([5,6]), 1,0)\n",
    "llamados_v2[['llamado_fecha_hora','dia_de_la_semana','fin_de_semana']]"
   ]
  },
  {
   "cell_type": "code",
   "execution_count": null,
   "metadata": {},
   "outputs": [],
   "source": [
    "# momento del día mañana, mediodía, tarde, noche, madrugada c la hora\n",
    "\n",
    "def day_part(hour):\n",
    "    if hour in [6,7,8,9,10,11]:\n",
    "        return \"mañana\"\n",
    "    elif hour in [12,13]:\n",
    "        return \"mediodía\"\n",
    "    elif hour in [14,15,16,17,18,19]:\n",
    "        return \"tarde\"\n",
    "    elif hour in [20,21,22,23,0]:\n",
    "        return \"noche\"\n",
    "    elif hour in [1,2,3,4]:\n",
    "        return \"madrugada\"\n",
    "   \n",
    "# utilize it along with apply method\n",
    "llamados_v2['llamado_hora'] = llamados_v2['llamado_fecha_hora'].dt.hour\n",
    "llamados_v2['momento_dia'] = llamados_v2['llamado_hora'].apply(day_part)\n",
    "llamados_v2.head()\n",
    "\n"
   ]
  },
  {
   "cell_type": "code",
   "execution_count": 51,
   "metadata": {},
   "outputs": [],
   "source": [
    "verano_empieza = pd.to_datetime(\"12-21\", format=\"%m-%d\").dayofyear\n",
    "otoño_empieza = pd.to_datetime(\"03-21\", format=\"%m-%d\").dayofyear\n",
    "invierno_empieza = pd.to_datetime(\"06-21\", format=\"%m-%d\").dayofyear\n",
    "primavera_empieza = pd.to_datetime(\"09-21\", format=\"%m-%d\").dayofyear\n",
    "\n",
    "for index, date in llamados_v2[\"llamado_fecha_hora\"].items():\n",
    "    if (date.dayofyear >= verano_empieza) or (date.dayofyear < otoño_empieza):\n",
    "        llamados_v2.at[index, \"estacion_del_año\"] = \"Verano\"\n",
    "    elif (date.dayofyear >= otoño_empieza) and (date.dayofyear < invierno_empieza):\n",
    "        llamados_v2.at[index, \"estacion_del_año\"] = \"Otoño\"\n",
    "    elif (date.dayofyear >= invierno_empieza) and (date.dayofyear < primavera_empieza):\n",
    "        llamados_v2.at[index, \"estacion_del_año\"] = \"Invierno\"\n",
    "    else:\n",
    "        llamados_v2.at[index, \"estacion_del_año\"] = \"Primavera\""
   ]
  }
 ],
 "metadata": {
  "kernelspec": {
   "display_name": "tpenv",
   "language": "python",
   "name": "python3"
  },
  "language_info": {
   "codemirror_mode": {
    "name": "ipython",
    "version": 3
   },
   "file_extension": ".py",
   "mimetype": "text/x-python",
   "name": "python",
   "nbconvert_exporter": "python",
   "pygments_lexer": "ipython3",
   "version": "3.9.6"
  }
 },
 "nbformat": 4,
 "nbformat_minor": 2
}
