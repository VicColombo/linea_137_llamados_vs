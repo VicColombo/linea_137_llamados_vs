{
 "cells": [
  {
   "cell_type": "code",
   "execution_count": 1,
   "id": "812788b3",
   "metadata": {},
   "outputs": [],
   "source": [
    "import sys\n",
    "import os\n",
    "# hardcodeo de paths\n",
    "sys.path.append(os.path.dirname(os.path.abspath('')))\n",
    "dataset_dir = os.path.join(os.path.dirname(os.path.dirname(os.path.abspath(''))), 'datasets')\n",
    "\n",
    "import pickle\n",
    "import pandas as pd\n",
    "import numpy as np\n",
    "import gower\n",
    "\n",
    "# for sickit gower:\n",
    "# para sickit gower necesito hacer one hot encoding y además llenar todos los NA porque no los soporta\n",
    "\n",
    "#from sklearn.metrics import pairwise_distances\n",
    "#import scipy.sparse as sp\n",
    "#import warnings\n",
    "#from numpy.core.numeric import ComplexWarning\n",
    "#from scipy.spatial import distance\n",
    "#from scipy.sparse import csr_matrix\n",
    "#from scipy.sparse import issparse\n",
    "\n",
    "from sklearn.manifold import MDS\n",
    "\n",
    "from matplotlib import pyplot as plt\n",
    "import seaborn as sns         \n",
    "from matplotlib.offsetbox import OffsetImage, AnnotationBbox\n"
   ]
  },
  {
   "cell_type": "code",
   "execution_count": 2,
   "id": "067f688c",
   "metadata": {},
   "outputs": [],
   "source": [
    "llamados= pd.read_excel(os.path.join(dataset_dir, 'xlsx/llamados_group_I.xlsx'))\n"
   ]
  },
  {
   "cell_type": "code",
   "execution_count": 3,
   "id": "bc1d3a0c",
   "metadata": {},
   "outputs": [],
   "source": [
    "# droppear las variables que están agrupadas en otras, fecha y hora separadas y provincia id\n",
    "\n",
    "llamados.drop(['vs_explotacion_sexual','vs_explotacion_sexual_comercial','vs_explotacion_sexual_viajes_turismo',\n",
    "              'vs_sospecha_trata_personas_fines_sexuales', 'vs_violacion_via_vaginal', 'vs_violacion_via_anal', \n",
    "               'vs_violacion_via_oral', 'ofv_uso_arma_blanca','ofv_uso_arma_fuego', 'ofv_intento_ahorcar', \n",
    "               'ofv_intento_quemar', 'ofv_intento_ahogar','ofv_intento_matar', 'llamado_fecha', 'llamado_hora',\n",
    "              'llamado_provincia_id'], axis=1, inplace=True)\n",
    "\n"
   ]
  },
  {
   "cell_type": "code",
   "execution_count": 4,
   "id": "f4ec510f",
   "metadata": {},
   "outputs": [],
   "source": [
    "# corregir nombres de columnas (TO DO: pasar al pipeline de agrupación luego)\n",
    "\n",
    "llamados.rename(columns={\"ofv_uso_arma\": \"ofv_uso_arma_group\", \"ofv_intento_violencia_fisica\": \"ofv_intento_violencia_fisica_group\"}, inplace=True)\n",
    "#llamados.columns"
   ]
  },
  {
   "cell_type": "code",
   "execution_count": 3,
   "id": "942624b0",
   "metadata": {},
   "outputs": [],
   "source": [
    "llamados['victima_genero'] = llamados['victima_genero'].fillna('NS/NC')"
   ]
  },
  {
   "cell_type": "code",
   "execution_count": 4,
   "id": "5f809375",
   "metadata": {},
   "outputs": [
    {
     "data": {
      "text/plain": [
       "Index(['llamado_fecha_hora', 'llamado_fecha', 'llamado_hora',\n",
       "       'llamado_provincia', 'llamado_provincia_id', 'llamante_edad',\n",
       "       'llamante_genero', 'llamante_vinculo', 'caso_judicializado',\n",
       "       'hecho_lugar', 'victima_a_resguardo', 'victima_edad', 'victima_genero',\n",
       "       'victima_nacionalidad', 'victima_vinculo_agresor',\n",
       "       'victima_discapacidad', 'victima_convive_agresor',\n",
       "       'vs_violacion_via_vaginal', 'vs_violacion_via_anal',\n",
       "       'vs_violacion_via_oral', 'vs_tentativa_violacion',\n",
       "       'vs_tocamiento_sexual', 'vs_intento_tocamiento',\n",
       "       'vs_Intento_violación_tercera_persona', 'vs_grooming',\n",
       "       'vs_exhibicionismo', 'vs_amenazas_verbales_contenido_sexual',\n",
       "       'vs_explotacion_sexual', 'vs_explotacion_sexual_comercial',\n",
       "       'vs_explotacion_sexual_viajes_turismo',\n",
       "       'vs_sospecha_trata_personas_fines_sexuales',\n",
       "       'vs_existencia_facilitador_corrupcion_nnya',\n",
       "       'vs_obligacion_sacarse_fotos_pornograficas',\n",
       "       'vs_eyaculacion_partes_cuerpo', 'vs_acoso_sexual',\n",
       "       'vs_iniciacion_sexual_forzada_inducida',\n",
       "       'vs_otra_forma_violencia_sexual', 'vs_no_sabe_no_contesta',\n",
       "       'ofv_sentimiento_amenaza', 'ofv_amenaza_explicita',\n",
       "       'ofv_violencia_fisica', 'ofv_intento_ahorcar', 'ofv_intento_quemar',\n",
       "       'ofv_intento_ahogar', 'ofv_amenaza_muerte',\n",
       "       'ofv_uso_sustancias_psicoactivas', 'ofv_intento_privacion_libertad',\n",
       "       'ofv_privacion_libertad', 'ofv_uso_arma_blanca', 'ofv_uso_arma_fuego',\n",
       "       'ofv_enganio_seduccion', 'ofv_intento_matar',\n",
       "       'ofv_uso_animal_victimizar', 'ofv_grooming', 'ofv_otra_forma_violencia',\n",
       "       'ofv_no_sabe_no_contesta', 'vs_explotacion_sexual_group',\n",
       "       'vs_violacion_group', 'ofv_intento_violencia_fisica', 'ofv_uso_arma'],\n",
       "      dtype='object')"
      ]
     },
     "execution_count": 4,
     "metadata": {},
     "output_type": "execute_result"
    }
   ],
   "source": [
    "llamados.columns"
   ]
  },
  {
   "cell_type": "code",
   "execution_count": 8,
   "id": "4b959ed7",
   "metadata": {},
   "outputs": [
    {
     "ename": "NameError",
     "evalue": "name 'llamados' is not defined",
     "output_type": "error",
     "traceback": [
      "\u001b[0;31m---------------------------------------------------------------------------\u001b[0m",
      "\u001b[0;31mNameError\u001b[0m                                 Traceback (most recent call last)",
      "\u001b[0;32m/tmp/ipykernel_10323/202477996.py\u001b[0m in \u001b[0;36m<module>\u001b[0;34m\u001b[0m\n\u001b[0;32m----> 1\u001b[0;31m \u001b[0mcols\u001b[0m \u001b[0;34m=\u001b[0m \u001b[0;34m[\u001b[0m\u001b[0mcol\u001b[0m \u001b[0;32mfor\u001b[0m \u001b[0mcol\u001b[0m \u001b[0;32min\u001b[0m \u001b[0mllamados\u001b[0m\u001b[0;34m.\u001b[0m\u001b[0mcolumns\u001b[0m \u001b[0;32mif\u001b[0m \u001b[0mcol\u001b[0m \u001b[0;32mnot\u001b[0m \u001b[0;32min\u001b[0m \u001b[0;34m[\u001b[0m\u001b[0;34m'llamante_edad'\u001b[0m\u001b[0;34m,\u001b[0m \u001b[0;34m'victima_edad'\u001b[0m\u001b[0;34m,\u001b[0m \u001b[0;34m'llamado_provincia_id'\u001b[0m\u001b[0;34m,\u001b[0m \u001b[0;34m'llamado_fecha'\u001b[0m\u001b[0;34m,\u001b[0m \u001b[0;34m'llamado_hora'\u001b[0m\u001b[0;34m]\u001b[0m\u001b[0;34m]\u001b[0m\u001b[0;34m\u001b[0m\u001b[0;34m\u001b[0m\u001b[0m\n\u001b[0m\u001b[1;32m      2\u001b[0m \u001b[0mllamados_2\u001b[0m \u001b[0;34m=\u001b[0m \u001b[0mllamados\u001b[0m\u001b[0;34m[\u001b[0m\u001b[0mcols\u001b[0m\u001b[0;34m]\u001b[0m\u001b[0;34m\u001b[0m\u001b[0;34m\u001b[0m\u001b[0m\n",
      "\u001b[0;31mNameError\u001b[0m: name 'llamados' is not defined"
     ]
    }
   ],
   "source": [
    "cols = [col for col in llamados.columns if col not in ['llamante_edad', 'victima_edad', 'llamado_provincia_id', 'llamado_fecha', 'llamado_hora']]\n",
    "llamados_2 = llamados[cols]"
   ]
  },
  {
   "cell_type": "code",
   "execution_count": 10,
   "id": "3b0e0f20",
   "metadata": {},
   "outputs": [],
   "source": [
    "#llamados_2.columns"
   ]
  },
  {
   "cell_type": "code",
   "execution_count": 6,
   "id": "f3d1c689",
   "metadata": {},
   "outputs": [],
   "source": [
    "del llamados"
   ]
  },
  {
   "cell_type": "code",
   "execution_count": 7,
   "id": "7b0643bf",
   "metadata": {},
   "outputs": [
    {
     "data": {
      "text/plain": [
       "array([[0.        , 0.25454545, 0.23636363, ..., 0.25454545, 0.21818182,\n",
       "        0.21818182],\n",
       "       [0.25454545, 0.        , 0.21818182, ..., 0.18181819, 0.18181819,\n",
       "        0.2       ],\n",
       "       [0.23636363, 0.21818182, 0.        , ..., 0.27272728, 0.23636363,\n",
       "        0.25454545],\n",
       "       ...,\n",
       "       [0.25454545, 0.18181819, 0.27272728, ..., 0.        , 0.12727273,\n",
       "        0.25454545],\n",
       "       [0.21818182, 0.18181819, 0.23636363, ..., 0.12727273, 0.        ,\n",
       "        0.18181819],\n",
       "       [0.21818182, 0.2       , 0.25454545, ..., 0.25454545, 0.18181819,\n",
       "        0.        ]], dtype=float32)"
      ]
     },
     "execution_count": 7,
     "metadata": {},
     "output_type": "execute_result"
    }
   ],
   "source": [
    "gower_data = gower.gower_matrix(llamados_2)\n",
    "gower_data"
   ]
  },
  {
   "cell_type": "code",
   "execution_count": 9,
   "id": "ccfe6c0f",
   "metadata": {},
   "outputs": [],
   "source": [
    "def mapData(dist_matrix, X, y, metric, title):\n",
    "    mds = MDS(metric=metric, dissimilarity='precomputed', random_state=0) # this is the second step to NMDS or MDS\n",
    "    # Get the embeddings\n",
    "    pts = mds.fit_transform(dist_matrix)\n",
    "    # Plot the embedding, colored according to the class of the points\n",
    "    fig = plt.figure(2, (15,6))\n",
    "    ax = fig.add_subplot(1,2,1) \n",
    "    \n",
    "    # pts[:, 0] pts in column 1 (first dimension),y=pts[:, 1] pts in column 2 (second dimension) \n",
    "\n",
    "    ax = sns.scatterplot(x=pts[:, 0], y=pts[:, 1], hue=y, palette=['blue', 'red'], hue_order=['NO', 'YSI'])\n",
    "\n",
    "\n",
    "    plt.title(title)    \n",
    "    plt.show()"
   ]
  },
  {
   "cell_type": "code",
   "execution_count": 10,
   "id": "153686d2",
   "metadata": {},
   "outputs": [],
   "source": [
    "# mapping SI/NO in \"victima_convive_agresor\" labels to 'y_convive'\n",
    "y_convive = []\n",
    "for value in llamados_2['victima_convive_agresor']:\n",
    "    if value == 'SI':\n",
    "        y_convive.append('SI')\n",
    "    elif value == 'NO':\n",
    "        y_convive.append('NO')"
   ]
  },
  {
   "cell_type": "code",
   "execution_count": null,
   "id": "3c1ab39f",
   "metadata": {},
   "outputs": [],
   "source": [
    "mapData(gower_data, llamados_2, y_convive, False, \n",
    "        'Non-metric MDS with Gower')\n"
   ]
  },
  {
   "cell_type": "markdown",
   "id": "0e5a5deb",
   "metadata": {},
   "source": [
    "### Reemplazar nan en victima_genero por NS/NC"
   ]
  },
  {
   "cell_type": "code",
   "execution_count": 15,
   "id": "dcbb9209",
   "metadata": {},
   "outputs": [],
   "source": []
  },
  {
   "cell_type": "markdown",
   "id": "1ae4c853",
   "metadata": {},
   "source": [
    "### Hacer el ordenamiento sin las columnas de edad jeje"
   ]
  },
  {
   "cell_type": "code",
   "execution_count": null,
   "id": "82ba2030",
   "metadata": {},
   "outputs": [],
   "source": []
  }
 ],
 "metadata": {
  "kernelspec": {
   "display_name": "Python 3 (ipykernel)",
   "language": "python",
   "name": "python3"
  },
  "language_info": {
   "codemirror_mode": {
    "name": "ipython",
    "version": 3
   },
   "file_extension": ".py",
   "mimetype": "text/x-python",
   "name": "python",
   "nbconvert_exporter": "python",
   "pygments_lexer": "ipython3",
   "version": "3.8.15"
  }
 },
 "nbformat": 4,
 "nbformat_minor": 5
}
