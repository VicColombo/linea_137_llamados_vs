{
 "cells": [
  {
   "cell_type": "code",
   "execution_count": 2,
   "metadata": {},
   "outputs": [],
   "source": [
    "import pandas as pd\n",
    "import numpy as np\n",
    "import sys\n",
    "import os\n",
    "sys.path.append(os.path.dirname(os.path.abspath('')))\n",
    "from scripts.herramientas import seteo_agrupador"
   ]
  },
  {
   "cell_type": "code",
   "execution_count": 3,
   "metadata": {},
   "outputs": [],
   "source": [
    "llamados= pd.read_excel('/home/vcolombo/Documents/Vic/linea_137_llamados_vs/datasets/xlsx/llamados_group_I.xlsx')\n",
    "\n",
    "\n",
    "\n",
    "# droppear las variables que están agrupadas en otras, fecha y hora separadas y provincia id\n",
    "\n",
    "llamados.drop(['vs_explotacion_sexual','vs_explotacion_sexual_comercial','vs_explotacion_sexual_viajes_turismo',\n",
    "              'vs_sospecha_trata_personas_fines_sexuales', 'vs_violacion_via_vaginal', 'vs_violacion_via_anal', \n",
    "               'vs_violacion_via_oral', 'ofv_uso_arma_blanca','ofv_uso_arma_fuego', 'ofv_intento_ahorcar', \n",
    "               'ofv_intento_quemar', 'ofv_intento_ahogar','ofv_intento_matar', 'llamado_fecha', 'llamado_hora',\n",
    "              'llamado_provincia_id'], axis=1, inplace=True)"
   ]
  },
  {
   "cell_type": "code",
   "execution_count": 4,
   "metadata": {},
   "outputs": [],
   "source": [
    "# corregir nombres de columnas (TO DO: pasar al pipeline de agrupación luego)\n",
    "\n",
    "llamados.rename(columns={\"ofv_uso_arma\": \"ofv_uso_arma_group\", \"ofv_intento_violencia_fisica\": \"ofv_intento_violencia_fisica_group\"}, inplace=True)\n",
    "#llamados.columns\n",
    "\n",
    "\n",
    "llamados['victima_genero'] = llamados['victima_genero'].fillna('NS/NC')"
   ]
  },
  {
   "cell_type": "code",
   "execution_count": 5,
   "metadata": {},
   "outputs": [
    {
     "data": {
      "text/plain": [
       "Index(['llamado_fecha_hora', 'llamado_provincia', 'llamante_edad',\n",
       "       'llamante_genero', 'llamante_vinculo', 'caso_judicializado',\n",
       "       'hecho_lugar', 'victima_a_resguardo', 'victima_edad', 'victima_genero',\n",
       "       'victima_nacionalidad', 'victima_vinculo_agresor',\n",
       "       'victima_discapacidad', 'victima_convive_agresor',\n",
       "       'vs_tentativa_violacion', 'vs_tocamiento_sexual',\n",
       "       'vs_intento_tocamiento', 'vs_Intento_violación_tercera_persona',\n",
       "       'vs_grooming', 'vs_exhibicionismo',\n",
       "       'vs_amenazas_verbales_contenido_sexual',\n",
       "       'vs_existencia_facilitador_corrupcion_nnya',\n",
       "       'vs_obligacion_sacarse_fotos_pornograficas',\n",
       "       'vs_eyaculacion_partes_cuerpo', 'vs_acoso_sexual',\n",
       "       'vs_iniciacion_sexual_forzada_inducida',\n",
       "       'vs_otra_forma_violencia_sexual', 'vs_no_sabe_no_contesta',\n",
       "       'ofv_sentimiento_amenaza', 'ofv_amenaza_explicita',\n",
       "       'ofv_violencia_fisica', 'ofv_amenaza_muerte',\n",
       "       'ofv_uso_sustancias_psicoactivas', 'ofv_intento_privacion_libertad',\n",
       "       'ofv_privacion_libertad', 'ofv_enganio_seduccion',\n",
       "       'ofv_uso_animal_victimizar', 'ofv_grooming', 'ofv_otra_forma_violencia',\n",
       "       'ofv_no_sabe_no_contesta', 'vs_explotacion_sexual_group',\n",
       "       'vs_violacion_group', 'ofv_intento_violencia_fisica_group',\n",
       "       'ofv_uso_arma_group'],\n",
       "      dtype='object')"
      ]
     },
     "execution_count": 5,
     "metadata": {},
     "output_type": "execute_result"
    }
   ],
   "source": [
    "llamados.columns"
   ]
  },
  {
   "cell_type": "code",
   "execution_count": 6,
   "metadata": {},
   "outputs": [
    {
     "data": {
      "text/plain": [
       "19143"
      ]
     },
     "execution_count": 6,
     "metadata": {},
     "output_type": "execute_result"
    }
   ],
   "source": [
    "len(llamados)\n",
    "\n",
    "# 5% de casos de llamados es 957\n",
    "\n",
    "# si tiene 957 o menos SI"
   ]
  },
  {
   "cell_type": "code",
   "execution_count": 7,
   "metadata": {},
   "outputs": [
    {
     "name": "stdout",
     "output_type": "stream",
     "text": [
      "['llamado_fecha_hora', 'llamado_provincia', 'llamante_edad', 'llamante_genero', 'llamante_vinculo', 'hecho_lugar', 'victima_edad', 'victima_genero', 'victima_nacionalidad', 'victima_vinculo_agresor', 'vs_Intento_violación_tercera_persona', 'vs_amenazas_verbales_contenido_sexual', 'vs_existencia_facilitador_corrupcion_nnya', 'vs_eyaculacion_partes_cuerpo', 'ofv_amenaza_muerte', 'ofv_uso_sustancias_psicoactivas', 'ofv_intento_privacion_libertad', 'ofv_privacion_libertad', 'ofv_uso_animal_victimizar', 'ofv_intento_violencia_fisica_group', 'ofv_uso_arma_group']\n"
     ]
    }
   ],
   "source": [
    "columnas_pocos_si = []\n",
    "for i in llamados:\n",
    "    if (llamados[i]== 'SI').sum() < 191:\n",
    "        columnas_pocos_si.append(i)\n",
    "\n",
    "print(columnas_pocos_si)\n"
   ]
  },
  {
   "cell_type": "code",
   "execution_count": 31,
   "metadata": {},
   "outputs": [
    {
     "name": "stdout",
     "output_type": "stream",
     "text": [
      "llamado_fecha_hora   0\n",
      "llamado_provincia   0\n",
      "llamante_edad   0\n",
      "llamante_genero   0\n",
      "llamante_vinculo   0\n",
      "hecho_lugar   0\n",
      "victima_edad   0\n",
      "victima_genero   0\n",
      "victima_nacionalidad   0\n",
      "victima_vinculo_agresor   0\n",
      "victima_discapacidad   571\n",
      "vs_tentativa_violacion   282\n",
      "vs_intento_tocamiento   485\n",
      "vs_Intento_violación_tercera_persona   21\n",
      "vs_exhibicionismo   421\n",
      "vs_amenazas_verbales_contenido_sexual   145\n",
      "vs_existencia_facilitador_corrupcion_nnya   33\n",
      "vs_obligacion_sacarse_fotos_pornograficas   579\n",
      "vs_eyaculacion_partes_cuerpo   62\n",
      "vs_acoso_sexual   523\n",
      "vs_iniciacion_sexual_forzada_inducida   585\n",
      "ofv_violencia_fisica   564\n",
      "ofv_amenaza_muerte   84\n",
      "ofv_uso_sustancias_psicoactivas   156\n",
      "ofv_intento_privacion_libertad   37\n",
      "ofv_privacion_libertad   92\n",
      "ofv_enganio_seduccion   263\n",
      "ofv_uso_animal_victimizar   6\n",
      "ofv_grooming   308\n",
      "vs_explotacion_sexual_group   767\n",
      "ofv_intento_violencia_fisica_group   16\n",
      "ofv_uso_arma_group   53\n"
     ]
    }
   ],
   "source": [
    "for i in columnas_pocos_si:\n",
    "    print(i, ' ', (llamados[i]==\"SI\").sum())\n",
    "## sacar los de menos del 1% SI (abajo de 191)\n",
    "## ver de agrupar otros que haga falta, capaz tentativa de violación, agruparlos antes de sacarlos\n",
    "## hacer gower con edades completas\n",
    "## hacer gower sin edades pero con nuevo agrupamiento y limpieza\n",
    "## hacer gower con edades completas y nuevo agrupamiento y limpieza \n",
    "## o sea 4 gowers y gráficos y ver si  mejora el estrés"
   ]
  },
  {
   "cell_type": "code",
   "execution_count": 10,
   "metadata": {},
   "outputs": [
    {
     "data": {
      "text/plain": [
       "303"
      ]
     },
     "execution_count": 10,
     "metadata": {},
     "output_type": "execute_result"
    }
   ],
   "source": [
    "((llamados['vs_tentativa_violacion']== 'SI').sum()+(llamados['vs_Intento_violación_tercera_persona']== 'SI').sum())"
   ]
  },
  {
   "cell_type": "code",
   "execution_count": null,
   "metadata": {},
   "outputs": [],
   "source": []
  }
 ],
 "metadata": {
  "kernelspec": {
   "display_name": "Python 3",
   "language": "python",
   "name": "python3"
  },
  "language_info": {
   "codemirror_mode": {
    "name": "ipython",
    "version": 3
   },
   "file_extension": ".py",
   "mimetype": "text/x-python",
   "name": "python",
   "nbconvert_exporter": "python",
   "pygments_lexer": "ipython3",
   "version": "3.10.12"
  }
 },
 "nbformat": 4,
 "nbformat_minor": 2
}
