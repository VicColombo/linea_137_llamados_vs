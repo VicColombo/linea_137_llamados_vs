{
 "cells": [
  {
   "cell_type": "code",
   "execution_count": 3,
   "metadata": {},
   "outputs": [],
   "source": [
    "import numpy as np\n",
    "import os\n",
    "import pandas as pd\n",
    "from sklearn import svm\n",
    "from sklearn.metrics import classification_report\n",
    "from sklearn import model_selection"
   ]
  },
  {
   "cell_type": "code",
   "execution_count": 4,
   "metadata": {},
   "outputs": [],
   "source": [
    "dataset_dir = os.path.join(os.path.dirname(os.path.dirname(os.path.abspath(''))), 'datasets')"
   ]
  },
  {
   "cell_type": "code",
   "execution_count": 5,
   "metadata": {},
   "outputs": [
    {
     "data": {
      "text/plain": [
       "'/Users/vcolombo/Documents/tp especializacion/linea_137_llamados_vs/datasets'"
      ]
     },
     "execution_count": 5,
     "metadata": {},
     "output_type": "execute_result"
    }
   ],
   "source": [
    "dataset_dir"
   ]
  },
  {
   "cell_type": "markdown",
   "metadata": {},
   "source": [
    "### datos\n",
    "\n",
    "V2 --> dataset limpio\n",
    "V3 --> varaibles construidas a partir de otras\n",
    "V4 --> agrupacion de violencias y eliminacion de las que fueron absorbidas\n",
    "V5 --> eliminación de las variables cn poca información\n",
    "\n",
    "### tareas que quiero llevar a cabo\n",
    "\n",
    "1. Correr SVN en el 2 que es el más choti \n",
    "Data preparation:\n",
    "prueba 1\n",
    "- sacar las variables de edad\n",
    "- paso todas las demás a dummy\n",
    "- corro SVN\n",
    "\n",
    "prueba2\n",
    "- dejo las variables de edad pero solo los datos completos\n",
    "- paso todas las demás a dummy\n",
    "- corro SVN\n",
    "  \n",
    "prueba 3\n",
    "- me quedo solo con edad de la víctima y casos completos\n",
    "- paso tdas las varaibles a dummy\n",
    "- corro SVN\n",
    "  \n",
    "Mismas tres pruebas con las otras versiones del dataset\n",
    "\n",
    "--------\n",
    "\n",
    "### data preparation\n",
    "\n",
    "\n",
    "1. hace feature engineering con timestamp\n",
    "2. pasar timestampt a numérico\n",
    "3. pasar todas las categóricas a dummy\n",
    "4. armar pipeline de SVN que me permita evaluar cómo resulta\n",
    "\n",
    "\n",
    "Otros pasos\n",
    "\n",
    "- probar diferentes kernels en todo esto\n"
   ]
  },
  {
   "cell_type": "code",
   "execution_count": 17,
   "metadata": {},
   "outputs": [],
   "source": [
    "llamados_v2= pd.read_excel(os.path.join(dataset_dir, 'xlsx/llamados_v2.xlsx'))\n"
   ]
  }
 ],
 "metadata": {
  "kernelspec": {
   "display_name": "Python 3",
   "language": "python",
   "name": "python3"
  },
  "language_info": {
   "codemirror_mode": {
    "name": "ipython",
    "version": 3
   },
   "file_extension": ".py",
   "mimetype": "text/x-python",
   "name": "python",
   "nbconvert_exporter": "python",
   "pygments_lexer": "ipython3",
   "version": "3.9.6"
  }
 },
 "nbformat": 4,
 "nbformat_minor": 2
}
