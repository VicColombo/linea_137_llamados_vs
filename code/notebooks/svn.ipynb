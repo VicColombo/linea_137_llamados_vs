{
 "cells": [
  {
   "cell_type": "code",
   "execution_count": 1,
   "metadata": {},
   "outputs": [],
   "source": [
    "import numpy as np\n",
    "import pandas as pd\n",
    "from sklearn import svm\n",
    "from sklearn.metrics import classification_report\n",
    "from sklearn import model_selection"
   ]
  },
  {
   "cell_type": "markdown",
   "metadata": {},
   "source": [
    "# data preparation --> pasar todas las variables a dummy\n",
    "\n",
    "V2 --> dataset limpio\n",
    "V3 --> varaibles construidas a partir de otras\n",
    "V4 --> agrupacion de violencias y eliminacion de las que fueron absorbidas\n",
    "V5 --> eliminación de las variables cn poca información\n",
    "\n",
    "1. Correr SVN en el 2 que es el más choti \n",
    "Data preparation:\n",
    "prueba 1\n",
    "- sacar las variables de edad\n",
    "- paso todas las demás a dummy\n",
    "- corro SVN\n",
    "\n",
    "prueba2\n",
    "- dejo las variables de edad pero solo los datos completos\n",
    "- paso todas las demás a dummy\n",
    "- corro SVN\n",
    "  \n",
    "prueba 3\n",
    "- me quedo solo con edad de la víctima y casos completos\n",
    "- paso tdas las varaibles a dummy\n",
    "- corro SVN\n",
    "  \n",
    "Mismas tres pruebas con las otras versiones del dataset\n",
    "\n",
    "--------\n",
    "\n",
    "Pasos generales\n",
    "\n",
    "1. pasar todas las categóricas a dummy\n",
    "2. armar pipeline de SVN que me permita evaluar cómo resulta\n",
    "\n",
    "\n",
    "Otros pasos\n",
    "\n",
    "- probar diferentes kernels en todo esto\n"
   ]
  }
 ],
 "metadata": {
  "kernelspec": {
   "display_name": "Python 3",
   "language": "python",
   "name": "python3"
  },
  "language_info": {
   "codemirror_mode": {
    "name": "ipython",
    "version": 3
   },
   "file_extension": ".py",
   "mimetype": "text/x-python",
   "name": "python",
   "nbconvert_exporter": "python",
   "pygments_lexer": "ipython3",
   "version": "3.9.6"
  }
 },
 "nbformat": 4,
 "nbformat_minor": 2
}
