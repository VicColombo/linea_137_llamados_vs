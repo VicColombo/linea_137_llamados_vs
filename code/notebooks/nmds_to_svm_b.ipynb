{
 "cells": [
  {
   "cell_type": "code",
   "execution_count": 1,
   "metadata": {},
   "outputs": [],
   "source": [
    "# librerías\n",
    "import os\n",
    "import pickle\n",
    "import pandas as pd\n",
    "import gower\n",
    "from sklearn.svm import SVC\n",
    "from sklearn.model_selection import  GridSearchCV, StratifiedShuffleSplit\n",
    "from sklearn.metrics import accuracy_score, classification_report\n",
    "from sklearn.manifold import MDS\n",
    "import gc"
   ]
  },
  {
   "cell_type": "code",
   "execution_count": 14,
   "metadata": {},
   "outputs": [],
   "source": [
    "# directorios\n",
    "dataset_dir = os.path.join(os.path.dirname(os.path.dirname(os.path.abspath(''))), 'datasets')\n",
    "image_path = os.path.join(os.path.dirname(os.path.dirname(os.path.abspath(''))), 'images')"
   ]
  },
  {
   "cell_type": "code",
   "execution_count": 26,
   "metadata": {},
   "outputs": [],
   "source": [
    "# dataset b (sin llamante_edad y con casos completos de victima_edad)\n",
    "\n",
    "llamados_v2= pd.read_excel(os.path.join(dataset_dir, 'xlsx/llamados_v2.xlsx'))"
   ]
  },
  {
   "cell_type": "code",
   "execution_count": 27,
   "metadata": {},
   "outputs": [],
   "source": [
    "# quitar llamante edad\n",
    "llamados_v2.drop(['llamante_edad'], axis=1, inplace=True) "
   ]
  },
  {
   "cell_type": "code",
   "execution_count": 28,
   "metadata": {},
   "outputs": [],
   "source": [
    "dataset_b = llamados_v2[~llamados_v2['victima_edad'].isnull()]"
   ]
  },
  {
   "cell_type": "code",
   "execution_count": 29,
   "metadata": {},
   "outputs": [],
   "source": [
    "\n",
    "dataset_b.loc[:, 'victima_convive_agresor'] = dataset_b['victima_convive_agresor'].replace({'NS/NC': pd.NA})\n"
   ]
  },
  {
   "cell_type": "code",
   "execution_count": 30,
   "metadata": {},
   "outputs": [],
   "source": [
    "# mapear SI NO a 1 0\n",
    "dataset_b.loc[:,'victima_convive_agresor'] = dataset_b.loc[:,'victima_convive_agresor'].map({'SI': 1, 'NO': 0})\n"
   ]
  },
  {
   "cell_type": "code",
   "execution_count": 32,
   "metadata": {},
   "outputs": [
    {
     "name": "stdout",
     "output_type": "stream",
     "text": [
      "prop. SI: 15.15958987429763\n",
      "prop. NO: 67.59543532410358\n"
     ]
    }
   ],
   "source": [
    "# chequear proporciones previas\n",
    "print('prop. SI:', len(dataset_b[dataset_b['victima_convive_agresor']==1])/len(dataset_b)*100)\n",
    "print('prop. NO:',len(dataset_b[dataset_b['victima_convive_agresor']==0])/len(dataset_b)*100)"
   ]
  },
  {
   "cell_type": "code",
   "execution_count": 33,
   "metadata": {},
   "outputs": [
    {
     "data": {
      "text/plain": [
       "2977"
      ]
     },
     "execution_count": 33,
     "metadata": {},
     "output_type": "execute_result"
    }
   ],
   "source": [
    "dataset_b.loc[:,'victima_convive_agresor'].isna().sum()"
   ]
  },
  {
   "cell_type": "code",
   "execution_count": 34,
   "metadata": {},
   "outputs": [],
   "source": [
    "# separar features de target\n",
    "X = dataset_b.drop(['victima_convive_agresor'], axis=1)\n",
    "y_previo = dataset_b['victima_convive_agresor']"
   ]
  },
  {
   "cell_type": "code",
   "execution_count": 35,
   "metadata": {},
   "outputs": [],
   "source": [
    "# guardar los índices de casos NSNC (vacíos) y sacaros del target (son solo para el test final)\n",
    "nsnc_indices = y_previo[y_previo.isna()].index\n",
    "y = y_previo.drop(nsnc_indices)"
   ]
  },
  {
   "cell_type": "code",
   "execution_count": null,
   "metadata": {},
   "outputs": [],
   "source": [
    "# gower de X\n",
    "gower_X = gower.gower_matrix(X)\n",
    "print(\"gower para dataset_b hecho\")\n",
    "\n",
    "lista_dimensiones=[2,3,4,5,6,7,20]\n",
    "lista_modelos=[]\n",
    "contador_exp= 1\n",
    "for i in lista_dimensiones:\n",
    "    print('n_components: ', i)\n",
    "    # correr NMDS sobre el total del dataset\n",
    "    nmds = MDS(n_components=i ,metric=False, dissimilarity='precomputed', max_iter=300, random_state=0, normalized_stress=True) \n",
    "    X_nmds = nmds.fit_transform(gower_X)\n",
    "    print('NMDS fit tr. hecho')\n",
    "\n",
    "    # crear el test final con lo que corresponde a target de X transformado \n",
    "    test_final = X_nmds[nsnc_indices, :]\n",
    "    test_final_df = pd.DataFrame(test_final, columns=[f'Component_{j+1}' for j in range(test_final.shape[1])])\n",
    "\n",
    "\n",
    "    print('Stress: ' + str(round(nmds.stress_,2)))\n",
    "    # quitar índices (el test final) para entrenar \n",
    "    X_nmds_limpio = pd.DataFrame(X_nmds).drop(nsnc_indices).reset_index(drop=True)\n",
    "    y_limpio = y.reset_index(drop=True)\n",
    "\n",
    "    print('entrenando el modelo svm')\n",
    "    sss = StratifiedShuffleSplit(n_splits=1, test_size=0.2, random_state=2)\n",
    "    for train_index, test_index in sss.split(X_nmds_limpio, y_limpio):\n",
    "        X_train, X_test = X_nmds_limpio.iloc[train_index], X_nmds_limpio.iloc[test_index]\n",
    "        y_train, y_test = y_limpio.iloc[train_index], y_limpio.iloc[test_index]\n",
    "\n",
    "    # Parámetros de gridsearch\n",
    "    param_grid = {\n",
    "        'kernel': ['linear', 'poly', 'rbf', 'sigmoid'],\n",
    "        'C': [0.1, 1, 10, 100],\n",
    "        'gamma': ['scale', 'auto']\n",
    "    }\n",
    "\n",
    "\n",
    "    svm = SVC(class_weight='balanced')\n",
    "\n",
    "\n",
    "    # GridSearchCV\n",
    "    grid_search = GridSearchCV(svm, param_grid, cv=5, scoring='accuracy')\n",
    "    grid_search.fit(X_train, y_train)\n",
    "\n",
    "    # Mejor modelo\n",
    "    best_model = grid_search.best_estimator_\n",
    "\n",
    "    # Aplicar al test set\n",
    "    y_pred = best_model.predict(X_test)\n",
    "\n",
    "    # Evaluate the model\n",
    "    #print(\"Best parameters found: \", grid_search.best_params_)\n",
    "    #print(\"Best cross-validation accuracy: \", grid_search.best_score_)\n",
    "    #print(\"Test set accuracy: \", accuracy_score(y_test, y_pred))\n",
    "    #print(\"Classification report:\\n\", classification_report(y_test, y_pred))\n",
    "\n",
    "    # por cada modelo me guardo: n_components usado, best parameters, best cross validation acc, test set acc, classification report\n",
    "\n",
    "    contador_exp=+1\n",
    "    \n",
    "    lista_modelos.append( {'Experimento':contador_exp,'N Components': i, \"Mejores parámetros\":grid_search.best_params_, \n",
    "                           \"Mejor acc. en cross validation\": grid_search.best_score_, \n",
    "                           'Test set acc.': accuracy_score(y_test, y_pred), \"Classification report\": classification_report(y_test, y_pred)\n",
    "                           })\n",
    "\n",
    "    gc.collect()\n"
   ]
  },
  {
   "cell_type": "code",
   "execution_count": null,
   "metadata": {},
   "outputs": [],
   "source": [
    "# Testing the best model\n",
    "na_predictions = best_model.predict(test_final)\n",
    "test_final_df['victima_convive_agresor_pred'] = na_predictions"
   ]
  }
 ],
 "metadata": {
  "kernelspec": {
   "display_name": "tpenv",
   "language": "python",
   "name": "python3"
  },
  "language_info": {
   "codemirror_mode": {
    "name": "ipython",
    "version": 3
   },
   "file_extension": ".py",
   "mimetype": "text/x-python",
   "name": "python",
   "nbconvert_exporter": "python",
   "pygments_lexer": "ipython3",
   "version": "3.9.6"
  }
 },
 "nbformat": 4,
 "nbformat_minor": 2
}
