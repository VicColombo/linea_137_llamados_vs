{
 "cells": [
  {
   "cell_type": "code",
   "execution_count": 1,
   "metadata": {},
   "outputs": [],
   "source": [
    "# librerías\n",
    "import os\n",
    "import pickle\n",
    "import pandas as pd\n",
    "import numpy as np\n",
    "import gower\n",
    "from sklearn.svm import SVC\n",
    "from sklearn.model_selection import  GridSearchCV, StratifiedShuffleSplit\n",
    "from sklearn.metrics import accuracy_score, classification_report\n",
    "from sklearn.manifold import MDS\n",
    "import gc"
   ]
  },
  {
   "cell_type": "code",
   "execution_count": 2,
   "metadata": {},
   "outputs": [],
   "source": [
    "# directorios\n",
    "dataset_dir = os.path.join(os.path.dirname(os.path.dirname(os.path.abspath(''))), 'datasets')\n",
    "image_path = os.path.join(os.path.dirname(os.path.dirname(os.path.abspath(''))), 'images')"
   ]
  },
  {
   "cell_type": "code",
   "execution_count": 15,
   "metadata": {},
   "outputs": [],
   "source": [
    "# dataset b (sin llamante_edad y con casos completos de victima_edad)\n",
    "\n",
    "llamados_v2= pd.read_excel(os.path.join(dataset_dir, 'xlsx/llamados_v2.xlsx'))"
   ]
  },
  {
   "cell_type": "code",
   "execution_count": 16,
   "metadata": {},
   "outputs": [],
   "source": [
    "# quitar llamante edad\n",
    "llamados_v2.drop(['llamante_edad'], axis=1, inplace=True) "
   ]
  },
  {
   "cell_type": "code",
   "execution_count": 17,
   "metadata": {},
   "outputs": [],
   "source": [
    "dataset_b = llamados_v2[~llamados_v2['victima_edad'].isnull()]"
   ]
  },
  {
   "cell_type": "code",
   "execution_count": 18,
   "metadata": {},
   "outputs": [],
   "source": [
    "\n",
    "dataset_b.loc[:, 'victima_convive_agresor'] = dataset_b['victima_convive_agresor'].replace({'NS/NC': pd.NA})\n"
   ]
  },
  {
   "cell_type": "code",
   "execution_count": 19,
   "metadata": {},
   "outputs": [
    {
     "name": "stderr",
     "output_type": "stream",
     "text": [
      "/var/folders/gm/4r6lhs5j5p12g3_ml4zjfy500000gq/T/ipykernel_3359/287204785.py:2: SettingWithCopyWarning: \n",
      "A value is trying to be set on a copy of a slice from a DataFrame.\n",
      "Try using .loc[row_indexer,col_indexer] = value instead\n",
      "\n",
      "See the caveats in the documentation: https://pandas.pydata.org/pandas-docs/stable/user_guide/indexing.html#returning-a-view-versus-a-copy\n",
      "  dataset_b['victima_convive_agresor'] = dataset_b['victima_convive_agresor'].map({'SI': 1, 'NO': 0})\n"
     ]
    }
   ],
   "source": [
    "# mapear SI NO a 1 0\n",
    "dataset_b['victima_convive_agresor'] = dataset_b['victima_convive_agresor'].map({'SI': 1, 'NO': 0})\n"
   ]
  },
  {
   "cell_type": "code",
   "execution_count": 20,
   "metadata": {},
   "outputs": [
    {
     "name": "stdout",
     "output_type": "stream",
     "text": [
      "prop. SI: 15.15958987429763\n",
      "prop. NO: 67.59543532410358\n"
     ]
    }
   ],
   "source": [
    "# chequear proporciones previas\n",
    "print('prop. SI:', len(dataset_b[dataset_b['victima_convive_agresor']==1])/len(dataset_b)*100)\n",
    "print('prop. NO:',len(dataset_b[dataset_b['victima_convive_agresor']==0])/len(dataset_b)*100)"
   ]
  },
  {
   "cell_type": "code",
   "execution_count": 21,
   "metadata": {},
   "outputs": [
    {
     "data": {
      "text/plain": [
       "2977"
      ]
     },
     "execution_count": 21,
     "metadata": {},
     "output_type": "execute_result"
    }
   ],
   "source": [
    "dataset_b.loc[:,'victima_convive_agresor'].isna().sum()"
   ]
  },
  {
   "cell_type": "code",
   "execution_count": 22,
   "metadata": {},
   "outputs": [],
   "source": [
    "# separar features de target\n",
    "X = dataset_b.drop(['victima_convive_agresor'], axis=1)\n"
   ]
  },
  {
   "cell_type": "code",
   "execution_count": 23,
   "metadata": {},
   "outputs": [],
   "source": [
    "y_previo = dataset_b['victima_convive_agresor']"
   ]
  },
  {
   "cell_type": "code",
   "execution_count": 24,
   "metadata": {},
   "outputs": [],
   "source": [
    "# guardar los índices de casos NSNC (vacíos) y sacaros del target (son solo para el test final)\n",
    "nsnc_indices = y_previo[y_previo.isna()].index\n"
   ]
  },
  {
   "cell_type": "code",
   "execution_count": 13,
   "metadata": {},
   "outputs": [],
   "source": [
    "#y = y_previo.drop(nsnc_indices)"
   ]
  },
  {
   "cell_type": "code",
   "execution_count": 25,
   "metadata": {},
   "outputs": [
    {
     "name": "stdout",
     "output_type": "stream",
     "text": [
      "Gower transformation completed.\n",
      "n_components: 2\n",
      "NMDS fit_transform completed.\n",
      "Test final created\n"
     ]
    },
    {
     "ename": "KeyError",
     "evalue": "'[11, 49, 171, 186, 254, 258, 264, 266, 268, 351, 352, 363, 406, 446, 447, 492, 552, 657, 721, 729, 927, 953, 1003, 1012, 1055, 1091, 1107, 1448, 1481, 1498, 2016, 2122, 2592, 2712, 2805, 2808, 2866, 3227, 3330, 3507, 3680, 3712, 3713, 3734, 3980, 3982, 4713, 4715, 4718, 4758, 4801, 4828, 4829, 4830, 5082, 5126, 5220, 5393, 5394, 5588, 5921, 6171, 6564, 6604, 6726, 6734, 6863, 6874, 7021, 7112, 7290, 7527, 7620, 7746, 7767, 7769, 8011, 8164, 8362, 8510, 8513, 8583, 8750, 8891, 9163, 9210, 9571, 9613, 9692, 9757, 9999, 10090, 10255, 10322, 10600, 10872, 10898, 10908, 11061, 11140, 11145, 11159, 11231, 11403, 11471, 11500, 11530, 11532, 11542, 11556, 11557, 11561, 11577, 11579, 11596, 11644, 11735, 11753, 11755, 11832, 11835, 11871, 11872, 11873, 11928, 11960, 11966, 11968, 11979, 11997, 12029, 12040, 12159, 12224, 12235, 12263, 12264, 12270, 12282, 12308, 12402, 12407, 12419, 12473, 12484, 12556, 12589, 12602, 12608, 12731, 12787, 12870, 12896, 12898, 12998, 13045, 13065, 13095, 13096, 13102, 13122, 13192, 13236, 13284, 13412, 13526, 13559, 13757, 13758, 13764, 13879, 13880, 14041, 14044, 14098, 14103, 14221, 14223, 14301, 14304, 14314, 14325, 14333, 14352, 14355, 14373, 14377, 14382, 14390, 14421, 14454, 14463, 14548, 14589, 14602, 14621, 14648, 14725, 14744, 14874, 14876, 14884, 14889, 14899, 14946, 14957, 14961, 14962, 14966, 14973, 15027, 15035, 15050, 15125, 15152, 15179, 15200, 15231, 15235, 15253, 15332, 15333, 15339, 15342, 15347, 15353, 15355, 15375, 15421, 15440, 15452, 15507, 15522, 15538, 15539, 15554, 15572, 15590, 15608, 15672, 15730, 15733, 15790, 15853, 15854, 15870, 15875, 15893, 15894, 15973, 15996, 16070, 16101, 16103, 16119, 16120, 16191, 16212, 16254, 16264, 16464, 16475, 16499, 16521, 16533, 16564, 16566, 16599, 16602, 16613, 16623, 16649, 16702, 16705, 16722, 16726, 16731, 16753, 16754, 16786, 16792, 16847, 16853, 16875, 17001, 17007, 17049, 17190, 17250] not found in axis'",
     "output_type": "error",
     "traceback": [
      "\u001b[0;31m---------------------------------------------------------------------------\u001b[0m",
      "\u001b[0;31mKeyError\u001b[0m                                  Traceback (most recent call last)",
      "Cell \u001b[0;32mIn[25], line 29\u001b[0m\n\u001b[1;32m     27\u001b[0m \u001b[38;5;66;03m# Remove NSNC indices from the transformed dataset for training\u001b[39;00m\n\u001b[1;32m     28\u001b[0m X_nmds_clean \u001b[38;5;241m=\u001b[39m pd\u001b[38;5;241m.\u001b[39mDataFrame(X_nmds)\u001b[38;5;241m.\u001b[39mdrop(nsnc_pos)\u001b[38;5;241m.\u001b[39mreset_index(drop\u001b[38;5;241m=\u001b[39m\u001b[38;5;28;01mTrue\u001b[39;00m)\n\u001b[0;32m---> 29\u001b[0m y \u001b[38;5;241m=\u001b[39m \u001b[43my_previo\u001b[49m\u001b[38;5;241;43m.\u001b[39;49m\u001b[43mdrop\u001b[49m\u001b[43m(\u001b[49m\u001b[43mnsnc_pos\u001b[49m\u001b[43m)\u001b[49m\u001b[38;5;241m.\u001b[39mreset_index(drop\u001b[38;5;241m=\u001b[39m\u001b[38;5;28;01mTrue\u001b[39;00m)\n\u001b[1;32m     31\u001b[0m \u001b[38;5;28mprint\u001b[39m(\u001b[38;5;124m'\u001b[39m\u001b[38;5;124mTraining SVM model...\u001b[39m\u001b[38;5;124m'\u001b[39m)\n\u001b[1;32m     32\u001b[0m sss \u001b[38;5;241m=\u001b[39m StratifiedShuffleSplit(n_splits\u001b[38;5;241m=\u001b[39m\u001b[38;5;241m1\u001b[39m, test_size\u001b[38;5;241m=\u001b[39m\u001b[38;5;241m0.2\u001b[39m, random_state\u001b[38;5;241m=\u001b[39m\u001b[38;5;241m2\u001b[39m)\n",
      "File \u001b[0;32m~/Documents/tp especializacion/tpenv/lib/python3.9/site-packages/pandas/core/series.py:5347\u001b[0m, in \u001b[0;36mSeries.drop\u001b[0;34m(self, labels, axis, index, columns, level, inplace, errors)\u001b[0m\n\u001b[1;32m   5250\u001b[0m \u001b[38;5;28;01mdef\u001b[39;00m \u001b[38;5;21mdrop\u001b[39m(\n\u001b[1;32m   5251\u001b[0m     \u001b[38;5;28mself\u001b[39m,\n\u001b[1;32m   5252\u001b[0m     labels: IndexLabel \u001b[38;5;241m|\u001b[39m \u001b[38;5;28;01mNone\u001b[39;00m \u001b[38;5;241m=\u001b[39m \u001b[38;5;28;01mNone\u001b[39;00m,\n\u001b[0;32m   (...)\u001b[0m\n\u001b[1;32m   5259\u001b[0m     errors: IgnoreRaise \u001b[38;5;241m=\u001b[39m \u001b[38;5;124m\"\u001b[39m\u001b[38;5;124mraise\u001b[39m\u001b[38;5;124m\"\u001b[39m,\n\u001b[1;32m   5260\u001b[0m ) \u001b[38;5;241m-\u001b[39m\u001b[38;5;241m>\u001b[39m Series \u001b[38;5;241m|\u001b[39m \u001b[38;5;28;01mNone\u001b[39;00m:\n\u001b[1;32m   5261\u001b[0m \u001b[38;5;250m    \u001b[39m\u001b[38;5;124;03m\"\"\"\u001b[39;00m\n\u001b[1;32m   5262\u001b[0m \u001b[38;5;124;03m    Return Series with specified index labels removed.\u001b[39;00m\n\u001b[1;32m   5263\u001b[0m \n\u001b[0;32m   (...)\u001b[0m\n\u001b[1;32m   5345\u001b[0m \u001b[38;5;124;03m    dtype: float64\u001b[39;00m\n\u001b[1;32m   5346\u001b[0m \u001b[38;5;124;03m    \"\"\"\u001b[39;00m\n\u001b[0;32m-> 5347\u001b[0m     \u001b[38;5;28;01mreturn\u001b[39;00m \u001b[38;5;28;43msuper\u001b[39;49m\u001b[43m(\u001b[49m\u001b[43m)\u001b[49m\u001b[38;5;241;43m.\u001b[39;49m\u001b[43mdrop\u001b[49m\u001b[43m(\u001b[49m\n\u001b[1;32m   5348\u001b[0m \u001b[43m        \u001b[49m\u001b[43mlabels\u001b[49m\u001b[38;5;241;43m=\u001b[39;49m\u001b[43mlabels\u001b[49m\u001b[43m,\u001b[49m\n\u001b[1;32m   5349\u001b[0m \u001b[43m        \u001b[49m\u001b[43maxis\u001b[49m\u001b[38;5;241;43m=\u001b[39;49m\u001b[43maxis\u001b[49m\u001b[43m,\u001b[49m\n\u001b[1;32m   5350\u001b[0m \u001b[43m        \u001b[49m\u001b[43mindex\u001b[49m\u001b[38;5;241;43m=\u001b[39;49m\u001b[43mindex\u001b[49m\u001b[43m,\u001b[49m\n\u001b[1;32m   5351\u001b[0m \u001b[43m        \u001b[49m\u001b[43mcolumns\u001b[49m\u001b[38;5;241;43m=\u001b[39;49m\u001b[43mcolumns\u001b[49m\u001b[43m,\u001b[49m\n\u001b[1;32m   5352\u001b[0m \u001b[43m        \u001b[49m\u001b[43mlevel\u001b[49m\u001b[38;5;241;43m=\u001b[39;49m\u001b[43mlevel\u001b[49m\u001b[43m,\u001b[49m\n\u001b[1;32m   5353\u001b[0m \u001b[43m        \u001b[49m\u001b[43minplace\u001b[49m\u001b[38;5;241;43m=\u001b[39;49m\u001b[43minplace\u001b[49m\u001b[43m,\u001b[49m\n\u001b[1;32m   5354\u001b[0m \u001b[43m        \u001b[49m\u001b[43merrors\u001b[49m\u001b[38;5;241;43m=\u001b[39;49m\u001b[43merrors\u001b[49m\u001b[43m,\u001b[49m\n\u001b[1;32m   5355\u001b[0m \u001b[43m    \u001b[49m\u001b[43m)\u001b[49m\n",
      "File \u001b[0;32m~/Documents/tp especializacion/tpenv/lib/python3.9/site-packages/pandas/core/generic.py:4785\u001b[0m, in \u001b[0;36mNDFrame.drop\u001b[0;34m(self, labels, axis, index, columns, level, inplace, errors)\u001b[0m\n\u001b[1;32m   4783\u001b[0m \u001b[38;5;28;01mfor\u001b[39;00m axis, labels \u001b[38;5;129;01min\u001b[39;00m axes\u001b[38;5;241m.\u001b[39mitems():\n\u001b[1;32m   4784\u001b[0m     \u001b[38;5;28;01mif\u001b[39;00m labels \u001b[38;5;129;01mis\u001b[39;00m \u001b[38;5;129;01mnot\u001b[39;00m \u001b[38;5;28;01mNone\u001b[39;00m:\n\u001b[0;32m-> 4785\u001b[0m         obj \u001b[38;5;241m=\u001b[39m \u001b[43mobj\u001b[49m\u001b[38;5;241;43m.\u001b[39;49m\u001b[43m_drop_axis\u001b[49m\u001b[43m(\u001b[49m\u001b[43mlabels\u001b[49m\u001b[43m,\u001b[49m\u001b[43m \u001b[49m\u001b[43maxis\u001b[49m\u001b[43m,\u001b[49m\u001b[43m \u001b[49m\u001b[43mlevel\u001b[49m\u001b[38;5;241;43m=\u001b[39;49m\u001b[43mlevel\u001b[49m\u001b[43m,\u001b[49m\u001b[43m \u001b[49m\u001b[43merrors\u001b[49m\u001b[38;5;241;43m=\u001b[39;49m\u001b[43merrors\u001b[49m\u001b[43m)\u001b[49m\n\u001b[1;32m   4787\u001b[0m \u001b[38;5;28;01mif\u001b[39;00m inplace:\n\u001b[1;32m   4788\u001b[0m     \u001b[38;5;28mself\u001b[39m\u001b[38;5;241m.\u001b[39m_update_inplace(obj)\n",
      "File \u001b[0;32m~/Documents/tp especializacion/tpenv/lib/python3.9/site-packages/pandas/core/generic.py:4827\u001b[0m, in \u001b[0;36mNDFrame._drop_axis\u001b[0;34m(self, labels, axis, level, errors, only_slice)\u001b[0m\n\u001b[1;32m   4825\u001b[0m         new_axis \u001b[38;5;241m=\u001b[39m axis\u001b[38;5;241m.\u001b[39mdrop(labels, level\u001b[38;5;241m=\u001b[39mlevel, errors\u001b[38;5;241m=\u001b[39merrors)\n\u001b[1;32m   4826\u001b[0m     \u001b[38;5;28;01melse\u001b[39;00m:\n\u001b[0;32m-> 4827\u001b[0m         new_axis \u001b[38;5;241m=\u001b[39m \u001b[43maxis\u001b[49m\u001b[38;5;241;43m.\u001b[39;49m\u001b[43mdrop\u001b[49m\u001b[43m(\u001b[49m\u001b[43mlabels\u001b[49m\u001b[43m,\u001b[49m\u001b[43m \u001b[49m\u001b[43merrors\u001b[49m\u001b[38;5;241;43m=\u001b[39;49m\u001b[43merrors\u001b[49m\u001b[43m)\u001b[49m\n\u001b[1;32m   4828\u001b[0m     indexer \u001b[38;5;241m=\u001b[39m axis\u001b[38;5;241m.\u001b[39mget_indexer(new_axis)\n\u001b[1;32m   4830\u001b[0m \u001b[38;5;66;03m# Case for non-unique axis\u001b[39;00m\n\u001b[1;32m   4831\u001b[0m \u001b[38;5;28;01melse\u001b[39;00m:\n",
      "File \u001b[0;32m~/Documents/tp especializacion/tpenv/lib/python3.9/site-packages/pandas/core/indexes/base.py:7070\u001b[0m, in \u001b[0;36mIndex.drop\u001b[0;34m(self, labels, errors)\u001b[0m\n\u001b[1;32m   7068\u001b[0m \u001b[38;5;28;01mif\u001b[39;00m mask\u001b[38;5;241m.\u001b[39many():\n\u001b[1;32m   7069\u001b[0m     \u001b[38;5;28;01mif\u001b[39;00m errors \u001b[38;5;241m!=\u001b[39m \u001b[38;5;124m\"\u001b[39m\u001b[38;5;124mignore\u001b[39m\u001b[38;5;124m\"\u001b[39m:\n\u001b[0;32m-> 7070\u001b[0m         \u001b[38;5;28;01mraise\u001b[39;00m \u001b[38;5;167;01mKeyError\u001b[39;00m(\u001b[38;5;124mf\u001b[39m\u001b[38;5;124m\"\u001b[39m\u001b[38;5;132;01m{\u001b[39;00mlabels[mask]\u001b[38;5;241m.\u001b[39mtolist()\u001b[38;5;132;01m}\u001b[39;00m\u001b[38;5;124m not found in axis\u001b[39m\u001b[38;5;124m\"\u001b[39m)\n\u001b[1;32m   7071\u001b[0m     indexer \u001b[38;5;241m=\u001b[39m indexer[\u001b[38;5;241m~\u001b[39mmask]\n\u001b[1;32m   7072\u001b[0m \u001b[38;5;28;01mreturn\u001b[39;00m \u001b[38;5;28mself\u001b[39m\u001b[38;5;241m.\u001b[39mdelete(indexer)\n",
      "\u001b[0;31mKeyError\u001b[0m: '[11, 49, 171, 186, 254, 258, 264, 266, 268, 351, 352, 363, 406, 446, 447, 492, 552, 657, 721, 729, 927, 953, 1003, 1012, 1055, 1091, 1107, 1448, 1481, 1498, 2016, 2122, 2592, 2712, 2805, 2808, 2866, 3227, 3330, 3507, 3680, 3712, 3713, 3734, 3980, 3982, 4713, 4715, 4718, 4758, 4801, 4828, 4829, 4830, 5082, 5126, 5220, 5393, 5394, 5588, 5921, 6171, 6564, 6604, 6726, 6734, 6863, 6874, 7021, 7112, 7290, 7527, 7620, 7746, 7767, 7769, 8011, 8164, 8362, 8510, 8513, 8583, 8750, 8891, 9163, 9210, 9571, 9613, 9692, 9757, 9999, 10090, 10255, 10322, 10600, 10872, 10898, 10908, 11061, 11140, 11145, 11159, 11231, 11403, 11471, 11500, 11530, 11532, 11542, 11556, 11557, 11561, 11577, 11579, 11596, 11644, 11735, 11753, 11755, 11832, 11835, 11871, 11872, 11873, 11928, 11960, 11966, 11968, 11979, 11997, 12029, 12040, 12159, 12224, 12235, 12263, 12264, 12270, 12282, 12308, 12402, 12407, 12419, 12473, 12484, 12556, 12589, 12602, 12608, 12731, 12787, 12870, 12896, 12898, 12998, 13045, 13065, 13095, 13096, 13102, 13122, 13192, 13236, 13284, 13412, 13526, 13559, 13757, 13758, 13764, 13879, 13880, 14041, 14044, 14098, 14103, 14221, 14223, 14301, 14304, 14314, 14325, 14333, 14352, 14355, 14373, 14377, 14382, 14390, 14421, 14454, 14463, 14548, 14589, 14602, 14621, 14648, 14725, 14744, 14874, 14876, 14884, 14889, 14899, 14946, 14957, 14961, 14962, 14966, 14973, 15027, 15035, 15050, 15125, 15152, 15179, 15200, 15231, 15235, 15253, 15332, 15333, 15339, 15342, 15347, 15353, 15355, 15375, 15421, 15440, 15452, 15507, 15522, 15538, 15539, 15554, 15572, 15590, 15608, 15672, 15730, 15733, 15790, 15853, 15854, 15870, 15875, 15893, 15894, 15973, 15996, 16070, 16101, 16103, 16119, 16120, 16191, 16212, 16254, 16264, 16464, 16475, 16499, 16521, 16533, 16564, 16566, 16599, 16602, 16613, 16623, 16649, 16702, 16705, 16722, 16726, 16731, 16753, 16754, 16786, 16792, 16847, 16853, 16875, 17001, 17007, 17049, 17190, 17250] not found in axis'"
     ]
    }
   ],
   "source": [
    "\n",
    "# Apply Gower distance on the entire dataset\n",
    "gower_X = gower.gower_matrix(X)\n",
    "print(\"Gower transformation completed.\")\n",
    "\n",
    "# Run NMDS on the entire dataset\n",
    "lista_dimensiones = [2, 3, 4, 5, 6, 7, 20]\n",
    "lista_modelos = []\n",
    "contador_exp=0\n",
    "for i in lista_dimensiones:\n",
    "    print(f'n_components: {i}')\n",
    "    nmds = MDS(n_components=2, metric=False, dissimilarity='precomputed', max_iter=300, random_state=0, normalized_stress=True)\n",
    "    X_nmds = nmds.fit_transform(gower_X)\n",
    "    print('NMDS fit_transform completed.')\n",
    "\n",
    "    # Use integer positions for nsnc_indices to avoid misalignment issues\n",
    "    nsnc_pos = np.where(y_previo.isna())[0]  # Get the positions of NSNC rows\n",
    "\n",
    "    # Extract the test set (rows corresponding to NSNC values)\n",
    "    test_final = X_nmds[nsnc_pos, :]  # Use integer-based indexing\n",
    "    print('Test final created')\n",
    "    \n",
    "    # Store the test set in a DataFrame\n",
    "    test_final_df = pd.DataFrame(test_final, columns=[f'Component_{j}' for j in range(test_final.shape[1])])\n",
    "\n",
    "\n",
    "\n",
    "    # Remove NSNC indices from the transformed dataset for training\n",
    "    X_nmds_clean = pd.DataFrame(X_nmds).drop(nsnc_pos).reset_index(drop=True)\n",
    "    y = y_previo.drop(nsnc_pos).reset_index(drop=True)\n",
    "\n",
    "    print('Training SVM model...')\n",
    "    sss = StratifiedShuffleSplit(n_splits=1, test_size=0.2, random_state=2)\n",
    "    for train_index, test_index in sss.split(X_nmds_clean, y):\n",
    "        X_train, X_test = X_nmds_clean.iloc[train_index], X_nmds_clean.iloc[test_index]\n",
    "        y_train, y_test = y.iloc[train_index], y.iloc[test_index]\n",
    "\n",
    "        # Parámetros de gridsearch\n",
    "    param_grid = {\n",
    "        'kernel': ['linear', 'poly', 'rbf', 'sigmoid'],\n",
    "        'C': [0.1, 1, 10, 100],\n",
    "        'gamma': ['scale', 'auto']\n",
    "    }\n",
    "\n",
    "\n",
    "    svm = SVC(class_weight='balanced')\n",
    "\n",
    "\n",
    "    # GridSearchCV\n",
    "    grid_search = GridSearchCV(svm, param_grid, cv=5, scoring='accuracy')\n",
    "    grid_search.fit(X_train, y_train)\n",
    "\n",
    "    # Mejor modelo\n",
    "    best_model = grid_search.best_estimator_\n",
    "\n",
    "    # Aplicar al test set\n",
    "    y_pred = best_model.predict(X_test)\n",
    "\n",
    "   \n",
    "   \n",
    "    lista_modelos.append({\n",
    "        'Experimento': contador_exp,\n",
    "        'N Components': i,\n",
    "        'Mejores parámetros': grid_search.best_params_,\n",
    "        'Mejor acc. en cross validation': grid_search.best_score_,\n",
    "        'Test set acc.': accuracy_score(y_test, y_pred),\n",
    "        'Classification report': classification_report(y_test, y_pred)\n",
    "    })\n",
    "\n",
    "    print(f'Stress for {i} components: {round(nmds.stress_, 2)}')\n",
    "    contador_exp += 1\n",
    "\n"
   ]
  },
  {
   "cell_type": "code",
   "execution_count": null,
   "metadata": {},
   "outputs": [],
   "source": [
    "# Testing the best model\n",
    "#na_predictions = best_model.predict(test_final)\n",
    "#test_final_df['victima_convive_agresor_pred'] = na_predictions"
   ]
  },
  {
   "cell_type": "code",
   "execution_count": 59,
   "metadata": {},
   "outputs": [
    {
     "name": "stdout",
     "output_type": "stream",
     "text": [
      "Test final created\n"
     ]
    }
   ],
   "source": [
    "import numpy as np\n"
   ]
  },
  {
   "cell_type": "code",
   "execution_count": 58,
   "metadata": {},
   "outputs": [
    {
     "data": {
      "text/plain": [
       "(2977,)"
      ]
     },
     "execution_count": 58,
     "metadata": {},
     "output_type": "execute_result"
    }
   ],
   "source": [
    "nsnc_indices.shape"
   ]
  },
  {
   "cell_type": "code",
   "execution_count": 56,
   "metadata": {},
   "outputs": [
    {
     "data": {
      "text/plain": [
       "(17263, 2)"
      ]
     },
     "execution_count": 56,
     "metadata": {},
     "output_type": "execute_result"
    }
   ],
   "source": [
    "X_nmds.shape"
   ]
  },
  {
   "cell_type": "code",
   "execution_count": null,
   "metadata": {},
   "outputs": [],
   "source": [
    "# Preprocess dataset_b\n",
    "llamados_v2 = pd.read_excel(os.path.join(dataset_dir, 'xlsx/llamados_v2.xlsx'))\n",
    "llamados_v2.drop(['llamante_edad'], axis=1, inplace=True)\n",
    "dataset_b = llamados_v2[~llamados_v2['victima_edad'].isnull()]\n",
    "\n",
    "# Replace 'NS/NC' with NA and map 'SI' to 1, 'NO' to 0\n",
    "dataset_b['victima_convive_agresor'] = dataset_b['victima_convive_agresor'].replace({'NS/NC': pd.NA})\n",
    "dataset_b['victima_convive_agresor'] = dataset_b['victima_convive_agresor'].map({'SI': 1, 'NO': 0})\n",
    "\n",
    "# Separate features and target\n",
    "X = dataset_b.drop(['victima_convive_agresor'], axis=1)\n",
    "y_previo = dataset_b['victima_convive_agresor']\n",
    "\n",
    "# Identify NSNC indices and clean the target\n",
    "nsnc_indices = y_previo[y_previo.isna()].index\n",
    "y = y_previo.drop(nsnc_indices)"
   ]
  },
  {
   "cell_type": "code",
   "execution_count": null,
   "metadata": {},
   "outputs": [],
   "source": [
    "# Testing the best model\n",
    "na_predictions = best_model.predict(test_final)\n",
    "test_final_df['victima_convive_agresor_pred'] = na_predictions"
   ]
  }
 ],
 "metadata": {
  "kernelspec": {
   "display_name": "tpenv",
   "language": "python",
   "name": "python3"
  },
  "language_info": {
   "codemirror_mode": {
    "name": "ipython",
    "version": 3
   },
   "file_extension": ".py",
   "mimetype": "text/x-python",
   "name": "python",
   "nbconvert_exporter": "python",
   "pygments_lexer": "ipython3",
   "version": "3.9.6"
  }
 },
 "nbformat": 4,
 "nbformat_minor": 2
}
