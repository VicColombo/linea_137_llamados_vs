{
 "cells": [
  {
   "cell_type": "markdown",
   "metadata": {},
   "source": [
    "### Dataset B: usar edad numérica escalada completa de la víctima y droppear la del llamante (re hacer notebook)"
   ]
  },
  {
   "cell_type": "code",
   "execution_count": 1,
   "metadata": {},
   "outputs": [],
   "source": [
    "import numpy as np\n",
    "import os\n",
    "import pandas as pd\n",
    "from sklearn.preprocessing import OrdinalEncoder, MinMaxScaler, OneHotEncoder\n",
    "from sklearn.svm import SVC\n",
    "from sklearn.model_selection import GridSearchCV, StratifiedShuffleSplit\n",
    "from sklearn.metrics import classification_report, f1_score\n",
    "import gc\n"
   ]
  },
  {
   "cell_type": "code",
   "execution_count": 2,
   "metadata": {},
   "outputs": [],
   "source": [
    "dataset_dir = os.path.join(os.path.dirname(os.path.dirname(os.path.abspath(''))), 'datasets')"
   ]
  },
  {
   "cell_type": "markdown",
   "metadata": {},
   "source": [
    "##### Datos a usar\n",
    "Dataset de llamados completo, limpio con reducción de variables hecha a mano: variables agrupadas por temática, variables eliminadas por poco informativas, variables reducidas: hecho lugar, llamado provincia, llamante vinculo, victima nacionalidad, y agresor conocido/no conocido. \n",
    "\n",
    "\n",
    "##### Pipeline\n",
    "\n",
    "1. cargar dataset\n",
    "2. reemplazar NS/NC en convive por NA\n",
    "3. hacer modificaciones para svm. \n",
    "4. separar NA de convive, serán el dataset \"no visto\"\n",
    "5. separar features de target\n",
    "6. separar train-test \n",
    "7. armar modelo\n",
    "8. evaluar\n",
    "\n",
    "\n",
    "##### Modificaiones para SVM\n",
    "\n",
    "1. pasar datetime a timestamp y escalar\n",
    "2. eliminar edad de quien llama, eliminar faltantes en edad de la víctima, y escalar la edad de la víctima\n",
    "3. pasar edad a categórica \n",
    "4. Encodeo:\n",
    "   1. edad, momento del día y estación del año con un encoder ordinal\n",
    "   2. escalar las features encodeadas con ordinal\n",
    "   3. variables de SI/NO encodear para 1 y 0\n",
    "   4. el resto con one hot encoder\n",
    "5. borrar las no usadas"
   ]
  },
  {
   "cell_type": "code",
   "execution_count": 3,
   "metadata": {},
   "outputs": [],
   "source": [
    "# 1. cargar dataset\n",
    "\n",
    "llamados= pd.read_excel(os.path.join(dataset_dir, 'xlsx/llamados_v3.xlsx'), parse_dates=['llamado_fecha_hora'])\n"
   ]
  },
  {
   "cell_type": "code",
   "execution_count": 4,
   "metadata": {},
   "outputs": [],
   "source": [
    "# 2 reemplazar todos los NS/NC en convive por na\n",
    "\n",
    "llamados.loc[:, 'victima_convive_agresor'] = llamados['victima_convive_agresor'].replace({'NS/NC': pd.NA})\n",
    "\n"
   ]
  },
  {
   "cell_type": "markdown",
   "metadata": {},
   "source": [
    "3. Modificaciones para SVM\n",
    "\n"
   ]
  },
  {
   "cell_type": "code",
   "execution_count": 5,
   "metadata": {},
   "outputs": [],
   "source": [
    "scaler = MinMaxScaler()\n",
    "encoder = OrdinalEncoder()"
   ]
  },
  {
   "cell_type": "code",
   "execution_count": 7,
   "metadata": {},
   "outputs": [
    {
     "data": {
      "text/plain": [
       "0        0.000000\n",
       "1        0.000060\n",
       "2        0.000121\n",
       "3        0.000181\n",
       "4        0.000181\n",
       "           ...   \n",
       "19138    0.999758\n",
       "19139    0.999940\n",
       "19140    0.999819\n",
       "19141    0.999879\n",
       "19142    0.999879\n",
       "Name: timestamp_encoded_scaled, Length: 19143, dtype: float64"
      ]
     },
     "execution_count": 7,
     "metadata": {},
     "output_type": "execute_result"
    }
   ],
   "source": [
    "# 1. timestamp-fecha_hora encodeado y escalado\n",
    "\n",
    "\n",
    "\n",
    "llamados['timestamp_encoded'] = encoder.fit_transform(llamados[['llamado_fecha_hora']])\n",
    "llamados['timestamp_encoded_scaled'] = scaler.fit_transform(llamados[['timestamp_encoded']])\n",
    "    \n",
    "llamados.timestamp_encoded_scaled\n",
    "\n",
    "# sobra llamado_fecha_hora y timestamp_encoded\n",
    "    \n",
    "\n"
   ]
  },
  {
   "cell_type": "code",
   "execution_count": 8,
   "metadata": {},
   "outputs": [],
   "source": [
    "# escalar edad, ver qué pasa con casos vacíos\n",
    "llamados['victima_edad_escalada'] = scaler.fit_transform(llamados[['victima_edad']])"
   ]
  },
  {
   "cell_type": "code",
   "execution_count": 12,
   "metadata": {},
   "outputs": [],
   "source": [
    "# 4. Variables categóricas que serán encodeadas con ordinal: momento día (ordinal), estación del año (ordinal).\n",
    "\n",
    "llamados['momento_encoded'] = encoder.fit_transform(llamados[['momento_dia']])\n",
    "llamados['estacion_encoded'] = encoder.fit_transform(llamados[['estacion_del_año']])\n",
    "\n"
   ]
  },
  {
   "cell_type": "code",
   "execution_count": 13,
   "metadata": {},
   "outputs": [],
   "source": [
    "\n",
    "# 4.2 escalar las variables ordinales edad, momento del día y estación\n",
    "\n",
    "llamados['momento_encoded_scaled'] = scaler.fit_transform(llamados[['momento_encoded']])\n",
    "llamados['estacion_encoded_scaled'] = scaler.fit_transform(llamados[['estacion_encoded']])\n",
    "\n",
    "\n",
    "#sobra momento_encoded y estacion_encoded\n",
    "# momento_dia y estacion_del_año llamante_edad  llamado_fecha_hora y timestamp_encoded  \n"
   ]
  },
  {
   "cell_type": "code",
   "execution_count": 14,
   "metadata": {},
   "outputs": [],
   "source": [
    "# droppear las columnas que no voy a usar ver qué pasó con víctima edad\n",
    "\n",
    "llamados.drop([ 'momento_encoded', 'estacion_encoded', 'momento_dia',\n",
    "                 'estacion_del_año', 'victima_edad', 'llamante_edad',  \n",
    "                 'llamado_fecha_hora', 'timestamp_encoded'], axis=1, inplace=True) "
   ]
  },
  {
   "cell_type": "code",
   "execution_count": 18,
   "metadata": {},
   "outputs": [],
   "source": [
    "objetos = {}\n",
    "for column in llamados.columns:\n",
    "    if llamados[column].dtypes == object:\n",
    "        objetos[column] = llamados[column].unique()"
   ]
  },
  {
   "cell_type": "code",
   "execution_count": 19,
   "metadata": {},
   "outputs": [],
   "source": [
    "# 4.3 Variables de SI/NO encodear con dummy\n",
    "\n",
    "si_no_columns = []\n",
    "cat_mas_de_dos = []\n",
    "for column in llamados.columns:\n",
    "    if llamados[column].dtypes == object:\n",
    "        if set(llamados[column].unique()).issubset({'SI', 'NO'}):\n",
    "            si_no_columns.append(column)\n",
    "        else:\n",
    "            cat_mas_de_dos.append(column)"
   ]
  },
  {
   "cell_type": "code",
   "execution_count": 20,
   "metadata": {},
   "outputs": [
    {
     "data": {
      "text/plain": [
       "20"
      ]
     },
     "execution_count": 20,
     "metadata": {},
     "output_type": "execute_result"
    }
   ],
   "source": [
    "len(si_no_columns)"
   ]
  },
  {
   "cell_type": "code",
   "execution_count": 21,
   "metadata": {},
   "outputs": [],
   "source": [
    "encodear_one_hot = ['llamante_genero',\n",
    " 'caso_judicializado',\n",
    " 'victima_genero',\n",
    " 'victima_discapacidad',\n",
    " 'agresor_conocido_no_conocido_red',\n",
    " 'vinculo_llamante_red',\n",
    " 'hecho_lugar_red',\n",
    " 'llamado_provincia_red',\n",
    " 'victima_nacionalidad_red']"
   ]
  },
  {
   "cell_type": "code",
   "execution_count": 22,
   "metadata": {},
   "outputs": [],
   "source": [
    "# encodear si/no \n",
    "\n",
    "for col in si_no_columns:\n",
    "    llamados[col] = llamados[col].map({'SI': 1, 'NO':0})"
   ]
  },
  {
   "cell_type": "code",
   "execution_count": 23,
   "metadata": {},
   "outputs": [],
   "source": [
    "#encodear target\n",
    "llamados['victima_convive_agresor'] = llamados['victima_convive_agresor'].map({'SI': 1, 'NO':0})"
   ]
  },
  {
   "cell_type": "code",
   "execution_count": 24,
   "metadata": {},
   "outputs": [],
   "source": [
    "# encodear con one hot \n",
    "\n",
    "encoder = OneHotEncoder(sparse_output=True) # considerar drop first is sparse false\n",
    "\n",
    "# Fit - transform \n",
    "encoded_sparse = encoder.fit_transform(llamados[encodear_one_hot])\n",
    "\n",
    "# Convert the sparse matrix to a dense array\n",
    "encoded_array = encoded_sparse.toarray()\n",
    "\n",
    "# Create a DataFrame with the encoded columns\n",
    "encoded_df = pd.DataFrame(encoded_array, columns=encoder.get_feature_names_out(encodear_one_hot))\n",
    "\n",
    "# Drop the original columns that were one-hot encoded\n",
    "llamados.drop(columns=encodear_one_hot, inplace=True)\n",
    "\n",
    "# Concatenate the original DataFrame with the encoded DataFrame\n",
    "llamados = pd.concat([llamados, encoded_df], axis=1)\n",
    "\n"
   ]
  },
  {
   "cell_type": "code",
   "execution_count": 25,
   "metadata": {},
   "outputs": [],
   "source": [
    "# sacar todos los casos vacíos de convive y ponerlos en un nuevo dataset aparte, \n",
    "# será el test final a predecir con el mejor modelo\n",
    "\n",
    "\n",
    "test_final = llamados[llamados['victima_convive_agresor'].isna()]\n",
    "\n",
    "\n",
    "llamados = llamados.dropna(subset=['victima_convive_agresor'])\n"
   ]
  },
  {
   "cell_type": "code",
   "execution_count": 26,
   "metadata": {},
   "outputs": [],
   "source": [
    "llamados = llamados.dropna(subset=['victima_edad_escalada'])"
   ]
  },
  {
   "cell_type": "code",
   "execution_count": null,
   "metadata": {},
   "outputs": [],
   "source": [
    "gc.collect()"
   ]
  },
  {
   "cell_type": "code",
   "execution_count": 27,
   "metadata": {},
   "outputs": [
    {
     "data": {
      "text/plain": [
       "False"
      ]
     },
     "execution_count": 27,
     "metadata": {},
     "output_type": "execute_result"
    }
   ],
   "source": [
    "llamados.isnull().values.any()"
   ]
  },
  {
   "cell_type": "code",
   "execution_count": 28,
   "metadata": {},
   "outputs": [
    {
     "name": "stdout",
     "output_type": "stream",
     "text": [
      "Best parameters found:  {'C': 100, 'gamma': 'auto', 'kernel': 'rbf'}\n",
      "Best cross-validation f1:  0.8693694473088158\n",
      "Test set f1:  0.8684343625367262\n",
      "Classification report:\n",
      "               precision    recall  f1-score   support\n",
      "\n",
      "         0.0       0.90      0.95      0.93      2334\n",
      "         1.0       0.71      0.54      0.61       524\n",
      "\n",
      "    accuracy                           0.88      2858\n",
      "   macro avg       0.81      0.74      0.77      2858\n",
      "weighted avg       0.87      0.88      0.87      2858\n",
      "\n"
     ]
    }
   ],
   "source": [
    "# Separa features de target\n",
    "X = llamados.drop(columns=['victima_convive_agresor'])\n",
    "y = llamados['victima_convive_agresor']\n",
    "\n",
    "# Split\n",
    "sss = StratifiedShuffleSplit(n_splits=1, test_size=0.2, random_state=42)\n",
    "for train_index, test_index in sss.split(X, y):\n",
    "    X_train, X_test = X.iloc[train_index], X.iloc[test_index]\n",
    "    y_train, y_test = y.iloc[train_index], y.iloc[test_index]\n",
    "\n",
    "# Define GridSearchCV\n",
    "param_grid = {\n",
    "    'kernel': ['linear', 'poly', 'rbf', 'sigmoid'],\n",
    "    'C': [0.1, 1, 10, 100],\n",
    "    'gamma': ['scale', 'auto']\n",
    "}\n",
    "\n",
    "# SVM init\n",
    "svm = SVC()\n",
    "\n",
    "# GridSearchCV \n",
    "grid_search = GridSearchCV(svm, param_grid, cv=5, scoring='f1_weighted')\n",
    "grid_search.fit(X_train, y_train)\n",
    "\n",
    "# mejor modelo\n",
    "best_model = grid_search.best_estimator_\n",
    "\n",
    "# predecir test set\n",
    "y_pred = best_model.predict(X_test)\n",
    "\n",
    "# Evaluar\n",
    "print(\"Best parameters found: \", grid_search.best_params_)\n",
    "print(\"Best cross-validation f1: \", grid_search.best_score_)\n",
    "print(\"Test set f1: \", f1_score(y_test, y_pred, average='weighted'))\n",
    "print(\"Classification report:\\n\", classification_report(y_test, y_pred))\n"
   ]
  },
  {
   "cell_type": "code",
   "execution_count": 30,
   "metadata": {},
   "outputs": [
    {
     "name": "stdout",
     "output_type": "stream",
     "text": [
      "\n",
      "Predictions for NA 'convive' values:\n",
      "       victima_a_resguardo  victima_convive_agresor  vs_tocamiento_sexual  \\\n",
      "10                       1                      NaN                     0   \n",
      "12                       1                      NaN                     0   \n",
      "13                       1                      NaN                     0   \n",
      "14                       1                      NaN                     0   \n",
      "16                       1                      NaN                     0   \n",
      "...                    ...                      ...                   ...   \n",
      "19097                    1                      NaN                     0   \n",
      "19108                    1                      NaN                     0   \n",
      "19113                    1                      NaN                     0   \n",
      "19121                    1                      NaN                     0   \n",
      "19129                    1                      NaN                     0   \n",
      "\n",
      "       vs_intento_tocamiento  vs_grooming  vs_exhibicionismo  \\\n",
      "10                         0            0                  0   \n",
      "12                         0            0                  0   \n",
      "13                         0            0                  0   \n",
      "14                         0            0                  0   \n",
      "16                         0            0                  0   \n",
      "...                      ...          ...                ...   \n",
      "19097                      0            0                  0   \n",
      "19108                      0            0                  0   \n",
      "19113                      0            0                  0   \n",
      "19121                      0            0                  0   \n",
      "19129                      0            0                  0   \n",
      "\n",
      "       vs_obligacion_sacarse_fotos_pornograficas  vs_acoso_sexual  \\\n",
      "10                                             0                0   \n",
      "12                                             0                0   \n",
      "13                                             0                0   \n",
      "14                                             0                0   \n",
      "16                                             0                0   \n",
      "...                                          ...              ...   \n",
      "19097                                          0                0   \n",
      "19108                                          0                0   \n",
      "19113                                          0                0   \n",
      "19121                                          0                0   \n",
      "19129                                          0                0   \n",
      "\n",
      "       vs_iniciacion_sexual_forzada_inducida  vs_otra_forma_violencia_sexual  \\\n",
      "10                                         0                               1   \n",
      "12                                         0                               1   \n",
      "13                                         0                               1   \n",
      "14                                         0                               1   \n",
      "16                                         1                               0   \n",
      "...                                      ...                             ...   \n",
      "19097                                      0                               0   \n",
      "19108                                      0                               0   \n",
      "19113                                      0                               0   \n",
      "19121                                      0                               0   \n",
      "19129                                      0                               0   \n",
      "\n",
      "       ...  llamado_provincia_red_Buenos Aires  llamado_provincia_red_CABA  \\\n",
      "10     ...                                 0.0                         0.0   \n",
      "12     ...                                 0.0                         0.0   \n",
      "13     ...                                 0.0                         0.0   \n",
      "14     ...                                 0.0                         0.0   \n",
      "16     ...                                 0.0                         0.0   \n",
      "...    ...                                 ...                         ...   \n",
      "19097  ...                                 0.0                         1.0   \n",
      "19108  ...                                 0.0                         0.0   \n",
      "19113  ...                                 1.0                         0.0   \n",
      "19121  ...                                 1.0                         0.0   \n",
      "19129  ...                                 0.0                         0.0   \n",
      "\n",
      "       llamado_provincia_red_NS/NC  llamado_provincia_red_Región Central  \\\n",
      "10                             1.0                                   0.0   \n",
      "12                             0.0                                   1.0   \n",
      "13                             0.0                                   1.0   \n",
      "14                             0.0                                   0.0   \n",
      "16                             0.0                                   0.0   \n",
      "...                            ...                                   ...   \n",
      "19097                          0.0                                   0.0   \n",
      "19108                          0.0                                   1.0   \n",
      "19113                          0.0                                   0.0   \n",
      "19121                          0.0                                   0.0   \n",
      "19129                          0.0                                   1.0   \n",
      "\n",
      "       llamado_provincia_red_Región Norte  \\\n",
      "10                                    0.0   \n",
      "12                                    0.0   \n",
      "13                                    0.0   \n",
      "14                                    1.0   \n",
      "16                                    0.0   \n",
      "...                                   ...   \n",
      "19097                                 0.0   \n",
      "19108                                 0.0   \n",
      "19113                                 0.0   \n",
      "19121                                 0.0   \n",
      "19129                                 0.0   \n",
      "\n",
      "       llamado_provincia_red_Región Patagónica  \\\n",
      "10                                         0.0   \n",
      "12                                         0.0   \n",
      "13                                         0.0   \n",
      "14                                         0.0   \n",
      "16                                         1.0   \n",
      "...                                        ...   \n",
      "19097                                      0.0   \n",
      "19108                                      0.0   \n",
      "19113                                      0.0   \n",
      "19121                                      0.0   \n",
      "19129                                      0.0   \n",
      "\n",
      "       victima_nacionalidad_red_Argentina  victima_nacionalidad_red_NS/NC  \\\n",
      "10                                    0.0                             1.0   \n",
      "12                                    1.0                             0.0   \n",
      "13                                    1.0                             0.0   \n",
      "14                                    1.0                             0.0   \n",
      "16                                    1.0                             0.0   \n",
      "...                                   ...                             ...   \n",
      "19097                                 1.0                             0.0   \n",
      "19108                                 0.0                             1.0   \n",
      "19113                                 0.0                             1.0   \n",
      "19121                                 1.0                             0.0   \n",
      "19129                                 0.0                             1.0   \n",
      "\n",
      "       victima_nacionalidad_red_Otra  victima_convive_agresor_pred  \n",
      "10                               0.0                           0.0  \n",
      "12                               0.0                           0.0  \n",
      "13                               0.0                           0.0  \n",
      "14                               0.0                           0.0  \n",
      "16                               0.0                           0.0  \n",
      "...                              ...                           ...  \n",
      "19097                            0.0                           1.0  \n",
      "19108                            0.0                           0.0  \n",
      "19113                            0.0                           0.0  \n",
      "19121                            0.0                           0.0  \n",
      "19129                            0.0                           0.0  \n",
      "\n",
      "[2977 rows x 65 columns]\n"
     ]
    }
   ],
   "source": [
    "# mejor modelo al test ciego\n",
    "test_final = test_final.dropna(subset=['victima_edad_escalada'])\n",
    "X_na = test_final.drop(columns=['victima_convive_agresor'])\n",
    "\n",
    "na_predictions = best_model.predict(X_na)\n",
    "\n",
    "# df de predicciones\n",
    "test_final['victima_convive_agresor_pred'] = na_predictions\n",
    "\n",
    "print(\"\\nPredictions for NA 'convive' values:\")\n",
    "print(test_final)"
   ]
  },
  {
   "cell_type": "code",
   "execution_count": 31,
   "metadata": {},
   "outputs": [
    {
     "data": {
      "text/plain": [
       "victima_convive_agresor_pred\n",
       "0.0    2670\n",
       "1.0     307\n",
       "Name: count, dtype: int64"
      ]
     },
     "execution_count": 31,
     "metadata": {},
     "output_type": "execute_result"
    }
   ],
   "source": [
    "test_final.victima_convive_agresor_pred.value_counts()"
   ]
  },
  {
   "cell_type": "code",
   "execution_count": 32,
   "metadata": {},
   "outputs": [
    {
     "data": {
      "text/plain": [
       "(2977, 65)"
      ]
     },
     "execution_count": 32,
     "metadata": {},
     "output_type": "execute_result"
    }
   ],
   "source": [
    "test_final.shape"
   ]
  },
  {
   "cell_type": "code",
   "execution_count": 33,
   "metadata": {},
   "outputs": [
    {
     "data": {
      "text/plain": [
       "(14286, 64)"
      ]
     },
     "execution_count": 33,
     "metadata": {},
     "output_type": "execute_result"
    }
   ],
   "source": [
    "llamados.shape"
   ]
  },
  {
   "cell_type": "code",
   "execution_count": 34,
   "metadata": {},
   "outputs": [
    {
     "data": {
      "text/plain": [
       "victima_convive_agresor\n",
       "0.0    11669\n",
       "1.0     2617\n",
       "Name: count, dtype: int64"
      ]
     },
     "execution_count": 34,
     "metadata": {},
     "output_type": "execute_result"
    }
   ],
   "source": [
    "llamados.victima_convive_agresor.value_counts()"
   ]
  },
  {
   "cell_type": "code",
   "execution_count": 35,
   "metadata": {},
   "outputs": [
    {
     "name": "stdout",
     "output_type": "stream",
     "text": [
      "Proporción de SI en dataset original 0.18318633627327455 Proporción de SI predichos 0.10312395028552233\n",
      "Proporción de NO en dataset original 0.8168136637267255 Proporción de NO predichos 0.8968760497144777\n"
     ]
    }
   ],
   "source": [
    "print('Proporción de SI en dataset original', llamados.victima_convive_agresor.value_counts()[1]/llamados.shape[0], 'Proporción de SI predichos',test_final.victima_convive_agresor_pred.value_counts()[1]/test_final.shape[0] )\n",
    "print('Proporción de NO en dataset original', llamados.victima_convive_agresor.value_counts()[0]/llamados.shape[0], 'Proporción de NO predichos', test_final.victima_convive_agresor_pred.value_counts()[0]/test_final.shape[0])\n"
   ]
  }
 ],
 "metadata": {
  "kernelspec": {
   "display_name": "tpenv",
   "language": "python",
   "name": "python3"
  },
  "language_info": {
   "codemirror_mode": {
    "name": "ipython",
    "version": 3
   },
   "file_extension": ".py",
   "mimetype": "text/x-python",
   "name": "python",
   "nbconvert_exporter": "python",
   "pygments_lexer": "ipython3",
   "version": "3.9.6"
  }
 },
 "nbformat": 4,
 "nbformat_minor": 2
}
