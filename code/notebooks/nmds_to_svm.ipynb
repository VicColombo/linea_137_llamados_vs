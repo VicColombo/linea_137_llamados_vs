{
 "cells": [
  {
   "cell_type": "code",
   "execution_count": 1,
   "metadata": {},
   "outputs": [],
   "source": [
    "# librerías\n",
    "import os\n",
    "import pandas as pd\n",
    "import gower\n",
    "from sklearn.svm import SVC\n",
    "from sklearn.model_selection import  GridSearchCV, StratifiedShuffleSplit\n",
    "from sklearn.metrics import accuracy_score, classification_report\n",
    "from sklearn.manifold import MDS\n",
    "import gc\n",
    "\n",
    "\n"
   ]
  },
  {
   "cell_type": "code",
   "execution_count": 3,
   "metadata": {},
   "outputs": [],
   "source": [
    "# directorios\n",
    "dataset_dir = os.path.join(os.path.dirname(os.path.dirname(os.path.abspath(''))), 'datasets')\n",
    "image_path = os.path.join(os.path.dirname(os.path.dirname(os.path.abspath(''))), 'images')\n"
   ]
  },
  {
   "cell_type": "code",
   "execution_count": 11,
   "metadata": {},
   "outputs": [],
   "source": [
    "# dataset a (edades categorizadas)\n",
    "\n",
    "dataset_a= pd.read_excel(os.path.join(dataset_dir, 'xlsx/llamados_v2.xlsx'))"
   ]
  },
  {
   "cell_type": "code",
   "execution_count": 15,
   "metadata": {},
   "outputs": [],
   "source": [
    "# categorizar edad en dataset a\n",
    "\n",
    "\n",
    "def categoria_edad (x):\n",
    "    if (x >= 0) and (x <= 11) :\n",
    "        return 'Niñez'\n",
    "    elif (x >= 12) and (x <=18):\n",
    "        return 'Adolescencia'\n",
    "    elif (x >= 19) and (x <=30):\n",
    "        return 'Juventud'\n",
    "    elif (x>=31) and (x<=65) :\n",
    "        return 'Vejez'\n",
    "    elif x>=66:\n",
    "        return 'Vejez mayor'\n",
    "    else:\n",
    "        return 'NS/NC'\n",
    "\n",
    "\n",
    "dataset_a['victima_edad_cat'] = \\\n",
    "dataset_a.victima_edad.apply(categoria_edad)\n",
    "dataset_a['llamante_edad_cat'] = \\\n",
    "dataset_a.llamante_edad.apply(categoria_edad)"
   ]
  },
  {
   "cell_type": "code",
   "execution_count": 16,
   "metadata": {},
   "outputs": [],
   "source": [
    "# drop columnas sin usar\n",
    "\n",
    "dataset_a.drop(['victima_edad', 'llamante_edad'], axis=1, inplace=True) "
   ]
  },
  {
   "cell_type": "code",
   "execution_count": 17,
   "metadata": {},
   "outputs": [],
   "source": [
    "# reemplazar nsnc por na\n",
    "dataset_a.loc[:, 'victima_convive_agresor'] = dataset_a['victima_convive_agresor'].replace({'NS/NC': pd.NA})\n"
   ]
  },
  {
   "cell_type": "code",
   "execution_count": 20,
   "metadata": {},
   "outputs": [],
   "source": [
    "# mapear SI NO a 1 0\n",
    "dataset_a['victima_convive_agresor'] = dataset_a['victima_convive_agresor'].map({'SI': 1, 'NO':0})"
   ]
  },
  {
   "cell_type": "code",
   "execution_count": 27,
   "metadata": {},
   "outputs": [
    {
     "name": "stdout",
     "output_type": "stream",
     "text": [
      "prop. SI: 14.39690748576503\n",
      "prop. NO: 64.40474324818472\n"
     ]
    }
   ],
   "source": [
    "# chequear proporciones previas\n",
    "print('prop. SI:', len(dataset_a[dataset_a['victima_convive_agresor']==1])/len(dataset_a)*100)\n",
    "print('prop. NO:',len(dataset_a[dataset_a['victima_convive_agresor']==0])/len(dataset_a)*100)"
   ]
  },
  {
   "cell_type": "code",
   "execution_count": 21,
   "metadata": {},
   "outputs": [],
   "source": [
    "# separar features de target\n",
    "X = dataset_a.drop(['victima_convive_agresor'], axis=1)\n",
    "y_previo = dataset_a['victima_convive_agresor']"
   ]
  },
  {
   "cell_type": "code",
   "execution_count": 28,
   "metadata": {},
   "outputs": [],
   "source": [
    "# guardar los índices de casos NSNC (vacíos)\n",
    "nsnc_indices = y_previo[y_previo.isna()].index"
   ]
  },
  {
   "cell_type": "code",
   "execution_count": 29,
   "metadata": {},
   "outputs": [],
   "source": [
    "# Remove \"NSNC\" rows from the target\n",
    "y = y_previo.drop(nsnc_indices)"
   ]
  },
  {
   "cell_type": "code",
   "execution_count": 30,
   "metadata": {},
   "outputs": [
    {
     "name": "stdout",
     "output_type": "stream",
     "text": [
      "gower para dataset_a hecho\n",
      "Fit transform hecho\n",
      "Test final hecho\n",
      "Stress: 0.25\n",
      "entrenando el modelo svm\n",
      "Best parameters found:  {'C': 0.1, 'gamma': 'auto', 'kernel': 'poly'}\n",
      "Best cross-validation accuracy:  0.8172853753024473\n",
      "Test set accuracy:  0.8173682466025853\n",
      "Classification report:\n",
      "               precision    recall  f1-score   support\n",
      "\n",
      "         0.0       0.82      1.00      0.90      2466\n",
      "         1.0       0.00      0.00      0.00       551\n",
      "\n",
      "    accuracy                           0.82      3017\n",
      "   macro avg       0.41      0.50      0.45      3017\n",
      "weighted avg       0.67      0.82      0.74      3017\n",
      "\n"
     ]
    },
    {
     "name": "stderr",
     "output_type": "stream",
     "text": [
      "/Users/vcolombo/Documents/tp especializacion/tpenv/lib/python3.9/site-packages/sklearn/metrics/_classification.py:1509: UndefinedMetricWarning: Precision is ill-defined and being set to 0.0 in labels with no predicted samples. Use `zero_division` parameter to control this behavior.\n",
      "  _warn_prf(average, modifier, f\"{metric.capitalize()} is\", len(result))\n",
      "/Users/vcolombo/Documents/tp especializacion/tpenv/lib/python3.9/site-packages/sklearn/metrics/_classification.py:1509: UndefinedMetricWarning: Precision is ill-defined and being set to 0.0 in labels with no predicted samples. Use `zero_division` parameter to control this behavior.\n",
      "  _warn_prf(average, modifier, f\"{metric.capitalize()} is\", len(result))\n",
      "/Users/vcolombo/Documents/tp especializacion/tpenv/lib/python3.9/site-packages/sklearn/metrics/_classification.py:1509: UndefinedMetricWarning: Precision is ill-defined and being set to 0.0 in labels with no predicted samples. Use `zero_division` parameter to control this behavior.\n",
      "  _warn_prf(average, modifier, f\"{metric.capitalize()} is\", len(result))\n"
     ]
    },
    {
     "data": {
      "text/plain": [
       "25"
      ]
     },
     "execution_count": 30,
     "metadata": {},
     "output_type": "execute_result"
    }
   ],
   "source": [
    "# gower de X\n",
    "gower_X = gower.gower_matrix(X)\n",
    "print(\"gower para dataset_a hecho\")\n",
    "\n",
    "# correr NMDS sobre el total del dataset\n",
    "nmds = MDS(n_components=3 ,metric=False, dissimilarity='precomputed', max_iter=300, random_state=0, normalized_stress=True) \n",
    "X_nmds = nmds.fit_transform(gower_X)\n",
    "print('Fit transform hecho')\n",
    "# crear el test final con lo que corresponde a target de X transformado \n",
    "test_final = X_nmds[nsnc_indices]\n",
    "print('Test final hecho')\n",
    "\n",
    "print('Stress: ' + str(round(nmds.stress_,2)))\n",
    "# quitar el test final \n",
    "X_nmds_clean = pd.DataFrame(X_nmds).drop(nsnc_indices)\n",
    "\n",
    "\n",
    "print('entrenando el modelo svm')\n",
    "sss = StratifiedShuffleSplit(n_splits=1, test_size=0.2, random_state=2)\n",
    "for train_index, test_index in sss.split(X_nmds_clean, y):\n",
    "    X_train, X_test = X_nmds_clean.iloc[train_index], X_nmds_clean.iloc[test_index]\n",
    "    y_train, y_test = y.iloc[train_index], y.iloc[test_index]\n",
    "\n",
    "# Parámetros de gridsearch\n",
    "param_grid = {\n",
    "    'kernel': ['linear', 'poly', 'rbf', 'sigmoid'],\n",
    "    'C': [0.1, 1, 10, 100],\n",
    "    'gamma': ['scale', 'auto']\n",
    "}\n",
    "\n",
    "\n",
    "svm = SVC(class_weight='balanced')\n",
    "\n",
    "\n",
    "# GridSearchCV\n",
    "grid_search = GridSearchCV(svm, param_grid, cv=5, scoring='accuracy')\n",
    "grid_search.fit(X_train, y_train)\n",
    "\n",
    "# Mejor modelo\n",
    "best_model = grid_search.best_estimator_\n",
    "\n",
    "# Aplicar al test set\n",
    "y_pred = best_model.predict(X_test)\n",
    "\n",
    "# Evaluate the model\n",
    "print(\"Best parameters found: \", grid_search.best_params_)\n",
    "print(\"Best cross-validation accuracy: \", grid_search.best_score_)\n",
    "print(\"Test set accuracy: \", accuracy_score(y_test, y_pred))\n",
    "print(\"Classification report:\\n\", classification_report(y_test, y_pred))\n",
    "\n",
    "\n",
    "########################################################\n",
    "\n",
    "gc.collect()\n"
   ]
  },
  {
   "cell_type": "markdown",
   "metadata": {},
   "source": [
    "### SVM con nmds sobre dataset a con n_components= 2\n",
    "- Best parameters found:  {'C': 0.1, 'gamma': 'scale', 'kernel': 'linear'}\n",
    "- Best cross-validation accuracy:  0.8172853753024473\n",
    "- Test set accuracy:  0.8173682466025853\n",
    "\n",
    "\n",
    "Classification report:\n",
    "\n",
    "- precision: 0.82(NO) 0 (SI)\n",
    "- recall: 1.0(NO) 0 (SI) \n",
    "- f1-score: 0.90(NO) 0 (SI)\n",
    "- support: 2466(NO) 551 (SI)\n",
    "\n",
    "\n",
    "- accuracy 0.82      3017\n",
    "- macro avg       (p)0.41     (r) 0.50     (f1) 0.45    (supp)  3017\n",
    "- weighted avg     (p)  0.67   (r)   0.82  (f1)    0.74 (supp)     3017"
   ]
  },
  {
   "cell_type": "code",
   "execution_count": 2,
   "metadata": {},
   "outputs": [
    {
     "ename": "NameError",
     "evalue": "name 'best_model' is not defined",
     "output_type": "error",
     "traceback": [
      "\u001b[0;31m---------------------------------------------------------------------------\u001b[0m",
      "\u001b[0;31mNameError\u001b[0m                                 Traceback (most recent call last)",
      "Cell \u001b[0;32mIn[2], line 2\u001b[0m\n\u001b[1;32m      1\u001b[0m \u001b[38;5;66;03m# Apply the best model to the subset of the original dataset\u001b[39;00m\n\u001b[0;32m----> 2\u001b[0m na_predictions \u001b[38;5;241m=\u001b[39m \u001b[43mbest_model\u001b[49m\u001b[38;5;241m.\u001b[39mpredict(test_final)\n\u001b[1;32m      4\u001b[0m \u001b[38;5;66;03m# Add the predictions to the na_convive_df DataFrame\u001b[39;00m\n\u001b[1;32m      5\u001b[0m test_final[\u001b[38;5;124m'\u001b[39m\u001b[38;5;124mvictima_convive_agresor_pred\u001b[39m\u001b[38;5;124m'\u001b[39m] \u001b[38;5;241m=\u001b[39m na_predictions\n",
      "\u001b[0;31mNameError\u001b[0m: name 'best_model' is not defined"
     ]
    }
   ],
   "source": [
    "# Apply the best model to the subset of the original dataset\n",
    "#na_predictions = best_model.predict(test_final)\n",
    "\n",
    "# Add the predictions to the na_convive_df DataFrame\n",
    "#test_final['victima_convive_agresor_pred'] = na_predictions\n",
    "\n",
    "#print(\"\\nPredictions for NA 'convive' values:\")\n",
    "#print(test_final)"
   ]
  },
  {
   "cell_type": "code",
   "execution_count": null,
   "metadata": {},
   "outputs": [],
   "source": [
    "# dataset b (sin llamante_edad y con casos completos de victima_edad)\n",
    "\n",
    "llamados_v2= pd.read_excel(os.path.join(dataset_dir, 'xlsx/llamados_v2.xlsx'))"
   ]
  },
  {
   "cell_type": "code",
   "execution_count": null,
   "metadata": {},
   "outputs": [],
   "source": [
    "# quitar llamante edad\n",
    "llamados_v2.drop(['llamante_edad'], axis=1, inplace=True) "
   ]
  },
  {
   "cell_type": "code",
   "execution_count": null,
   "metadata": {},
   "outputs": [],
   "source": [
    "# descartar vacíos de victima edad\n",
    "dataset_b = llamados_v2[~(llamados_v2['victima_edad'].isnull())]"
   ]
  },
  {
   "cell_type": "code",
   "execution_count": null,
   "metadata": {},
   "outputs": [],
   "source": [
    "# reemplazar nsnc por na\n",
    "dataset_b.loc[:, 'victima_convive_agresor'] = dataset_b['victima_convive_agresor'].replace({'NS/NC': pd.NA})"
   ]
  },
  {
   "cell_type": "code",
   "execution_count": null,
   "metadata": {},
   "outputs": [],
   "source": [
    "# mapear SI NO a 1 0\n",
    "dataset_b['victima_convive_agresor'] = dataset_b['victima_convive_agresor'].map({'SI': 1, 'NO':0})"
   ]
  },
  {
   "cell_type": "code",
   "execution_count": null,
   "metadata": {},
   "outputs": [],
   "source": [
    "# chequear proporciones previas\n",
    "print('prop. SI:', len(dataset_b[dataset_b['victima_convive_agresor']==1])/len(dataset_b)*100)\n",
    "print('prop. NO:',len(dataset_b[dataset_b['victima_convive_agresor']==0])/len(dataset_b)*100)"
   ]
  },
  {
   "cell_type": "code",
   "execution_count": null,
   "metadata": {},
   "outputs": [],
   "source": [
    "# separar features de target\n",
    "X = dataset_b.drop(['victima_convive_agresor'], axis=1)\n",
    "y_previo = dataset_b['victima_convive_agresor']"
   ]
  },
  {
   "cell_type": "code",
   "execution_count": null,
   "metadata": {},
   "outputs": [],
   "source": [
    "# guardar los índices de casos NSNC (vacíos)\n",
    "nsnc_indices = y_previo[y_previo.isna()].index"
   ]
  },
  {
   "cell_type": "code",
   "execution_count": null,
   "metadata": {},
   "outputs": [],
   "source": [
    "# Remove \"NSNC\" rows from the target\n",
    "y = y_previo.drop(nsnc_indices)"
   ]
  },
  {
   "cell_type": "code",
   "execution_count": null,
   "metadata": {},
   "outputs": [],
   "source": [
    "# gower de X\n",
    "gower_X = gower.gower_matrix(X)\n",
    "print(\"gower para dataset_a hecho\")\n",
    "\n",
    "# correr NMDS sobre el total del dataset\n",
    "nmds = MDS(n_components=2 ,metric=False, dissimilarity='precomputed', max_iter=300, random_state=0, normalized_stress=True) \n",
    "X_nmds = nmds.fit_transform(gower_X)\n",
    "print('Fit transform hecho')\n",
    "# crear el test final con lo que corresponde a target de X transformado \n",
    "test_final = X_nmds[nsnc_indices]\n",
    "print('Test final hecho')\n",
    "\n",
    "print('Stress: ' + str(round(nmds.stress_,2)))\n",
    "# quitar el test final \n",
    "X_nmds_clean = pd.DataFrame(X_nmds).drop(nsnc_indices)\n",
    "\n",
    "\n",
    "print('entrenando el modelo svm')\n",
    "sss = StratifiedShuffleSplit(n_splits=1, test_size=0.2, random_state=2)\n",
    "for train_index, test_index in sss.split(X_nmds_clean, y):\n",
    "    X_train, X_test = X_nmds_clean.iloc[train_index], X_nmds_clean.iloc[test_index]\n",
    "    y_train, y_test = y.iloc[train_index], y.iloc[test_index]\n",
    "\n",
    "# Parámetros de gridsearch\n",
    "param_grid = {\n",
    "    'kernel': ['linear', 'poly', 'rbf', 'sigmoid'],\n",
    "    'C': [0.1, 1, 10, 100],\n",
    "    'gamma': ['scale', 'auto']\n",
    "}\n",
    "\n",
    "\n",
    "svm = SVC(class_weight='balanced')\n",
    "\n",
    "\n",
    "# GridSearchCV\n",
    "grid_search = GridSearchCV(svm, param_grid, cv=5, scoring='accuracy')\n",
    "grid_search.fit(X_train, y_train)\n",
    "\n",
    "# Mejor modelo\n",
    "best_model = grid_search.best_estimator_\n",
    "\n",
    "# Aplicar al test set\n",
    "y_pred = best_model.predict(X_test)\n",
    "\n",
    "# Evaluate the model\n",
    "print(\"Best parameters found: \", grid_search.best_params_)\n",
    "print(\"Best cross-validation accuracy: \", grid_search.best_score_)\n",
    "print(\"Test set accuracy: \", accuracy_score(y_test, y_pred))\n",
    "print(\"Classification report:\\n\", classification_report(y_test, y_pred))\n",
    "\n",
    "\n",
    "########################################################\n",
    "\n",
    "gc.collect()\n"
   ]
  }
 ],
 "metadata": {
  "kernelspec": {
   "display_name": "tpenv",
   "language": "python",
   "name": "python3"
  },
  "language_info": {
   "codemirror_mode": {
    "name": "ipython",
    "version": 3
   },
   "file_extension": ".py",
   "mimetype": "text/x-python",
   "name": "python",
   "nbconvert_exporter": "python",
   "pygments_lexer": "ipython3",
   "version": "3.9.6"
  }
 },
 "nbformat": 4,
 "nbformat_minor": 2
}
