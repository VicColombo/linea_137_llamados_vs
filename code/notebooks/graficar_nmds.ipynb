{
 "cells": [
  {
   "cell_type": "code",
   "execution_count": 4,
   "metadata": {},
   "outputs": [],
   "source": [
    "# librerías\n",
    "import os\n",
    "import pandas as pd\n",
    "import gower\n",
    "from herramientas import mapData\n",
    "import gc"
   ]
  },
  {
   "cell_type": "code",
   "execution_count": 3,
   "metadata": {},
   "outputs": [],
   "source": [
    "# directorios\n",
    "dataset_dir = os.path.join(os.path.dirname(os.path.dirname(os.path.abspath(''))), 'datasets')\n",
    "image_path = os.path.join(os.path.dirname(os.path.dirname(os.path.abspath(''))), 'images')\n",
    "\n",
    "# imágenes a guardar\n",
    "image_dataset_a = 'nmds_a.png'\n",
    "image_dataset_b = 'nmds_b.png'"
   ]
  },
  {
   "cell_type": "markdown",
   "metadata": {},
   "source": [
    "### Dataset A"
   ]
  },
  {
   "cell_type": "code",
   "execution_count": null,
   "metadata": {},
   "outputs": [],
   "source": [
    "dataset_a= pd.read_excel(os.path.join(dataset_dir, 'xlsx/llamados_v2.xlsx'))"
   ]
  },
  {
   "cell_type": "code",
   "execution_count": null,
   "metadata": {},
   "outputs": [],
   "source": [
    "# categorizar edad en dataset a\n",
    "\n",
    "\n",
    "def categoria_edad (x):\n",
    "    if (x >= 0) and (x <= 11) :\n",
    "        return 'Niñez'\n",
    "    elif (x >= 12) and (x <=18):\n",
    "        return 'Adolescencia'\n",
    "    elif (x >= 19) and (x <=30):\n",
    "        return 'Juventud'\n",
    "    elif (x>=31) and (x<=65) :\n",
    "        return 'Vejez'\n",
    "    elif x>=66:\n",
    "        return 'Vejez mayor'\n",
    "    else:\n",
    "        return 'NS/NC'\n",
    "\n",
    "\n",
    "dataset_a['victima_edad_cat'] = \\\n",
    "dataset_a.victima_edad.apply(categoria_edad)\n",
    "dataset_a['llamante_edad_cat'] = \\\n",
    "dataset_a.llamante_edad.apply(categoria_edad)"
   ]
  },
  {
   "cell_type": "code",
   "execution_count": null,
   "metadata": {},
   "outputs": [],
   "source": [
    "# drop columnas sin usar\n",
    "\n",
    "dataset_a.drop(['victima_edad', 'llamante_edad'], axis=1, inplace=True) "
   ]
  },
  {
   "cell_type": "code",
   "execution_count": null,
   "metadata": {},
   "outputs": [],
   "source": [
    "# Mapeo de SI/NO/NSNC de \"victima_convive_agresor\" labels to 'y_convive'\n",
    "y_convive = []\n",
    "for value in dataset_a['victima_convive_agresor']:\n",
    "    if value == 'SI':\n",
    "        y_convive.append('SI')\n",
    "    elif value == 'NO':\n",
    "        y_convive.append('NO')\n",
    "    else:\n",
    "        y_convive.append('NS/NC')"
   ]
  },
  {
   "cell_type": "code",
   "execution_count": null,
   "metadata": {},
   "outputs": [],
   "source": [
    "# Gower\n",
    "gower_data_a = gower.gower_matrix(dataset_a)\n",
    "print(\"gower para dataset_a hecho\")\n",
    "\n",
    "\n",
    "#graficar\n",
    "mapData(gower_data_a, dataset_a, y_convive, False, ' ', image_path,image_dataset_a)"
   ]
  },
  {
   "cell_type": "code",
   "execution_count": null,
   "metadata": {},
   "outputs": [],
   "source": [
    "gc.collect()"
   ]
  },
  {
   "cell_type": "markdown",
   "metadata": {},
   "source": [
    "### Dataset B"
   ]
  },
  {
   "cell_type": "code",
   "execution_count": null,
   "metadata": {},
   "outputs": [],
   "source": [
    "llamados= pd.read_excel(os.path.join(dataset_dir, 'xlsx/llamados_v2.xlsx'))"
   ]
  },
  {
   "cell_type": "code",
   "execution_count": null,
   "metadata": {},
   "outputs": [],
   "source": [
    "llamados.drop(['llamante_edad'], axis=1, inplace=True) "
   ]
  },
  {
   "cell_type": "code",
   "execution_count": null,
   "metadata": {},
   "outputs": [],
   "source": [
    "dataset_b = llamados[~llamados['victima_edad'].isnull()]"
   ]
  },
  {
   "cell_type": "code",
   "execution_count": null,
   "metadata": {},
   "outputs": [],
   "source": [
    "dataset_b.to_excel(\"/Users/vcolombo/Documents/tp especializacion/linea_137_llamados_vs/datasets/xlsx/llamados_dataset_b_graficar.xlsx\", index=False)"
   ]
  },
  {
   "cell_type": "code",
   "execution_count": null,
   "metadata": {},
   "outputs": [],
   "source": [
    "del dataset_b"
   ]
  },
  {
   "cell_type": "code",
   "execution_count": null,
   "metadata": {},
   "outputs": [],
   "source": [
    "dataset_b= pd.read_excel(os.path.join(dataset_dir, 'xlsx/llamados_dataset_b_graficar.xlsx'))"
   ]
  },
  {
   "cell_type": "code",
   "execution_count": null,
   "metadata": {},
   "outputs": [],
   "source": [
    "# Mapeo de SI/NO/NSNC de \"victima_convive_agresor\" labels to 'y_convive'\n",
    "y_convive = []\n",
    "for value in dataset_b['victima_convive_agresor']:\n",
    "    if value == 'SI':\n",
    "        y_convive.append('SI')\n",
    "    elif value == 'NO':\n",
    "        y_convive.append('NO')\n",
    "    else:\n",
    "        y_convive.append('NS/NC')"
   ]
  },
  {
   "cell_type": "code",
   "execution_count": null,
   "metadata": {},
   "outputs": [],
   "source": [
    "# Gower\n",
    "gower_data_b = gower.gower_matrix(dataset_b)\n",
    "print(\"gower para dataset_a hecho\")\n",
    "\n",
    "\n",
    "#graficar\n",
    "mapData(gower_data_b, dataset_b, y_convive, False, ' ', image_path,image_dataset_b)"
   ]
  }
 ],
 "metadata": {
  "kernelspec": {
   "display_name": "tpenv",
   "language": "python",
   "name": "python3"
  },
  "language_info": {
   "codemirror_mode": {
    "name": "ipython",
    "version": 3
   },
   "file_extension": ".py",
   "mimetype": "text/x-python",
   "name": "python",
   "nbconvert_exporter": "python",
   "pygments_lexer": "ipython3",
   "version": "3.9.6"
  }
 },
 "nbformat": 4,
 "nbformat_minor": 2
}
