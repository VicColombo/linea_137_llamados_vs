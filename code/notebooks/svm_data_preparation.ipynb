{
 "cells": [
  {
   "cell_type": "code",
   "execution_count": 6,
   "metadata": {},
   "outputs": [],
   "source": [
    "import numpy as np\n",
    "import os\n",
    "import pandas as pd\n",
    "from sklearn.preprocessing import OrdinalEncoder, MinMaxScaler\n"
   ]
  },
  {
   "cell_type": "code",
   "execution_count": 2,
   "metadata": {},
   "outputs": [],
   "source": [
    "dataset_dir = os.path.join(os.path.dirname(os.path.dirname(os.path.abspath(''))), 'datasets')"
   ]
  },
  {
   "cell_type": "markdown",
   "metadata": {},
   "source": [
    "### datos\n",
    "\n",
    "V2 --> dataset limpio\n",
    "V4 --> variables construidas a partir de otras + agrupacion de violencias absorbidas\n",
    "V5 --> eliminación de las variables cn poca información\n",
    "\n",
    "### tareas que quiero llevar a cabo\n",
    "\n",
    "1. Correr SVN en el 2 que es el más choti \n",
    "Data preparation:\n",
    "prueba 1\n",
    "- sacar las variables de edad\n",
    "- datetime a timestamp y escalar\n",
    "- paso todas las demás a dummy\n",
    "- corro SVN c =/= kernels\n",
    "\n",
    "prueba2\n",
    "- dejo las variables de edad pero solo los datos completos, y las escalo\n",
    "- datetime a timestamp y escalar\n",
    "- paso todas las demás a dummy\n",
    "- corro SVN\n",
    "  \n",
    "prueba 3\n",
    "- me quedo solo con edad de la víctima y casos completos\n",
    "- - datetime a timestamp y escalar\n",
    "- paso tdas las varaibles a dummy\n",
    "- corro SVN\n",
    "  \n",
    "Mismas tres pruebas con las otras versiones del dataset\n",
    "\n",
    "--------\n",
    "\n",
    "### data preparation\n",
    "\n",
    "\n",
    "1. - datetime a timestamp y escalar\n",
    "2. pasar todas las categóricas a dummy\n",
    "3. armar pipeline de SVN que me permita evaluar cómo resulta\n",
    "\n",
    "\n",
    "Otros pasos\n",
    "\n",
    "- probar diferentes kernels en todo esto\n"
   ]
  },
  {
   "cell_type": "code",
   "execution_count": 3,
   "metadata": {},
   "outputs": [],
   "source": [
    "llamados_v2= pd.read_excel(os.path.join(dataset_dir, 'xlsx/llamados_v2.xlsx'), parse_dates=['llamado_fecha_hora'])\n",
    "llamados_v4= pd.read_excel(os.path.join(dataset_dir, 'xlsx/llamados_v4.xlsx'), parse_dates=['llamado_fecha_hora'])\n",
    "llamados_v5= pd.read_excel(os.path.join(dataset_dir, 'xlsx/llamados_v5.xlsx'), parse_dates=['llamado_fecha_hora'])\n"
   ]
  },
  {
   "cell_type": "code",
   "execution_count": 10,
   "metadata": {},
   "outputs": [],
   "source": [
    "datasets_svm = [llamados_v2, llamados_v4, llamados_v5]"
   ]
  },
  {
   "cell_type": "code",
   "execution_count": 11,
   "metadata": {},
   "outputs": [],
   "source": [
    "# fecha hora a timestamp y escalado\n",
    "scaler = MinMaxScaler()\n",
    "encoder = OrdinalEncoder()\n",
    "for dataset in datasets_svm:\n",
    "    dataset['timestamp_encoded'] = encoder.fit_transform(dataset[['llamado_fecha_hora']])\n",
    "    dataset['timestamp_scaled'] = scaler.fit_transform(dataset[['timestamp_encoded']])\n",
    "    dataset.drop('timestamp_encoded', axis=1, inplace=True)\n",
    "    dataset.drop('llamado_fecha_hora', axis=1, inplace=True )"
   ]
  },
  {
   "cell_type": "code",
   "execution_count": 15,
   "metadata": {},
   "outputs": [],
   "source": [
    "# escalar edades\n",
    "scaler = MinMaxScaler()\n",
    "for dataset in datasets_svm:\n",
    "    dataset['victima_edad_escalada'] = scaler.fit_transform(dataset[['victima_edad']])\n",
    "    dataset['llamante_edad_escalada'] = scaler.fit_transform(dataset[['llamante_edad']])"
   ]
  },
  {
   "cell_type": "code",
   "execution_count": null,
   "metadata": {},
   "outputs": [],
   "source": [
    "# para cada dataset \n",
    "#una version en que las edades faltantes estén imputadas o en que sea categórica\n",
    "# una versión en que no estén imputadas y esa la uso con los casos completos o droppeo las columnas\n"
   ]
  }
 ],
 "metadata": {
  "kernelspec": {
   "display_name": "Python 3",
   "language": "python",
   "name": "python3"
  },
  "language_info": {
   "codemirror_mode": {
    "name": "ipython",
    "version": 3
   },
   "file_extension": ".py",
   "mimetype": "text/x-python",
   "name": "python",
   "nbconvert_exporter": "python",
   "pygments_lexer": "ipython3",
   "version": "3.9.6"
  }
 },
 "nbformat": 4,
 "nbformat_minor": 2
}
