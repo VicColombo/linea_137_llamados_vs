{
 "cells": [
  {
   "cell_type": "code",
   "execution_count": 47,
   "metadata": {},
   "outputs": [],
   "source": [
    "import numpy as np\n",
    "import os\n",
    "import pandas as pd\n",
    "from sklearn.preprocessing import OrdinalEncoder, MinMaxScaler, LabelEncoder\n"
   ]
  },
  {
   "cell_type": "code",
   "execution_count": 23,
   "metadata": {},
   "outputs": [],
   "source": [
    "dataset_dir = os.path.join(os.path.dirname(os.path.dirname(os.path.abspath(''))), 'datasets')"
   ]
  },
  {
   "cell_type": "markdown",
   "metadata": {},
   "source": [
    "##### Datos a usar\n",
    "\n",
    "- V2 --> dataset limpio\n",
    "- V4 --> variables construidas a partir de otras + agrupacion de violencias absorbidas\n",
    "- V5 --> eliminación de las variables cn poca información\n",
    "\n",
    "##### Modificaiones para SVM\n",
    "\n",
    "1. pasar datetime a timestamp y escalar --> OK\n",
    "2. escalar la variable edad --> OK\n",
    "3. pasar edad a categórica (en una columna distinta) --> OK\n",
    "4. pasar todas las categóricas a dummy:\n",
    "   1. edad, momento del día y estación del año con un encoder ordinal\n",
    "   2. el resto con un encoder que no codifique ordinalidad\n",
    "5. borrar las categóricas para hacer más pequeño el dataset\n",
    "6. guardar los datasets como sus versiones en SVM"
   ]
  },
  {
   "cell_type": "code",
   "execution_count": 41,
   "metadata": {},
   "outputs": [],
   "source": [
    "llamados_v2= pd.read_excel(os.path.join(dataset_dir, 'xlsx/llamados_v2.xlsx'), parse_dates=['llamado_fecha_hora'])\n",
    "llamados_v4= pd.read_excel(os.path.join(dataset_dir, 'xlsx/llamados_v4.xlsx'), parse_dates=['llamado_fecha_hora'])\n",
    "llamados_v5= pd.read_excel(os.path.join(dataset_dir, 'xlsx/llamados_v5.xlsx'), parse_dates=['llamado_fecha_hora'])\n"
   ]
  },
  {
   "cell_type": "code",
   "execution_count": 42,
   "metadata": {},
   "outputs": [],
   "source": [
    "datasets_svm = [llamados_v2, llamados_v4, llamados_v5]\n",
    "datasets_45 = [llamados_v4, llamados_v5]"
   ]
  },
  {
   "cell_type": "code",
   "execution_count": null,
   "metadata": {},
   "outputs": [],
   "source": [
    "scaler = MinMaxScaler()\n",
    "encoder = OrdinalEncoder()\n",
    "label_encoder = LabelEncoder()"
   ]
  },
  {
   "cell_type": "code",
   "execution_count": 43,
   "metadata": {},
   "outputs": [],
   "source": [
    "# 1. fecha hora a timestamp y escalado\n",
    "\n",
    "for dataset in datasets_svm:\n",
    "    dataset['timestamp_encoded'] = encoder.fit_transform(dataset[['llamado_fecha_hora']])\n",
    "    dataset['timestamp_scaled'] = scaler.fit_transform(dataset[['timestamp_encoded']])\n",
    "    dataset.drop('timestamp_encoded', axis=1, inplace=True)\n",
    "    dataset.drop('llamado_fecha_hora', axis=1, inplace=True )"
   ]
  },
  {
   "cell_type": "code",
   "execution_count": 44,
   "metadata": {},
   "outputs": [],
   "source": [
    "# 2. escalar edades\n",
    "for dataset in datasets_svm:\n",
    "    dataset['victima_edad_escalada'] = scaler.fit_transform(dataset[['victima_edad']])\n",
    "    dataset['llamante_edad_escalada'] = scaler.fit_transform(dataset[['llamante_edad']])"
   ]
  },
  {
   "cell_type": "code",
   "execution_count": 45,
   "metadata": {},
   "outputs": [],
   "source": [
    "# 3. pasar edad a categórica\n",
    "\n",
    "\n",
    "def categoria_edad (x):\n",
    "    if (x >= 0) and (x <= 11) :\n",
    "        return 'Niñez'\n",
    "    elif (x >= 12) and (x <=18):\n",
    "        return 'Adolescencia'\n",
    "    elif (x >= 19) and (x <=30):\n",
    "        return 'Juventud'\n",
    "    elif (x>=31) and (x<=65) :\n",
    "        return 'Vejez'\n",
    "    elif x>=66:\n",
    "        return 'Vejez mayor'\n",
    "    else:\n",
    "        return 'NS/NC'\n",
    "\n",
    "for dataset in datasets_svm:\n",
    "    dataset['victima_edad_cat'] = \\\n",
    "        dataset.victima_edad.apply(categoria_edad)\n",
    "    dataset['llamante_edad_cat'] = \\\n",
    "        dataset.llamante_edad.apply(categoria_edad)\n",
    "    dataset.drop(['victima_edad','llamante_edad'], axis=1, inplace=True)\n",
    "\n",
    "\n"
   ]
  },
  {
   "cell_type": "code",
   "execution_count": 53,
   "metadata": {},
   "outputs": [],
   "source": [
    "# 4.1 pasar edad_cat, momento_dia (V4, V5) y estacion_del_año (V4, V5) a dummy con un encoder ordinal\n",
    "\n",
    "\n",
    "for dataset in datasets_svm:\n",
    "    dataset['victima_edad_cat_dummy'] = label_encoder.fit_transform(dataset['victima_edad_cat'])\n",
    "    dataset['llamante_edad_cat_dummy'] = label_encoder.fit_transform(dataset['llamante_edad_cat'])\n",
    "    dataset.drop(['victima_edad_cat', 'llamante_edad_cat'], axis=1, inplace=True)\n",
    "\n",
    "for dataset in datasets_45:\n",
    "    dataset['momento_dummy'] = label_encoder.fit_transform(dataset['momento_dia'])\n",
    "    dataset['estacion_dummy'] = label_encoder.fit_transform(dataset['estacion_del_año'])\n",
    "    dataset.drop(['estacion_del_año','momento_dia',], axis=1, inplace=True)\n"
   ]
  },
  {
   "cell_type": "code",
   "execution_count": null,
   "metadata": {},
   "outputs": [],
   "source": [
    "# escalar las variables ordinales edad, momento del día y estación\n",
    "\n",
    "for dataset in datasets_svm:\n",
    "    dataset['victima_edad_dummy_scaled'] = scaler.fit_transform(dataset[['victima_edad_cat_dummy']])\n",
    "    dataset['llamante_edad_dummy_scaled'] = scaler.fit_transform(dataset[['llamante_edad_cat_dummy']])\n",
    "    dataset.drop('victima_edad_cat_dummy', axis=1, inplace=True)\n",
    "    dataset.drop('llamante_edad_cat_dummy', axis=1, inplace=True )\n",
    "\n",
    "for dataset in datasets_45:\n",
    "    dataset['momento_dummy_scaled'] = scaler.fit_transform(dataset[['momento_dummy']])\n",
    "    dataset['estacion_dummy_scaled'] = scaler.fit_transform(dataset[['estacion_dummy']])\n",
    "    dataset.drop('momento_dummy', axis=1, inplace=True)\n",
    "    dataset.drop('estacion_dummy', axis=1, inplace=True )\n"
   ]
  },
  {
   "cell_type": "code",
   "execution_count": 76,
   "metadata": {},
   "outputs": [
    {
     "data": {
      "text/plain": [
       "True"
      ]
     },
     "execution_count": 76,
     "metadata": {},
     "output_type": "execute_result"
    }
   ],
   "source": [
    "# 4.2 pasar el resto de las cat a dummy con un encoder no ordinal\n",
    "\n",
    "# pasar todos los objects en la lista datasets_svm a one hot encoding y ahí veo qué tan grande queda el dataset\n",
    "# son 34 variables object\n",
    "\n",
    "llamados_v2.llamado_provincia.dtype == 'object'\n",
    "\n"
   ]
  }
 ],
 "metadata": {
  "kernelspec": {
   "display_name": "Python 3",
   "language": "python",
   "name": "python3"
  },
  "language_info": {
   "codemirror_mode": {
    "name": "ipython",
    "version": 3
   },
   "file_extension": ".py",
   "mimetype": "text/x-python",
   "name": "python",
   "nbconvert_exporter": "python",
   "pygments_lexer": "ipython3",
   "version": "3.9.6"
  }
 },
 "nbformat": 4,
 "nbformat_minor": 2
}
