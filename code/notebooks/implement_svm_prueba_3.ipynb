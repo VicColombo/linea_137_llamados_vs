{
 "cells": [
  {
   "cell_type": "markdown",
   "metadata": {},
   "source": [
    "### Prueba 3: usar edad numérica escalada completa del llamante y la categórica de la víctima "
   ]
  },
  {
   "cell_type": "code",
   "execution_count": 1,
   "metadata": {},
   "outputs": [],
   "source": [
    "import numpy as np\n",
    "import os\n",
    "import pandas as pd\n",
    "from sklearn.preprocessing import OrdinalEncoder, MinMaxScaler, OneHotEncoder\n",
    "from sklearn.svm import SVC\n",
    "from sklearn.model_selection import train_test_split, GridSearchCV, StratifiedShuffleSplit\n",
    "from sklearn.metrics import accuracy_score, classification_report\n",
    "import gc\n"
   ]
  },
  {
   "cell_type": "code",
   "execution_count": 2,
   "metadata": {},
   "outputs": [],
   "source": [
    "dataset_dir = os.path.join(os.path.dirname(os.path.dirname(os.path.abspath(''))), 'datasets')"
   ]
  },
  {
   "cell_type": "code",
   "execution_count": 3,
   "metadata": {},
   "outputs": [],
   "source": [
    "# 1. cargar datasets\n",
    "\n",
    "llamados_v5= pd.read_excel(os.path.join(dataset_dir, 'xlsx/llamados_v5.xlsx'), parse_dates=['llamado_fecha_hora'])\n"
   ]
  },
  {
   "cell_type": "code",
   "execution_count": 4,
   "metadata": {},
   "outputs": [],
   "source": [
    "# 2 reemplazar todos los NS/NC en convive por na\n",
    "\n",
    "llamados_v5.loc[:, 'victima_convive_agresor'] = llamados_v5['victima_convive_agresor'].replace({'NS/NC': pd.NA})\n",
    "\n"
   ]
  },
  {
   "cell_type": "markdown",
   "metadata": {},
   "source": [
    "3. Modificaciones para SVM\n",
    "\n"
   ]
  },
  {
   "cell_type": "code",
   "execution_count": 5,
   "metadata": {},
   "outputs": [
    {
     "data": {
      "text/plain": [
       "0        0.000000\n",
       "1        0.000060\n",
       "2        0.000121\n",
       "3        0.000181\n",
       "4        0.000181\n",
       "           ...   \n",
       "19138    0.999758\n",
       "19139    0.999940\n",
       "19140    0.999819\n",
       "19141    0.999879\n",
       "19142    0.999879\n",
       "Name: timestamp_encoded_scaled, Length: 19143, dtype: float64"
      ]
     },
     "execution_count": 5,
     "metadata": {},
     "output_type": "execute_result"
    }
   ],
   "source": [
    "# 1. timestamp-fecha_hora encodeado y escalado\n",
    "scaler = MinMaxScaler()\n",
    "encoder = OrdinalEncoder()\n",
    "\n",
    "\n",
    "llamados_v5['timestamp_encoded'] = encoder.fit_transform(llamados_v5[['llamado_fecha_hora']])\n",
    "llamados_v5['timestamp_encoded_scaled'] = scaler.fit_transform(llamados_v5[['timestamp_encoded']])\n",
    "    \n",
    "llamados_v5.timestamp_encoded_scaled\n",
    "\n"
   ]
  },
  {
   "cell_type": "code",
   "execution_count": 6,
   "metadata": {},
   "outputs": [],
   "source": [
    "#Edad. A edad le hago dos cosas para dos pruebas distintas: \n",
    "# 2. escalo los casos completos.\n",
    "# 3. la paso a categórica, ahí los faltantes quedan codificados como una categoría más, y ahí luego la encodeo como \n",
    "# variable categórica con un ordina encoder para preservar el orden. \n",
    "\n",
    "\n",
    "# 2.edad escalada para pruebas con casos completos de edad\n",
    "llamados_v5['victima_edad_escalada'] = scaler.fit_transform(llamados_v5[['victima_edad']])\n",
    "llamados_v5['llamante_edad_escalada'] = scaler.fit_transform(llamados_v5[['llamante_edad']])\n"
   ]
  },
  {
   "cell_type": "code",
   "execution_count": 7,
   "metadata": {},
   "outputs": [],
   "source": [
    "# 3. pasar edad a categórica\n",
    "\n",
    "def categoria_edad (x):\n",
    "    if (x >= 0) and (x <= 11) :\n",
    "        return 'Niñez'\n",
    "    elif (x >= 12) and (x <=18):\n",
    "        return 'Adolescencia'\n",
    "    elif (x >= 19) and (x <=30):\n",
    "        return 'Juventud'\n",
    "    elif (x>=31) and (x<=65) :\n",
    "        return 'Adultez'\n",
    "    elif x>=66:\n",
    "        return 'Vejez'\n",
    "    else:\n",
    "        return 'NS/NC'\n",
    "\n",
    "\n",
    "\n",
    "llamados_v5['victima_edad_cat'] = \\\n",
    "llamados_v5.victima_edad.apply(categoria_edad)\n",
    "llamados_v5['llamante_edad_cat'] = \\\n",
    "llamados_v5.llamante_edad.apply(categoria_edad)\n",
    "\n",
    "\n",
    "# sobra: victima_edad y llamante_edad  llamado_fecha_hora y timestamp_encoded  \n"
   ]
  },
  {
   "cell_type": "code",
   "execution_count": 8,
   "metadata": {},
   "outputs": [],
   "source": [
    "\n",
    "llamados_v5['victima_edad_cat_encoded'] = encoder.fit_transform(llamados_v5[['victima_edad_cat']])"
   ]
  },
  {
   "cell_type": "code",
   "execution_count": 9,
   "metadata": {},
   "outputs": [],
   "source": [
    "# 4. Variables categóricas que serán encodeadas con ordinal: edad cat (ordinal), momento día (ordinal), \n",
    "# estación del año (ordinal).\n",
    "# Además de encodearlas con ordinal, luego voy a escalar ese encoding ordinal. \n",
    "# FUENTE Encoding_Methods_for_Categorical_Data.pdf\n",
    "\n",
    "# 4.1 pasar edad_cat, momento_dia (V5) y estacion_del_año (V5) a dummy con un encoder ordinal\n",
    "\n",
    "\n",
    "llamados_v5['llamante_edad_cat_encoded'] = encoder.fit_transform(llamados_v5[['llamante_edad_cat']])\n",
    "\n",
    "\n",
    "#sobra victima_edad_cat y llamante_edad_cat victima_edad y llamante_edad  llamado_fecha_hora y timestamp_encoded  "
   ]
  },
  {
   "cell_type": "code",
   "execution_count": 10,
   "metadata": {},
   "outputs": [],
   "source": [
    "llamados_v5['momento_encoded'] = encoder.fit_transform(llamados_v5[['momento_dia']])\n",
    "llamados_v5['estacion_encoded'] = encoder.fit_transform(llamados_v5[['estacion_del_año']])\n",
    "\n",
    "\n",
    "#sobra momento_dia y estacion_del_año victima_edad_cat y llamante_edad_cat victima_edad y llamante_edad  llamado_fecha_hora y timestamp_encoded  "
   ]
  },
  {
   "cell_type": "code",
   "execution_count": 11,
   "metadata": {},
   "outputs": [],
   "source": [
    "\n",
    "# 4.2 escalar las variables ordinales edad, momento del día y estación\n",
    "\n",
    "\n",
    "llamados_v5['victima_edad_encoded_scaled'] = scaler.fit_transform(llamados_v5[['victima_edad_cat_encoded']])\n",
    "llamados_v5['llamante_edad_encoded_scaled'] = scaler.fit_transform(llamados_v5[['llamante_edad_cat_encoded']])\n",
    "llamados_v5['momento_encoded_scaled'] = scaler.fit_transform(llamados_v5[['momento_encoded']])\n",
    "llamados_v5['estacion_encoded_scaled'] = scaler.fit_transform(llamados_v5[['estacion_encoded']])\n",
    "\n",
    "\n",
    "#sobra victima_edad_cat_encoded y llamante_edad_cat_encoded, momento_encoded y estacion_encoded\n",
    "# momento_dia y estacion_del_año victima_edad_cat y llamante_edad_cat victima_edad y llamante_edad  llamado_fecha_hora y timestamp_encoded  \n"
   ]
  },
  {
   "cell_type": "code",
   "execution_count": 12,
   "metadata": {},
   "outputs": [],
   "source": [
    "llamados_v5.drop('agresor_fam_no_fam', axis=1, inplace=True)"
   ]
  },
  {
   "cell_type": "code",
   "execution_count": 13,
   "metadata": {},
   "outputs": [],
   "source": [
    "objetos = {}\n",
    "for column in llamados_v5.columns:\n",
    "    if llamados_v5[column].dtypes == object:\n",
    "        objetos[column] = llamados_v5[column].unique()\n",
    "\n",
    "\n"
   ]
  },
  {
   "cell_type": "code",
   "execution_count": 14,
   "metadata": {},
   "outputs": [],
   "source": [
    "# 4.3 Variables de SI/NO encodear con dummy\n",
    "# Find columns that only contain 'SI' and 'NO'\n",
    "\n",
    "si_no_columns = []\n",
    "cat_mas_de_dos = []\n",
    "for column in llamados_v5.columns:\n",
    "    if llamados_v5[column].dtypes == object:\n",
    "        if set(llamados_v5[column].unique()).issubset({'SI', 'NO'}):\n",
    "            si_no_columns.append(column)\n",
    "        else:\n",
    "            cat_mas_de_dos.append(column)\n",
    "        \n",
    "\n"
   ]
  },
  {
   "cell_type": "code",
   "execution_count": 172,
   "metadata": {},
   "outputs": [
    {
     "data": {
      "text/plain": [
       "['llamante_genero',\n",
       " 'caso_judicializado',\n",
       " 'victima_genero',\n",
       " 'victima_nacionalidad',\n",
       " 'victima_discapacidad',\n",
       " 'victima_convive_agresor',\n",
       " 'genero_agresor',\n",
       " 'agresor_conocido_no_conocido',\n",
       " 'tipo_vinculo_llamante',\n",
       " 'hecho_lugar_red',\n",
       " 'momento_dia',\n",
       " 'estacion_del_año',\n",
       " 'llamado_provincia_red',\n",
       " 'victima_edad_cat',\n",
       " 'llamante_edad_cat']"
      ]
     },
     "execution_count": 172,
     "metadata": {},
     "output_type": "execute_result"
    }
   ],
   "source": [
    "cat_mas_de_dos\n",
    "# sacarle las que ya están encodeadas con ordinal y la target"
   ]
  },
  {
   "cell_type": "code",
   "execution_count": 15,
   "metadata": {},
   "outputs": [],
   "source": [
    "encodear_one_hot = ['llamante_genero',\n",
    " 'caso_judicializado',\n",
    " 'victima_genero',\n",
    " 'victima_nacionalidad',\n",
    " 'victima_discapacidad',\n",
    " 'genero_agresor',\n",
    " 'agresor_conocido_no_conocido',\n",
    " 'tipo_vinculo_llamante',\n",
    " 'hecho_lugar_red',\n",
    " 'llamado_provincia_red']"
   ]
  },
  {
   "cell_type": "code",
   "execution_count": 16,
   "metadata": {},
   "outputs": [],
   "source": [
    "# encodear si/no \n",
    "\n",
    "for col in si_no_columns:\n",
    "    llamados_v5[col] = llamados_v5[col].map({'SI': 1, 'NO':0})"
   ]
  },
  {
   "cell_type": "code",
   "execution_count": 17,
   "metadata": {},
   "outputs": [],
   "source": [
    "#encodear target\n",
    "llamados_v5['victima_convive_agresor'] = llamados_v5['victima_convive_agresor'].map({'SI': 1, 'NO':0})"
   ]
  },
  {
   "cell_type": "code",
   "execution_count": 18,
   "metadata": {},
   "outputs": [],
   "source": [
    "# droppear las columnas que ya sé que no voy a usar\n",
    "llamados_v5.drop(['victima_edad_cat_encoded', 'llamante_edad_cat_encoded', \n",
    "                 'momento_encoded', 'estacion_encoded', 'momento_dia',\n",
    "                 'estacion_del_año', 'victima_edad_cat', \n",
    "                 'llamante_edad_cat', 'victima_edad', 'llamante_edad',  \n",
    "                 'llamado_fecha_hora', 'timestamp_encoded'], axis=1, inplace=True) "
   ]
  },
  {
   "cell_type": "code",
   "execution_count": 19,
   "metadata": {},
   "outputs": [],
   "source": [
    "# encodear con one hot todas las categóricas de más de dos valores: encodear_one_hot\n",
    "\n",
    "encoder = OneHotEncoder(sparse_output=True) # considerar drop first is sparse false\n",
    "\n",
    "# Fit and transform the data\n",
    "encoded_sparse = encoder.fit_transform(llamados_v5[encodear_one_hot])\n",
    "\n",
    "# Convert the sparse matrix to a dense array\n",
    "encoded_array = encoded_sparse.toarray()\n",
    "\n",
    "# Create a DataFrame with the encoded columns\n",
    "encoded_df = pd.DataFrame(encoded_array, columns=encoder.get_feature_names_out(encodear_one_hot))\n",
    "\n",
    "# Drop the original columns that were one-hot encoded\n",
    "llamados_v5.drop(columns=encodear_one_hot, inplace=True)\n",
    "\n",
    "# Concatenate the original DataFrame with the encoded DataFrame\n",
    "llamados_v5 = pd.concat([llamados_v5, encoded_df], axis=1)\n",
    "\n",
    "\n"
   ]
  },
  {
   "cell_type": "code",
   "execution_count": 20,
   "metadata": {},
   "outputs": [],
   "source": [
    "# sacar todos los casos vacíos de convive y ponerlos en un nuevo dataset aparte, \n",
    "# será el test final a predecir con el mejor modelo\n",
    "\n",
    "# Create a DataFrame with rows where 'convive' is NA\n",
    "test_final = llamados_v5[llamados_v5['victima_convive_agresor'].isna()]\n",
    "\n",
    "# Remove rows where 'convive' is NA from the original DataFrame\n",
    "llamados_v5 = llamados_v5.dropna(subset=['victima_convive_agresor'])\n"
   ]
  },
  {
   "cell_type": "code",
   "execution_count": 21,
   "metadata": {},
   "outputs": [
    {
     "data": {
      "text/plain": [
       "112"
      ]
     },
     "execution_count": 21,
     "metadata": {},
     "output_type": "execute_result"
    }
   ],
   "source": [
    "gc.collect()"
   ]
  },
  {
   "cell_type": "code",
   "execution_count": 22,
   "metadata": {},
   "outputs": [
    {
     "data": {
      "text/plain": [
       "True"
      ]
     },
     "execution_count": 22,
     "metadata": {},
     "output_type": "execute_result"
    }
   ],
   "source": [
    "llamados_v5.isnull().values.any()"
   ]
  },
  {
   "cell_type": "code",
   "execution_count": 23,
   "metadata": {},
   "outputs": [],
   "source": [
    "llamados_v5.drop(['victima_edad_escalada'], axis=1, inplace=True) "
   ]
  },
  {
   "cell_type": "code",
   "execution_count": 24,
   "metadata": {},
   "outputs": [],
   "source": [
    "llamados_v5= llamados_v5.dropna(subset=['llamante_edad_escalada'])   "
   ]
  },
  {
   "cell_type": "code",
   "execution_count": 25,
   "metadata": {},
   "outputs": [
    {
     "name": "stdout",
     "output_type": "stream",
     "text": [
      "Best parameters found:  {'C': 1, 'gamma': 'scale', 'kernel': 'poly'}\n",
      "Best cross-validation accuracy:  0.8803262434943797\n",
      "Test set accuracy:  0.8919514884233738\n",
      "Classification report:\n",
      "               precision    recall  f1-score   support\n",
      "\n",
      "         0.0       0.91      0.97      0.94      1492\n",
      "         1.0       0.78      0.55      0.64       322\n",
      "\n",
      "    accuracy                           0.89      1814\n",
      "   macro avg       0.84      0.76      0.79      1814\n",
      "weighted avg       0.89      0.89      0.88      1814\n",
      "\n"
     ]
    }
   ],
   "source": [
    "# Separate features and target variable\n",
    "X = llamados_v5.drop(columns=['victima_convive_agresor'])\n",
    "y = llamados_v5['victima_convive_agresor']\n",
    "\n",
    "# Stratified split\n",
    "sss = StratifiedShuffleSplit(n_splits=1, test_size=0.2, random_state=42)\n",
    "for train_index, test_index in sss.split(X, y):\n",
    "    X_train, X_test = X.iloc[train_index], X.iloc[test_index]\n",
    "    y_train, y_test = y.iloc[train_index], y.iloc[test_index]\n",
    "\n",
    "# Define the parameter grid for GridSearchCV\n",
    "param_grid = {\n",
    "    'kernel': ['linear', 'poly', 'rbf', 'sigmoid'],\n",
    "    'C': [0.1, 1, 10, 100],\n",
    "    'gamma': ['scale', 'auto']\n",
    "}\n",
    "\n",
    "# Initialize the SVM model\n",
    "svm = SVC()\n",
    "\n",
    "# Perform GridSearchCV to find the best parameters\n",
    "grid_search = GridSearchCV(svm, param_grid, cv=5, scoring='accuracy')\n",
    "grid_search.fit(X_train, y_train)\n",
    "\n",
    "# Get the best model\n",
    "best_model = grid_search.best_estimator_\n",
    "\n",
    "# Make predictions on the test set\n",
    "y_pred = best_model.predict(X_test)\n",
    "\n",
    "# Evaluate the model\n",
    "print(\"Best parameters found: \", grid_search.best_params_)\n",
    "print(\"Best cross-validation accuracy: \", grid_search.best_score_)\n",
    "print(\"Test set accuracy: \", accuracy_score(y_test, y_pred))\n",
    "print(\"Classification report:\\n\", classification_report(y_test, y_pred))\n"
   ]
  },
  {
   "cell_type": "code",
   "execution_count": null,
   "metadata": {},
   "outputs": [],
   "source": [
    "# Apply the best model to the subset of the original dataset\n",
    "test_final = test_final.dropna(subset=['llamante_edad_escalada'])\n",
    "X_na = test_final.drop(columns=['victima_convive_agresor','victima_edad_escalada'])\n",
    "\n",
    "\n",
    "na_predictions = best_model.predict(X_na)\n",
    "\n",
    "# Add the predictions to the na_convive_df DataFrame\n",
    "test_final['victima_convive_agresor_pred'] = na_predictions\n",
    "\n",
    "print(\"\\nPredictions for NA 'convive' values:\")\n",
    "print(test_final)"
   ]
  },
  {
   "cell_type": "code",
   "execution_count": 38,
   "metadata": {},
   "outputs": [
    {
     "name": "stdout",
     "output_type": "stream",
     "text": [
      "SI-NO en test victima_convive_agresor_pred\n",
      "0.0    1350\n",
      "1.0     146\n",
      "Name: count, dtype: int64\n",
      "Tamaño test (1496, 78)\n"
     ]
    }
   ],
   "source": [
    "print('SI-NO en test',test_final.victima_convive_agresor_pred.value_counts())\n",
    "print('Tamaño test',test_final.shape)"
   ]
  },
  {
   "cell_type": "code",
   "execution_count": 45,
   "metadata": {},
   "outputs": [
    {
     "data": {
      "text/plain": [
       "(9067, 76)"
      ]
     },
     "execution_count": 45,
     "metadata": {},
     "output_type": "execute_result"
    }
   ],
   "source": [
    "llamados_v5.shape"
   ]
  },
  {
   "cell_type": "code",
   "execution_count": 47,
   "metadata": {},
   "outputs": [
    {
     "data": {
      "text/plain": [
       "victima_convive_agresor\n",
       "0.0    7457\n",
       "1.0    1610\n",
       "Name: count, dtype: int64"
      ]
     },
     "execution_count": 47,
     "metadata": {},
     "output_type": "execute_result"
    }
   ],
   "source": [
    "llamados_v5.victima_convive_agresor.value_counts()"
   ]
  },
  {
   "cell_type": "code",
   "execution_count": 34,
   "metadata": {},
   "outputs": [],
   "source": [
    "dataset_original_proporcion_si = 2756/15085\n",
    "dataset_original_proporcion_no = 12329/15085\n",
    "test_final_proporcion_si = 310/4058\n",
    "test_final_porporcion_no = 3748/4058"
   ]
  },
  {
   "cell_type": "code",
   "execution_count": 52,
   "metadata": {},
   "outputs": [
    {
     "data": {
      "text/plain": [
       "146"
      ]
     },
     "execution_count": 52,
     "metadata": {},
     "output_type": "execute_result"
    }
   ],
   "source": [
    "test_final.victima_convive_agresor_pred.value_counts()[]"
   ]
  },
  {
   "cell_type": "code",
   "execution_count": 53,
   "metadata": {},
   "outputs": [
    {
     "name": "stdout",
     "output_type": "stream",
     "text": [
      "Proporción de SI en dataset original 0.1775670012131907 Proporción de SI en test final 0.09759358288770054\n",
      "Proporción de NO en dataset original 0.09759358288770054 Proporción de NO en test final 0.9024064171122995\n"
     ]
    }
   ],
   "source": [
    "print('Proporción de SI en dataset original', llamados_v5.victima_convive_agresor.value_counts()[1]/llamados_v5.shape[0], 'Proporción de SI en test final',test_final.victima_convive_agresor_pred.value_counts()[1]/test_final.shape[0] )\n",
    "print('Proporción de NO en dataset original', test_final.victima_convive_agresor_pred.value_counts()[1]/test_final.shape[0], 'Proporción de NO en test final', test_final.victima_convive_agresor_pred.value_counts()[0]/test_final.shape[0])\n"
   ]
  },
  {
   "cell_type": "code",
   "execution_count": null,
   "metadata": {},
   "outputs": [],
   "source": [
    "#Prueba 3: usar edad numérica escalada completa del llamante y la categórica de la víctima\n",
    "#Prueba 4: usar edad numérica escalada completa de la víctima y la categórica del llamante"
   ]
  }
 ],
 "metadata": {
  "kernelspec": {
   "display_name": "Python 3",
   "language": "python",
   "name": "python3"
  },
  "language_info": {
   "codemirror_mode": {
    "name": "ipython",
    "version": 3
   },
   "file_extension": ".py",
   "mimetype": "text/x-python",
   "name": "python",
   "nbconvert_exporter": "python",
   "pygments_lexer": "ipython3",
   "version": "3.9.6"
  }
 },
 "nbformat": 4,
 "nbformat_minor": 2
}
