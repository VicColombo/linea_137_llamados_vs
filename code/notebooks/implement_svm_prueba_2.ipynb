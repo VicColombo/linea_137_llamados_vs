{
 "cells": [
  {
   "cell_type": "markdown",
   "metadata": {},
   "source": [
    "### Prueba 2: usar edades numéricas escaladas completas de víctima y llamante\n"
   ]
  },
  {
   "cell_type": "code",
   "execution_count": 1,
   "metadata": {},
   "outputs": [],
   "source": [
    "import numpy as np\n",
    "import os\n",
    "import pandas as pd\n",
    "from sklearn.preprocessing import OrdinalEncoder, MinMaxScaler, OneHotEncoder\n",
    "from sklearn.svm import SVC\n",
    "from sklearn.model_selection import train_test_split, GridSearchCV, StratifiedShuffleSplit\n",
    "from sklearn.metrics import accuracy_score, classification_report\n",
    "import gc"
   ]
  },
  {
   "cell_type": "code",
   "execution_count": 2,
   "metadata": {},
   "outputs": [],
   "source": [
    "dataset_dir = os.path.join(os.path.dirname(os.path.dirname(os.path.abspath(''))), 'datasets')"
   ]
  },
  {
   "cell_type": "code",
   "execution_count": 15,
   "metadata": {},
   "outputs": [],
   "source": [
    "llamados_v5= pd.read_excel(os.path.join(dataset_dir, 'xlsx/llamados_v5.xlsx'), parse_dates=['llamado_fecha_hora'])\n"
   ]
  },
  {
   "cell_type": "code",
   "execution_count": 16,
   "metadata": {},
   "outputs": [],
   "source": [
    "llamados_v5.loc[:, 'victima_convive_agresor'] = llamados_v5['victima_convive_agresor'].replace({'NS/NC': pd.NA})\n",
    "llamados_v5.drop('agresor_fam_no_fam', axis=1, inplace=True)\n",
    "\n",
    "scaler = MinMaxScaler()\n",
    "encoder = OrdinalEncoder()\n",
    "\n",
    "\n",
    "llamados_v5['timestamp_encoded'] = encoder.fit_transform(llamados_v5[['llamado_fecha_hora']])\n",
    "llamados_v5['timestamp_encoded_scaled'] = scaler.fit_transform(llamados_v5[['timestamp_encoded']])\n",
    "    \n",
    "\n",
    "llamados_v5['victima_edad_escalada'] = scaler.fit_transform(llamados_v5[['victima_edad']])\n",
    "llamados_v5['llamante_edad_escalada'] = scaler.fit_transform(llamados_v5[['llamante_edad']])\n",
    "\n",
    "llamados_v5['momento_encoded'] = encoder.fit_transform(llamados_v5[['momento_dia']])\n",
    "llamados_v5['estacion_encoded'] = encoder.fit_transform(llamados_v5[['estacion_del_año']])\n",
    "\n",
    "llamados_v5['momento_encoded_scaled'] = scaler.fit_transform(llamados_v5[['momento_encoded']])\n",
    "llamados_v5['estacion_encoded_scaled'] = scaler.fit_transform(llamados_v5[['estacion_encoded']])"
   ]
  },
  {
   "cell_type": "code",
   "execution_count": 17,
   "metadata": {},
   "outputs": [],
   "source": [
    "# Find columns that only contain 'SI' and 'NO'\n",
    "\n",
    "si_no_columns = []\n",
    "cat_mas_de_dos = []\n",
    "for column in llamados_v5.columns:\n",
    "    if llamados_v5[column].dtypes == object:\n",
    "        if set(llamados_v5[column].unique()).issubset({'SI', 'NO'}):\n",
    "            si_no_columns.append(column)\n",
    "        else:\n",
    "            cat_mas_de_dos.append(column)\n",
    "\n",
    "# encodear si/no \n",
    "\n",
    "for col in si_no_columns:\n",
    "    llamados_v5[col] = llamados_v5[col].map({'SI': 1, 'NO':0})\n",
    "\n",
    "\n",
    "#encodear target\n",
    "llamados_v5['victima_convive_agresor'] = llamados_v5['victima_convive_agresor'].map({'SI': 1, 'NO':0})"
   ]
  },
  {
   "cell_type": "code",
   "execution_count": 18,
   "metadata": {},
   "outputs": [],
   "source": [
    "# droppear las columnas que ya sé que no voy a usar\n",
    "llamados_v5.drop([ 'momento_encoded', 'estacion_encoded', 'momento_dia',\n",
    "                 'estacion_del_año', 'victima_edad', 'llamante_edad',  \n",
    "                 'llamado_fecha_hora', 'timestamp_encoded'], axis=1, inplace=True) "
   ]
  },
  {
   "cell_type": "code",
   "execution_count": 19,
   "metadata": {},
   "outputs": [],
   "source": [
    "encodear_one_hot = ['llamante_genero',\n",
    " 'caso_judicializado',\n",
    " 'victima_genero',\n",
    " 'victima_nacionalidad',\n",
    " 'victima_discapacidad',\n",
    " 'genero_agresor',\n",
    " 'agresor_conocido_no_conocido',\n",
    " 'tipo_vinculo_llamante',\n",
    " 'hecho_lugar_red',\n",
    " 'llamado_provincia_red']"
   ]
  },
  {
   "cell_type": "code",
   "execution_count": 20,
   "metadata": {},
   "outputs": [],
   "source": [
    "# encodear con one hot todas las categóricas de más de dos valores: encodear_one_hot\n",
    "\n",
    "encoder = OneHotEncoder(sparse_output=True) # considerar drop first is sparse false\n",
    "\n",
    "# Fit and transform the data\n",
    "encoded_sparse = encoder.fit_transform(llamados_v5[encodear_one_hot])\n",
    "\n",
    "# Convert the sparse matrix to a dense array\n",
    "encoded_array = encoded_sparse.toarray()\n",
    "\n",
    "# Create a DataFrame with the encoded columns\n",
    "encoded_df = pd.DataFrame(encoded_array, columns=encoder.get_feature_names_out(encodear_one_hot))\n",
    "\n",
    "# Drop the original columns that were one-hot encoded\n",
    "llamados_v5.drop(columns=encodear_one_hot, inplace=True)\n",
    "\n",
    "# Concatenate the original DataFrame with the encoded DataFrame\n",
    "llamados_v5 = pd.concat([llamados_v5, encoded_df], axis=1)"
   ]
  },
  {
   "cell_type": "code",
   "execution_count": 21,
   "metadata": {},
   "outputs": [],
   "source": [
    "# sacar todos los casos vacíos de edad\n",
    "\n",
    "llamados_v5.dropna(subset=['victima_edad_escalada'], inplace=True)\n",
    "llamados_v5.dropna(subset=['llamante_edad_escalada'], inplace=True)"
   ]
  },
  {
   "cell_type": "code",
   "execution_count": 22,
   "metadata": {},
   "outputs": [],
   "source": [
    "# sacar todos los casos vacíos de convive y ponerlos en un nuevo dataset aparte, \n",
    "# será el test final a predecir con el mejor modelo\n",
    "\n",
    "# Create a DataFrame with rows where 'convive' is NA\n",
    "test_final = llamados_v5[llamados_v5['victima_convive_agresor'].isna()]\n",
    "\n",
    "# Remove rows where 'convive' is NA from the original DataFrame\n",
    "llamados_v5 = llamados_v5.dropna(subset=['victima_convive_agresor'])"
   ]
  },
  {
   "cell_type": "code",
   "execution_count": 23,
   "metadata": {},
   "outputs": [
    {
     "data": {
      "text/plain": [
       "False"
      ]
     },
     "execution_count": 23,
     "metadata": {},
     "output_type": "execute_result"
    }
   ],
   "source": [
    "llamados_v5.isnull().values.any()"
   ]
  },
  {
   "cell_type": "code",
   "execution_count": 24,
   "metadata": {},
   "outputs": [
    {
     "data": {
      "text/plain": [
       "108"
      ]
     },
     "execution_count": 24,
     "metadata": {},
     "output_type": "execute_result"
    }
   ],
   "source": [
    "gc.collect()"
   ]
  },
  {
   "cell_type": "code",
   "execution_count": 25,
   "metadata": {},
   "outputs": [
    {
     "name": "stdout",
     "output_type": "stream",
     "text": [
      "Best parameters found:  {'C': 1, 'gamma': 'scale', 'kernel': 'poly'}\n",
      "Best cross-validation accuracy:  0.8817828497604564\n",
      "Test set accuracy:  0.8881431767337807\n",
      "Classification report:\n",
      "               precision    recall  f1-score   support\n",
      "\n",
      "         0.0       0.90      0.97      0.93      1472\n",
      "         1.0       0.77      0.52      0.62       316\n",
      "\n",
      "    accuracy                           0.89      1788\n",
      "   macro avg       0.84      0.74      0.78      1788\n",
      "weighted avg       0.88      0.89      0.88      1788\n",
      "\n"
     ]
    }
   ],
   "source": [
    "# Separate features and target variable\n",
    "X = llamados_v5.drop(columns=['victima_convive_agresor'])\n",
    "y = llamados_v5['victima_convive_agresor']\n",
    "\n",
    "# Stratified split\n",
    "sss = StratifiedShuffleSplit(n_splits=1, test_size=0.2, random_state=42)\n",
    "for train_index, test_index in sss.split(X, y):\n",
    "    X_train, X_test = X.iloc[train_index], X.iloc[test_index]\n",
    "    y_train, y_test = y.iloc[train_index], y.iloc[test_index]\n",
    "\n",
    "# Define the parameter grid for GridSearchCV\n",
    "param_grid = {\n",
    "    'kernel': ['linear', 'poly', 'rbf', 'sigmoid'],\n",
    "    'C': [0.1, 1, 10, 100],\n",
    "    'gamma': ['scale', 'auto']\n",
    "}\n",
    "\n",
    "# Initialize the SVM model\n",
    "svm = SVC()\n",
    "\n",
    "# Perform GridSearchCV to find the best parameters\n",
    "grid_search = GridSearchCV(svm, param_grid, cv=5, scoring='accuracy')\n",
    "grid_search.fit(X_train, y_train)\n",
    "\n",
    "# Get the best model\n",
    "best_model = grid_search.best_estimator_\n",
    "\n",
    "# Make predictions on the test set\n",
    "y_pred = best_model.predict(X_test)\n",
    "\n",
    "# Evaluate the model\n",
    "print(\"Best parameters found: \", grid_search.best_params_)\n",
    "print(\"Best cross-validation accuracy: \", grid_search.best_score_)\n",
    "print(\"Test set accuracy: \", accuracy_score(y_test, y_pred))\n",
    "print(\"Classification report:\\n\", classification_report(y_test, y_pred))"
   ]
  },
  {
   "cell_type": "code",
   "execution_count": 26,
   "metadata": {},
   "outputs": [
    {
     "name": "stdout",
     "output_type": "stream",
     "text": [
      "\n",
      "Predictions for NA 'convive' values:\n",
      "       victima_a_resguardo  victima_convive_agresor  vs_tocamiento_sexual  \\\n",
      "14                       1                      NaN                     0   \n",
      "41                       1                      NaN                     0   \n",
      "54                       1                      NaN                     0   \n",
      "55                       1                      NaN                     0   \n",
      "58                       1                      NaN                     0   \n",
      "...                    ...                      ...                   ...   \n",
      "19097                    1                      NaN                     0   \n",
      "19108                    1                      NaN                     0   \n",
      "19113                    1                      NaN                     0   \n",
      "19121                    1                      NaN                     0   \n",
      "19129                    1                      NaN                     0   \n",
      "\n",
      "       vs_intento_tocamiento  vs_grooming  vs_exhibicionismo  \\\n",
      "14                         0            0                  0   \n",
      "41                         0            0                  0   \n",
      "54                         0            0                  0   \n",
      "55                         0            0                  1   \n",
      "58                         0            0                  0   \n",
      "...                      ...          ...                ...   \n",
      "19097                      0            0                  0   \n",
      "19108                      0            0                  0   \n",
      "19113                      0            0                  0   \n",
      "19121                      0            0                  0   \n",
      "19129                      0            0                  0   \n",
      "\n",
      "       vs_obligacion_sacarse_fotos_pornograficas  vs_acoso_sexual  \\\n",
      "14                                             0                0   \n",
      "41                                             0                0   \n",
      "54                                             0                0   \n",
      "55                                             1                0   \n",
      "58                                             0                0   \n",
      "...                                          ...              ...   \n",
      "19097                                          0                0   \n",
      "19108                                          0                0   \n",
      "19113                                          0                0   \n",
      "19121                                          0                0   \n",
      "19129                                          0                0   \n",
      "\n",
      "       vs_iniciacion_sexual_forzada_inducida  vs_otra_forma_violencia_sexual  \\\n",
      "14                                         0                               1   \n",
      "41                                         0                               0   \n",
      "54                                         0                               0   \n",
      "55                                         0                               0   \n",
      "58                                         0                               0   \n",
      "...                                      ...                             ...   \n",
      "19097                                      0                               0   \n",
      "19108                                      0                               0   \n",
      "19113                                      0                               0   \n",
      "19121                                      0                               0   \n",
      "19129                                      0                               0   \n",
      "\n",
      "       ...  hecho_lugar_red_Redes Sociales  \\\n",
      "14     ...                             0.0   \n",
      "41     ...                             0.0   \n",
      "54     ...                             0.0   \n",
      "55     ...                             0.0   \n",
      "58     ...                             0.0   \n",
      "...    ...                             ...   \n",
      "19097  ...                             0.0   \n",
      "19108  ...                             0.0   \n",
      "19113  ...                             1.0   \n",
      "19121  ...                             0.0   \n",
      "19129  ...                             0.0   \n",
      "\n",
      "       hecho_lugar_red_Vivienda de la Víctima  \\\n",
      "14                                        0.0   \n",
      "41                                        0.0   \n",
      "54                                        0.0   \n",
      "55                                        0.0   \n",
      "58                                        0.0   \n",
      "...                                       ...   \n",
      "19097                                     1.0   \n",
      "19108                                     0.0   \n",
      "19113                                     0.0   \n",
      "19121                                     0.0   \n",
      "19129                                     0.0   \n",
      "\n",
      "       hecho_lugar_red_Vivienda del Agresor  \\\n",
      "14                                      0.0   \n",
      "41                                      0.0   \n",
      "54                                      0.0   \n",
      "55                                      0.0   \n",
      "58                                      0.0   \n",
      "...                                     ...   \n",
      "19097                                   0.0   \n",
      "19108                                   0.0   \n",
      "19113                                   0.0   \n",
      "19121                                   0.0   \n",
      "19129                                   0.0   \n",
      "\n",
      "       llamado_provincia_red_Buenos Aires  llamado_provincia_red_CABA  \\\n",
      "14                                    0.0                         0.0   \n",
      "41                                    1.0                         0.0   \n",
      "54                                    1.0                         0.0   \n",
      "55                                    1.0                         0.0   \n",
      "58                                    0.0                         0.0   \n",
      "...                                   ...                         ...   \n",
      "19097                                 0.0                         1.0   \n",
      "19108                                 0.0                         0.0   \n",
      "19113                                 1.0                         0.0   \n",
      "19121                                 1.0                         0.0   \n",
      "19129                                 0.0                         0.0   \n",
      "\n",
      "       llamado_provincia_red_NS/NC  llamado_provincia_red_Región Central  \\\n",
      "14                             0.0                                   0.0   \n",
      "41                             0.0                                   0.0   \n",
      "54                             0.0                                   0.0   \n",
      "55                             0.0                                   0.0   \n",
      "58                             0.0                                   0.0   \n",
      "...                            ...                                   ...   \n",
      "19097                          0.0                                   0.0   \n",
      "19108                          0.0                                   1.0   \n",
      "19113                          0.0                                   0.0   \n",
      "19121                          0.0                                   0.0   \n",
      "19129                          0.0                                   1.0   \n",
      "\n",
      "       llamado_provincia_red_Región Norte  \\\n",
      "14                                    1.0   \n",
      "41                                    0.0   \n",
      "54                                    0.0   \n",
      "55                                    0.0   \n",
      "58                                    1.0   \n",
      "...                                   ...   \n",
      "19097                                 0.0   \n",
      "19108                                 0.0   \n",
      "19113                                 0.0   \n",
      "19121                                 0.0   \n",
      "19129                                 0.0   \n",
      "\n",
      "       llamado_provincia_red_Región Patagónica  victima_convive_agresor_pred  \n",
      "14                                         0.0                           0.0  \n",
      "41                                         0.0                           0.0  \n",
      "54                                         0.0                           0.0  \n",
      "55                                         0.0                           0.0  \n",
      "58                                         0.0                           1.0  \n",
      "...                                        ...                           ...  \n",
      "19097                                      0.0                           1.0  \n",
      "19108                                      0.0                           0.0  \n",
      "19113                                      0.0                           0.0  \n",
      "19121                                      0.0                           0.0  \n",
      "19129                                      0.0                           0.0  \n",
      "\n",
      "[1315 rows x 76 columns]\n"
     ]
    }
   ],
   "source": [
    "# Apply the best model to the subset of the original dataset\n",
    "X_na = test_final.drop(columns=['victima_convive_agresor'])\n",
    "na_predictions = best_model.predict(X_na)\n",
    "\n",
    "# Add the predictions to the na_convive_df DataFrame\n",
    "test_final['victima_convive_agresor_pred'] = na_predictions\n",
    "\n",
    "print(\"\\nPredictions for NA 'convive' values:\")\n",
    "print(test_final)"
   ]
  },
  {
   "cell_type": "code",
   "execution_count": 27,
   "metadata": {},
   "outputs": [
    {
     "data": {
      "text/plain": [
       "victima_convive_agresor_pred\n",
       "0.0    1182\n",
       "1.0     133\n",
       "Name: count, dtype: int64"
      ]
     },
     "execution_count": 27,
     "metadata": {},
     "output_type": "execute_result"
    }
   ],
   "source": [
    "test_final.victima_convive_agresor_pred.value_counts()\n"
   ]
  },
  {
   "cell_type": "code",
   "execution_count": 28,
   "metadata": {},
   "outputs": [
    {
     "data": {
      "text/plain": [
       "(1315, 76)"
      ]
     },
     "execution_count": 28,
     "metadata": {},
     "output_type": "execute_result"
    }
   ],
   "source": [
    "test_final.shape\n"
   ]
  },
  {
   "cell_type": "code",
   "execution_count": 29,
   "metadata": {},
   "outputs": [
    {
     "data": {
      "text/plain": [
       "(8936, 75)"
      ]
     },
     "execution_count": 29,
     "metadata": {},
     "output_type": "execute_result"
    }
   ],
   "source": [
    "llamados_v5.shape\n"
   ]
  },
  {
   "cell_type": "code",
   "execution_count": 30,
   "metadata": {},
   "outputs": [
    {
     "data": {
      "text/plain": [
       "victima_convive_agresor\n",
       "0.0    7355\n",
       "1.0    1581\n",
       "Name: count, dtype: int64"
      ]
     },
     "execution_count": 30,
     "metadata": {},
     "output_type": "execute_result"
    }
   ],
   "source": [
    "llamados_v5.victima_convive_agresor.value_counts()"
   ]
  },
  {
   "cell_type": "code",
   "execution_count": 32,
   "metadata": {},
   "outputs": [
    {
     "name": "stdout",
     "output_type": "stream",
     "text": [
      "Proporción de SI en dataset original 0.17692479856759177 Proporción de SI en test final 0.10114068441064639\n",
      "Proporción de NO en dataset original 0.8230752014324082 Proporción de NO en test final 0.8988593155893536\n"
     ]
    }
   ],
   "source": [
    "print('Proporción de SI en dataset original', llamados_v5.victima_convive_agresor.value_counts()[1]/llamados_v5.shape[0], 'Proporción de SI en test final',test_final.victima_convive_agresor_pred.value_counts()[1]/test_final.shape[0] )\n",
    "print('Proporción de NO en dataset original', test_final.victima_convive_agresor_pred.value_counts()[1]/test_final.shape[0], 'Proporción de NO en test final', test_final.victima_convive_agresor_pred.value_counts()[0]/test_final.shape[0])\n"
   ]
  }
 ],
 "metadata": {
  "kernelspec": {
   "display_name": "tpenv",
   "language": "python",
   "name": "python3"
  },
  "language_info": {
   "codemirror_mode": {
    "name": "ipython",
    "version": 3
   },
   "file_extension": ".py",
   "mimetype": "text/x-python",
   "name": "python",
   "nbconvert_exporter": "python",
   "pygments_lexer": "ipython3",
   "version": "3.9.6"
  }
 },
 "nbformat": 4,
 "nbformat_minor": 2
}
