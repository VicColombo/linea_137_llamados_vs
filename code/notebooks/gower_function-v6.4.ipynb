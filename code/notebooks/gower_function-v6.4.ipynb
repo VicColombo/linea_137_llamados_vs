{
 "cells": [
  {
   "cell_type": "markdown",
   "metadata": {},
   "source": [
    "<h1>Gower distance calculation for Python V6.4</h1>\n",
    "<h3>Version submited to scikit learn project approval</h3>\n",
    "https://github.com/scikit-learn/scikit-learn/pull/9555\n",
    "\n",
    "<p>It is not all the time that the data under study is an even matrix of numerical values. Sometimes, you need to dig into data with mixed types of variables (e.g., categorical, boolean, numerical).\n",
    "</p>\n",
    "<p>This notebook provides the Gower function that calculates the Gower mixed similarity.\n",
    "</p>\n",
    "<p>For more details about the Gower distance, please visit: <a href=\"http://members.cbio.mines-paristech.fr/~jvert/svn/bibli/local/Gower1971general.pdf\">Gower, J.C., 1971, A General Coefficient of Similarity and Some of Its Properties</a>.</p>\n"
   ]
  },
  {
   "cell_type": "markdown",
   "metadata": {},
   "source": [
    "<h2>1. Generate some data with mixed types</h2>"
   ]
  },
  {
   "cell_type": "code",
   "execution_count": 1,
   "metadata": {
    "scrolled": false
   },
   "outputs": [
    {
     "name": "stdout",
     "output_type": "stream",
     "text": [
      "    age  available_credit civil_status gender  has_children   salary\n",
      "0  21.0            2200.0      MARRIED      M           1.0   3000.0\n",
      "1  21.0             100.0       SINGLE      M           0.0   1200.0\n",
      "2  19.0           22000.0       SINGLE      N           1.0  32000.0\n",
      "3  30.0            1100.0       SINGLE      M           1.0   1800.0\n",
      "4  21.0            2000.0      MARRIED      F           1.0   2900.0\n",
      "5  21.0             100.0       SINGLE      F           0.0   1100.0\n",
      "6  19.0            6000.0        WIDOW      F           0.0  10000.0\n",
      "7  30.0            2200.0     DIVORCED      F           1.0   1500.0\n",
      "8   NaN               NaN         None   None           NaN      NaN\n"
     ]
    }
   ],
   "source": [
    "import numpy as np\n",
    "import pandas as pd\n",
    "from scipy.spatial import distance \n",
    "from sklearn.utils import validation\n",
    "from sklearn.metrics import pairwise\n",
    "from scipy.sparse import issparse\n",
    "\n",
    "X=pd.DataFrame({'age':[21,21,19, 30,21,21,19,30,None],\n",
    "'gender':['M','M','N','M','F','F','F','F',None],\n",
    "'civil_status':['MARRIED','SINGLE','SINGLE','SINGLE','MARRIED','SINGLE','WIDOW','DIVORCED',None],\n",
    "'salary':[3000.0,1200.0 ,32000.0,1800.0 ,2900.0 ,1100.0 ,10000.0,1500.0,None],\n",
    "'has_children':[1,0,1,1,1,0,0,1,None],\n",
    "'available_credit':[2200,100,22000,1100,2000,100,6000,2200,None]})\n",
    "\n",
    "\n",
    "print(X)"
   ]
  },
  {
   "cell_type": "markdown",
   "metadata": {},
   "source": [
    "#2. Check pairwise utility functios (version not released yet to scikit-learn)"
   ]
  },
  {
   "cell_type": "code",
   "execution_count": 2,
   "metadata": {},
   "outputs": [],
   "source": [
    "\n",
    "def check_pairwise_arrays(X, Y, precomputed=False, dtype=None):\n",
    "    X, Y, dtype_float = pairwise._return_float_dtype(X, Y)\n",
    "\n",
    "    warn_on_dtype = dtype is not None\n",
    "    estimator = 'check_pairwise_arrays'\n",
    "    if dtype is None:\n",
    "        dtype = dtype_float\n",
    "\n",
    "    if Y is X or Y is None:\n",
    "        X = Y = validation.check_array(X, accept_sparse='csr', dtype=dtype,\n",
    "                            warn_on_dtype=warn_on_dtype, estimator=estimator)\n",
    "    else:\n",
    "        X = validation.check_array(X, accept_sparse='csr', dtype=dtype,\n",
    "                        warn_on_dtype=warn_on_dtype, estimator=estimator)\n",
    "        Y = validation.check_array(Y, accept_sparse='csr', dtype=dtype,\n",
    "                        warn_on_dtype=warn_on_dtype, estimator=estimator)\n",
    "\n",
    "    if precomputed:\n",
    "        if X.shape[1] != Y.shape[0]:\n",
    "            raise ValueError(\"Precomputed metric requires shape \"\n",
    "                             \"(n_queries, n_indexed). Got (%d, %d) \"\n",
    "                             \"for %d indexed.\" %\n",
    "                             (X.shape[0], X.shape[1], Y.shape[0]))\n",
    "    elif X.shape[1] != Y.shape[1]:\n",
    "        raise ValueError(\"Incompatible dimension for X and Y matrices: \"\n",
    "                         \"X.shape[1] == %d while Y.shape[1] == %d\" % (\n",
    "                             X.shape[1], Y.shape[1]))\n",
    "\n",
    "    return X, Y\n"
   ]
  },
  {
   "cell_type": "markdown",
   "metadata": {},
   "source": [
    "# 3. The Gower Function"
   ]
  },
  {
   "cell_type": "code",
   "execution_count": 3,
   "metadata": {},
   "outputs": [],
   "source": [
    "\n",
    "# Vectorized Version\n",
    "def gower_distances(X, Y=None, feature_weight=None, categorical_features=None):\n",
    "    \"\"\"Computes the gower distances between X and Y\n",
    "\n",
    "    Gower is a similarity measure for categorical, boolean and numerical mixed\n",
    "    data.\n",
    "\n",
    "    \n",
    "    Parameters\n",
    "    ----------\n",
    "    X : array-like, or pandas.DataFrame, shape (n_samples, n_features)\n",
    "\n",
    "    Y : array-like, or pandas.DataFrame, shape (n_samples, n_features)\n",
    "\n",
    "    feature_weight :  array-like, shape (n_features)\n",
    "        According the Gower formula, feature_weight is an attribute weight.\n",
    "\n",
    "    categorical_features: array-like, shape (n_features)\n",
    "        Indicates with True/False whether a column is a categorical attribute.\n",
    "        This is useful when categorical atributes are represented as integer\n",
    "        values. Categorical ordinal attributes are treated as numeric, and must\n",
    "        be marked as false.\n",
    "        \n",
    "        Alternatively, the categorical_features array can be represented only\n",
    "        with the numerical indexes of the categorical attribtes.\n",
    "\n",
    "    Returns\n",
    "    -------\n",
    "    similarities : ndarray, shape (n_samples, n_samples)\n",
    "\n",
    "    Notes\n",
    "    ------\n",
    "    The non-numeric features, and numeric feature ranges are determined from X and not Y.\n",
    "    No support for sparse matrices.\n",
    "\n",
    "    \"\"\"\n",
    "    \n",
    "    if issparse(X) or issparse(Y):\n",
    "        raise TypeError(\"Sparse matrices are not supported for gower distance\")\n",
    "        \n",
    "    y_none = Y is None\n",
    "    \n",
    "    \n",
    "    # It is necessary to convert to ndarray in advance to define the dtype\n",
    "    if not isinstance(X, np.ndarray):\n",
    "        X = np.asarray(X)\n",
    "\n",
    "    array_type = np.object\n",
    "    # this is necessary as strangelly the validator is rejecting numeric\n",
    "    # arrays with NaN\n",
    "    if  np.issubdtype(X.dtype, np.number) and (np.isfinite(X.sum()) or np.isfinite(X).all()):\n",
    "        array_type = type(np.zeros(1,X.dtype).flat[0])\n",
    "    \n",
    "    X, Y = check_pairwise_arrays(X, Y, precomputed=False, dtype=array_type)\n",
    "    \n",
    "    n_rows, n_cols = X.shape\n",
    "    \n",
    "    if categorical_features is None:\n",
    "        categorical_features = np.zeros(n_cols, dtype=bool)\n",
    "        for col in range(n_cols):\n",
    "            # In numerical columns, None is converted to NaN,\n",
    "            # and the type of NaN is recognized as a number subtype\n",
    "            if not np.issubdtype(type(X[0, col]), np.number):\n",
    "                categorical_features[col]=True\n",
    "    else:          \n",
    "        categorical_features = np.array(categorical_features)\n",
    "    \n",
    "    \n",
    "    #if categorical_features.dtype == np.int32:\n",
    "    if np.issubdtype(categorical_features.dtype, np.int):\n",
    "        new_categorical_features = np.zeros(n_cols, dtype=bool)\n",
    "        new_categorical_features[categorical_features] = True\n",
    "        categorical_features = new_categorical_features\n",
    "    \n",
    "    print(categorical_features)\n",
    "  \n",
    "    # Categorical columns\n",
    "    X_cat =  X[:,categorical_features]\n",
    "    \n",
    "    # Numerical columns\n",
    "    X_num = X[:,np.logical_not(categorical_features)]\n",
    "    ranges_of_numeric = None\n",
    "    max_of_numeric = None\n",
    "    \n",
    "        \n",
    "    # Calculates the normalized ranges and max values of numeric values\n",
    "    _ ,num_cols=X_num.shape\n",
    "    ranges_of_numeric = np.zeros(num_cols)\n",
    "    max_of_numeric = np.zeros(num_cols)\n",
    "    for col in range(num_cols):\n",
    "        col_array = X_num[:, col].astype(np.float32) \n",
    "        max = np.nanmax(col_array)\n",
    "        min = np.nanmin(col_array)\n",
    "     \n",
    "        if np.isnan(max):\n",
    "            max = 0.0\n",
    "        if np.isnan(min):\n",
    "            min = 0.0\n",
    "        max_of_numeric[col] = max\n",
    "        ranges_of_numeric[col] = (1 - min / max) if (max != 0) else 0.0\n",
    "\n",
    "\n",
    "    # This is to normalize the numeric values between 0 and 1.\n",
    "    X_num = np.divide(X_num ,max_of_numeric,out=np.zeros_like(X_num), where=max_of_numeric!=0)\n",
    "\n",
    "    \n",
    "    if feature_weight is None:\n",
    "        feature_weight = np.ones(n_cols)\n",
    "        \n",
    "    feature_weight_cat=feature_weight[categorical_features]\n",
    "    feature_weight_num=feature_weight[np.logical_not(categorical_features)]\n",
    "    \n",
    "    \n",
    "    y_n_rows, _ = Y.shape\n",
    "    \n",
    "    dm = np.zeros((n_rows, y_n_rows), dtype=np.float32)\n",
    "        \n",
    "    feature_weight_sum = feature_weight.sum()\n",
    "\n",
    "    Y_cat=None\n",
    "    Y_num=None\n",
    "    \n",
    "    if not y_none:\n",
    "        Y_cat = Y[:,categorical_features]\n",
    "        Y_num = Y[:,np.logical_not(categorical_features)]\n",
    "        # This is to normalize the numeric values between 0 and 1.\n",
    "        Y_num = np.divide(Y_num ,max_of_numeric,out=np.zeros_like(Y_num), where=max_of_numeric!=0)\n",
    "    else:\n",
    "        Y_cat=X_cat\n",
    "        Y_num = X_num\n",
    "        \n",
    "    for i in range(n_rows):\n",
    "        j_start= i\n",
    "        \n",
    "        # for non square results\n",
    "        if n_rows != y_n_rows:\n",
    "            j_start = 0\n",
    "\n",
    "      \n",
    "        Y_cat[j_start:n_rows,:]\n",
    "        Y_num[j_start:n_rows,:]\n",
    "        result= _gower_distance_row(X_cat[i,:], X_num[i,:],Y_cat[j_start:n_rows,:],\n",
    "                                    Y_num[j_start:n_rows,:],feature_weight_cat,feature_weight_num,\n",
    "                                    feature_weight_sum,categorical_features,ranges_of_numeric,\n",
    "                                    max_of_numeric) \n",
    "        dm[i,j_start:]=result\n",
    "        dm[i:,j_start]=result\n",
    "        \n",
    "\n",
    "    return dm\n",
    "\n",
    "\n",
    "def _gower_distance_row(xi_cat,xi_num,xj_cat,xj_num,feature_weight_cat,feature_weight_num,\n",
    "                        feature_weight_sum,categorical_features,ranges_of_numeric,max_of_numeric ):\n",
    "    # categorical columns\n",
    "    sij_cat = np.where(xi_cat == xj_cat,np.zeros_like(xi_cat),np.ones_like(xi_cat))\n",
    "    sum_cat = np.multiply(feature_weight_cat,sij_cat).sum(axis=1) \n",
    "\n",
    "    # numerical columns\n",
    "    abs_delta=np.absolute( xi_num-xj_num)\n",
    "    sij_num=np.divide(abs_delta, ranges_of_numeric, out=np.zeros_like(abs_delta), where=ranges_of_numeric!=0)\n",
    "\n",
    "    sum_num = np.multiply(feature_weight_num,sij_num).sum(axis=1)\n",
    "    sums= np.add(sum_cat,sum_num)\n",
    "    sum_sij = np.divide(sums,feature_weight_sum)\n",
    "    return sum_sij\n"
   ]
  },
  {
   "cell_type": "markdown",
   "metadata": {},
   "source": [
    "# 4. Get the Gower distance matrix"
   ]
  },
  {
   "cell_type": "code",
   "execution_count": 4,
   "metadata": {},
   "outputs": [
    {
     "name": "stdout",
     "output_type": "stream",
     "text": [
      "[False False  True  True False False]\n",
      "[[ 0.          0.35902381  0.67073983  0.31787416  0.16872811  0.52622986\n",
      "   0.59697855  0.47778758         nan]\n",
      " [ 0.35902381  0.          0.69643033  0.3138769   0.52362901  0.16720603\n",
      "   0.45600235  0.65396351         nan]\n",
      " [ 0.67073983  0.69643033  0.          0.65528071  0.67280132  0.69696969\n",
      "   0.74042797  0.81519407         nan]\n",
      " [ 0.31787416  0.3138769   0.65528071  0.          0.48247939  0.48108295\n",
      "   0.74818605  0.34332284         nan]\n",
      " [ 0.16872811  0.52362901  0.67280132  0.48247939  0.          0.35750175\n",
      "   0.43237334  0.3121036          nan]\n",
      " [ 0.52622986  0.16720603  0.69696969  0.48108295  0.35750175  0.\n",
      "   0.28987509  0.48783621         nan]\n",
      " [ 0.59697855  0.45600235  0.74042797  0.74818605  0.43237334  0.28987509\n",
      "   0.          0.57476616         nan]\n",
      " [ 0.47778758  0.65396351  0.81519407  0.34332284  0.3121036   0.48783621\n",
      "   0.57476616  0.                 nan]\n",
      " [        nan         nan         nan         nan         nan         nan\n",
      "          nan         nan         nan]]\n"
     ]
    }
   ],
   "source": [
    "D = gower_distances(X)\n",
    "\n",
    "print(D)\n"
   ]
  },
  {
   "cell_type": "markdown",
   "metadata": {},
   "source": [
    "<h1>5. The equivalent code in R</h1>\n",
    "Using the daisy method from {cluster} package"
   ]
  },
  {
   "cell_type": "markdown",
   "metadata": {},
   "source": [
    "<p>\n",
    "<code>\n",
    "library(cluster)\n",
    "\n",
    "age=c(21,21,19,30,21,21,19,30,NA)\n",
    "gender=c('M','M','N','M','F','F','F','F',NA)\n",
    "civil_status=c('MARRIED','SINGLE','SINGLE','SINGLE','MARRIED','SINGLE','WIDOW','DIVORCED',NA)\n",
    "salary=c(3000.0,1200.0 ,32000.0,1800.0 ,2900.0 ,1100.0 ,10000.0,1500.0,NA)\n",
    "children=c(TRUE,FALSE,TRUE,TRUE,TRUE,FALSE,FALSE,TRUE,NA)\n",
    "available_credit=c(2200,100,22000,1100,2000,100,6000,2200,NA)\n",
    "X=data.frame(age,gender,civil_status,salary,children,available_credit)\n",
    "\n",
    "D=daisy(X,metric=\"gower\")\n",
    "\n",
    "print(D)\n",
    "\n",
    "Dissimilarities :\n",
    "          1         2         3         4         5         6         7         8\n",
    "2 0.3590238                                                                      \n",
    "3 0.6707398 0.6964303                                                            \n",
    "4 0.3178742 0.3138769 0.6552807                                                  \n",
    "5 0.1687281 0.5236290 0.6728013 0.4824794                                        \n",
    "6 0.5262298 0.2006472 0.6969697 0.4810829 0.3575017                              \n",
    "7 0.5969786 0.5472028 0.7404280 0.7481861 0.4323733 0.3478501                    \n",
    "8 0.4777876 0.6539635 0.8151941 0.3433228 0.3121036 0.4878362 0.5747661          \n",
    "9        NA        NA        NA        NA        NA        NA        NA        NA\n",
    "\n",
    "</code>"
   ]
  },
  {
   "cell_type": "markdown",
   "metadata": {},
   "source": [
    "# 5. Some unit tests in sklearn"
   ]
  },
  {
   "cell_type": "code",
   "execution_count": 5,
   "metadata": {},
   "outputs": [
    {
     "name": "stdout",
     "output_type": "stream",
     "text": [
      "[ True  True False False]\n",
      "[[ 0.          0.59954453  0.75               nan]\n",
      " [ 0.59954453  0.          0.65045547         nan]\n",
      " [ 0.75        0.65045547  0.                 nan]\n",
      " [        nan         nan         nan         nan]]\n"
     ]
    }
   ],
   "source": [
    "from sklearn.utils.testing import assert_array_almost_equal\n",
    "\n",
    "X1 = np.array([['M', False, 222.22, 1],\n",
    "                  ['F', True, 333.22, 2],\n",
    "                  ['M', True, 1934.0, 4],\n",
    "                  [None, None, np.nan, np.nan]], dtype=object)\n",
    "\n",
    "D = gower_distances(X1)\n",
    "\n",
    "print(D)\n",
    "\n",
    "assert_array_almost_equal(D, np.array([[0.0, 0.599545, 0.75, np.nan],\n",
    "                                        [0.599545, 0.0, 0.650455, np.nan],\n",
    "                                        [0.75, 0.650455, 0.0, np.nan],\n",
    "                                        [np.nan, np.nan, np.nan, np.nan]]))"
   ]
  },
  {
   "cell_type": "code",
   "execution_count": 6,
   "metadata": {},
   "outputs": [
    {
     "name": "stdout",
     "output_type": "stream",
     "text": [
      "[ True  True False False]\n",
      "[[ 0.          0.59954453  0.75               nan]\n",
      " [ 0.59954453  0.          0.65045547         nan]\n",
      " [ 0.75        0.65045547  0.                 nan]\n",
      " [        nan         nan         nan         nan]]\n"
     ]
    }
   ],
   "source": [
    "# Tests if the categorical_features parameters return the same result\n",
    "X2 = np.array([['M', False, 222.22, 1],\n",
    "                  ['F', True, 333.22, 2],\n",
    "                  ['M', True, 1934.0, 4],\n",
    "                  [None, None, np.nan, np.nan]], dtype=object)\n",
    "\n",
    "D_expected = np.array([[0.0, 0.599545, 0.75, np.nan],\n",
    "                       [0.599545, 0.0, 0.650455, np.nan],\n",
    "                       [0.75, 0.650455, 0.0, np.nan],\n",
    "                       [np.nan, np.nan, np.nan, np.nan]])\n",
    "\n",
    "D = gower_distances(X2, categorical_features=[0, 1])\n",
    "\n",
    "print(D)"
   ]
  },
  {
   "cell_type": "code",
   "execution_count": 7,
   "metadata": {},
   "outputs": [
    {
     "name": "stdout",
     "output_type": "stream",
     "text": [
      "[ True  True]\n",
      "[[ 0.   1.   0.5  1. ]\n",
      " [ 1.   0.   0.5  1. ]\n",
      " [ 0.5  0.5  0.   1. ]\n",
      " [ 1.   1.   1.   0. ]]\n"
     ]
    }
   ],
   "source": [
    "from sklearn.utils.testing import assert_array_almost_equal\n",
    "\n",
    "X3 = np.array([['M', False],\n",
    "                  ['F', True],\n",
    "                  ['M', True],\n",
    "                  [None, None]], dtype=object)\n",
    "\n",
    "D = gower_distances(X3)\n",
    "\n",
    "print(D)\n",
    "\n",
    "assert_array_almost_equal(D, np.array([[0.0, 1, 0.5,1.0],\n",
    "                                        [1, 0.0, 0.5, 1.0],\n",
    "                                        [0.5, 0.5, 0.0, 1.0],\n",
    "                                        [1.0, 1.0, 1.0,0]]))"
   ]
  },
  {
   "cell_type": "code",
   "execution_count": 8,
   "metadata": {},
   "outputs": [
    {
     "name": "stdout",
     "output_type": "stream",
     "text": [
      "[False False]\n",
      "[[ 0.          0.19537851  0.94277805  0.05722193]\n",
      " [ 0.19537851  0.          0.74739957  0.25260046]\n",
      " [ 0.94277805  0.74739957  0.          1.        ]\n",
      " [ 0.05722193  0.25260046  1.          0.        ]]\n"
     ]
    }
   ],
   "source": [
    "from sklearn.utils.testing import assert_array_almost_equal\n",
    "\n",
    "\n",
    "X4 = np.array([[222.22, 1],\n",
    "                  [333.22, 2],\n",
    "                  [1934.0, 4],\n",
    "                  [1,1]],dtype=np.float32)\n",
    "\n",
    "D = gower_distances(X4)\n",
    "\n",
    "print(D)\n",
    "\n",
    "assert_array_almost_equal(D, np.array([[0., 0.19537851, 0.94277805 ,0.05722193],\n",
    "                                       [0.19537851, 0., 0.74739957, 0.25260046],\n",
    "                                       [0.94277805, 0.74739957, 0., 1.],\n",
    "                                       [0.05722193, 0.25260046, 1., 0]]))"
   ]
  },
  {
   "cell_type": "markdown",
   "metadata": {},
   "source": [
    "# 6. Not Squared Matrix Test"
   ]
  },
  {
   "cell_type": "code",
   "execution_count": 9,
   "metadata": {},
   "outputs": [
    {
     "name": "stdout",
     "output_type": "stream",
     "text": [
      "[ True False False False  True]\n",
      "('Result:', array([[ 0.48183998],\n",
      "       [ 0.51815999],\n",
      "       [ 0.28612828]], dtype=float32))\n",
      "()\n",
      "('Expected:', [[0.48183999], [0.51816001], [0.28612829]])\n"
     ]
    }
   ],
   "source": [
    "X5 = np.array([['Syria', 1200, 0,411114.44,True],\n",
    "                  ['Ireland', 300, 0, 199393333.22, False],\n",
    "                  ['United Kingdom', 100, 0, 32323222.121, False]], dtype=object)\n",
    "               \n",
    "Y2 = np.array([['United Kingdom', 200, 0, 99923921.47, True]], dtype=object)\n",
    "\n",
    "\n",
    "D = gower_distances(X5,Y2)\n",
    "\n",
    "print(\"Result:\",D)\n",
    "print()\n",
    "print(\"Expected:\",[[ 0.48183999],[ 0.51816001],[ 0.28612829]])\n",
    "\n",
    "               \n",
    "               "
   ]
  },
  {
   "cell_type": "code",
   "execution_count": 10,
   "metadata": {},
   "outputs": [
    {
     "name": "stdout",
     "output_type": "stream",
     "text": [
      "[False  True]\n",
      "[[ 0.  0.]\n",
      " [ 0.  0.]]\n",
      "[False  True]\n",
      "[[ 0.          0.49999982]\n",
      " [ 0.49999982  0.        ]]\n",
      "[[ 1.          0.50000018]\n",
      " [ 0.50000018  1.        ]]\n"
     ]
    }
   ],
   "source": [
    "Xeq=pd.DataFrame({'age':[21,21],\n",
    "'gender':['M','M']})\n",
    "\n",
    "Xdif=pd.DataFrame({'age':[21,22],\n",
    "'gender':['M','M']})\n",
    "\n",
    "D = gower_distances(Xeq)\n",
    "print(D)\n",
    "\n",
    "D = gower_distances(Xdif)\n",
    "print(D)\n",
    "\n",
    "\n",
    "print(1-D)\n"
   ]
  },
  {
   "cell_type": "code",
   "execution_count": null,
   "metadata": {},
   "outputs": [],
   "source": []
  }
 ],
 "metadata": {
  "kernelspec": {
   "display_name": "Python 2",
   "language": "python",
   "name": "python2"
  },
  "language_info": {
   "codemirror_mode": {
    "name": "ipython",
    "version": 2
   },
   "file_extension": ".py",
   "mimetype": "text/x-python",
   "name": "python",
   "nbconvert_exporter": "python",
   "pygments_lexer": "ipython2",
   "version": "2.7.14"
  }
 },
 "nbformat": 4,
 "nbformat_minor": 1
}
