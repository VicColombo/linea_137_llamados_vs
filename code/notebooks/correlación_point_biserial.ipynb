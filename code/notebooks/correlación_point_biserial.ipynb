{
 "cells": [
  {
   "cell_type": "code",
   "execution_count": null,
   "metadata": {},
   "outputs": [],
   "source": [
    "import pandas as pd\n",
    "#import seaborn as sns\n",
    "#from matplotlib import pyplot as plt\n",
    "import numpy as np\n",
    "from scipy.stats import shapiro, pointbiserialr\n",
    "import matplotlib.pyplot as plt\n",
    "import seaborn as sns\n",
    "\n",
    "import os"
   ]
  },
  {
   "cell_type": "code",
   "execution_count": null,
   "metadata": {},
   "outputs": [],
   "source": [
    "dataset_dir = os.path.join(os.path.dirname(os.path.dirname(os.path.abspath(''))), 'datasets')"
   ]
  },
  {
   "cell_type": "code",
   "execution_count": null,
   "metadata": {},
   "outputs": [],
   "source": [
    "llamados_v2= pd.read_excel(os.path.join(dataset_dir, 'xlsx/llamados_v2.xlsx'), parse_dates=['llamado_fecha_hora'])\n"
   ]
  },
  {
   "cell_type": "code",
   "execution_count": null,
   "metadata": {},
   "outputs": [],
   "source": [
    "# fecha hora to timestamp\n",
    "\n",
    "llamados_v2['llamado_fecha_hora'] = llamados_v2['llamado_fecha_hora'].apply(lambda x: x.timestamp())\n"
   ]
  },
  {
   "cell_type": "code",
   "execution_count": null,
   "metadata": {},
   "outputs": [],
   "source": [
    "completo_edades = llamados_v2[~(llamados_v2['victima_edad'].isnull()) & ~(llamados_v2['llamante_edad'].isnull()) & ~(llamados_v2['victima_convive_agresor'] == 'NS/NC')]\n",
    "\n",
    "\n",
    "del llamados_v2"
   ]
  },
  {
   "cell_type": "code",
   "execution_count": null,
   "metadata": {},
   "outputs": [],
   "source": [
    "# Map target to binary values\n",
    "completo_edades['victima_convive_agresor'] = completo_edades['victima_convive_agresor'].map({'SI': 1, 'NO': 0})"
   ]
  },
  {
   "cell_type": "code",
   "execution_count": null,
   "metadata": {},
   "outputs": [],
   "source": [
    "# Check normality of continuous variable\n",
    "stat, p = shapiro(completo_edades['victima_edad'])\n",
    "print('Shapiro-Wilk Test: Statistics=%.3f, p=%.3f' % (stat, p))\n",
    "if p > 0.05:\n",
    "    print('Sample looks Gaussian (fail to reject H0)')\n",
    "else:\n",
    "    print('Sample does not look Gaussian (reject H0)')"
   ]
  },
  {
   "cell_type": "code",
   "execution_count": null,
   "metadata": {},
   "outputs": [],
   "source": [
    "# Check normality of continuous variable\n",
    "stat, p = shapiro(completo_edades['llamante_edad'])\n",
    "print('Shapiro-Wilk Test: Statistics=%.3f, p=%.3f' % (stat, p))\n",
    "if p > 0.05:\n",
    "    print('Sample looks Gaussian (fail to reject H0)')\n",
    "else:\n",
    "    print('Sample does not look Gaussian (reject H0)')"
   ]
  },
  {
   "cell_type": "code",
   "execution_count": null,
   "metadata": {},
   "outputs": [],
   "source": [
    "# Visual inspection\n",
    "sns.histplot(completo_edades['victima_edad'], kde=True)\n",
    "plt.show()"
   ]
  },
  {
   "cell_type": "code",
   "execution_count": null,
   "metadata": {},
   "outputs": [],
   "source": [
    "# Visual inspection\n",
    "sns.histplot(completo_edades['llamante_edad'], kde=True)\n",
    "plt.show()"
   ]
  },
  {
   "cell_type": "code",
   "execution_count": null,
   "metadata": {},
   "outputs": [],
   "source": [
    "# point biserial correlation\n",
    "from scipy.stats import  pointbiserialr\n",
    "\n",
    "numerical_variables = ['llamante_edad','victima_edad']\n",
    "\n",
    "# Calculate Point-Biserial correlation for numerical and binary categorical variables\n",
    "point_biserial_results = {}\n",
    "for variable in numerical_variables:\n",
    "        correlation, p = pointbiserialr(completo_edades[variable], completo_edades['victima_convive_agresor'])\n",
    "        point_biserial_results[variable] = {'Correlation': correlation, 'p-value': p}"
   ]
  },
  {
   "cell_type": "code",
   "execution_count": null,
   "metadata": {},
   "outputs": [],
   "source": [
    "# Convert results to DataFrame\n",
    "results_df = pd.DataFrame(point_biserial_results)\n",
    "print(results_df.round(4))"
   ]
  }
 ],
 "metadata": {
  "kernelspec": {
   "display_name": "tpenv",
   "language": "python",
   "name": "python3"
  },
  "language_info": {
   "name": "python",
   "version": "3.9.6"
  }
 },
 "nbformat": 4,
 "nbformat_minor": 2
}
