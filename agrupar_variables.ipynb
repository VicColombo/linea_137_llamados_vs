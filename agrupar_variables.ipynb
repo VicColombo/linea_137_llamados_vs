{
 "cells": [
  {
   "cell_type": "markdown",
   "id": "aa5c2135",
   "metadata": {},
   "source": [
    "### Agrupar variables"
   ]
  },
  {
   "cell_type": "code",
   "execution_count": 12,
   "id": "d3ef0e99",
   "metadata": {},
   "outputs": [],
   "source": [
    "import pandas as pd\n",
    "import numpy as np\n"
   ]
  },
  {
   "cell_type": "code",
   "execution_count": 1,
   "id": "b2a21d13",
   "metadata": {},
   "outputs": [],
   "source": [
    "from herramientas import hola"
   ]
  },
  {
   "cell_type": "code",
   "execution_count": 2,
   "id": "9a2daa27",
   "metadata": {},
   "outputs": [
    {
     "name": "stdout",
     "output_type": "stream",
     "text": [
      "hola\n"
     ]
    }
   ],
   "source": [
    "hola()"
   ]
  },
  {
   "cell_type": "code",
   "execution_count": null,
   "id": "e50df0a6",
   "metadata": {},
   "outputs": [],
   "source": [
    "llamados= pd.read_excel('dataset_d_normf.xlsx',\n",
    "                        dtype= {'llamado_fecha_hora': 'datetime64[ns]','llamado_fecha': 'datetime64[ns]',\n",
    "                                'llamado_provincia': 'category','llamado_provincia_id': 'category',\n",
    "                                'llamante_edad': 'Int64','llamante_genero': 'category','llamante_vinculo': 'category',\n",
    "                                'caso_judicializado': 'category','hecho_lugar': 'category',\n",
    "                                'victima_a_resguardo': 'category','victima_edad': 'Int64',\n",
    "                                'victima_genero': 'category','victima_nacionalidad': 'category',\n",
    "                                'victima_vinculo_agresor': 'category','victima_discapacidad': 'category',\n",
    "                                'victima_convive_agresor': 'category','vs_violacion_via_vaginal': 'category',\n",
    "                                'vs_violacion_via_anal': 'category','vs_violacion_via_oral': 'category',\n",
    "                                'vs_tentativa_violacion': 'category','vs_tocamiento_sexual': 'category',\n",
    "                                'vs_intento_tocamiento': 'category','vs_Intento_violación_tercera_persona': 'category',\n",
    "                                'vs_grooming': 'category','vs_exhibicionismo': 'category',\n",
    "                                'vs_amenazas_verbales_contenido_sexual': 'category','vs_explotacion_sexual': 'category',\n",
    "                                'vs_explotacion_sexual_comercial': 'category',\n",
    "                                'vs_explotacion_sexual_viajes_turismo': 'category',\n",
    "                                'vs_sospecha_trata_personas_fines_sexuales': 'category',\n",
    "                                'vs_existencia_facilitador_corrupcion_nnya': 'category',\n",
    "                                'vs_obligacion_sacarse_fotos_pornograficas': 'category',\n",
    "                                'vs_eyaculacion_partes_cuerpo': 'category','vs_acoso_sexual': 'category',\n",
    "                                'vs_iniciacion_sexual_forzada_inducida': 'category',\n",
    "                                'vs_otra_forma_violencia_sexual': 'category','vs_no_sabe_no_contesta': 'category',\n",
    "                                'ofv_sentimiento_amenaza': 'category','ofv_amenaza_explicita': 'category',\n",
    "                                'ofv_violencia_fisica': 'category','ofv_intento_ahorcar': 'category',\n",
    "                                'ofv_intento_quemar': 'category','ofv_intento_ahogar': 'category',\n",
    "                                'ofv_amenaza_muerte': 'category','ofv_uso_sustancias_psicoactivas': 'category',\n",
    "                                'ofv_intento_privacion_libertad': 'category','ofv_privacion_libertad': 'category',\n",
    "                                'ofv_uso_arma_blanca': 'category','ofv_uso_arma_fuego': 'category',\n",
    "                                'ofv_enganio_seduccion': 'category','ofv_intento_matar': 'category',\n",
    "                                'ofv_uso_animal_victimizar': 'category','ofv_grooming': 'category',\n",
    "                                'ofv_otra_forma_violencia': 'category','ofv_no_sabe_no_contesta': 'category'})"
   ]
  },
  {
   "cell_type": "code",
   "execution_count": 25,
   "id": "598c3500",
   "metadata": {},
   "outputs": [
    {
     "ename": "NameError",
     "evalue": "name 'hola' is not defined",
     "output_type": "error",
     "traceback": [
      "\u001b[0;31m---------------------------------------------------------------------------\u001b[0m",
      "\u001b[0;31mNameError\u001b[0m                                 Traceback (most recent call last)",
      "\u001b[0;32m/tmp/ipykernel_12293/2439622952.py\u001b[0m in \u001b[0;36m<module>\u001b[0;34m\u001b[0m\n\u001b[0;32m----> 1\u001b[0;31m \u001b[0mhola\u001b[0m\u001b[0;34m(\u001b[0m\u001b[0;34m)\u001b[0m\u001b[0;34m\u001b[0m\u001b[0;34m\u001b[0m\u001b[0m\n\u001b[0m",
      "\u001b[0;31mNameError\u001b[0m: name 'hola' is not defined"
     ]
    }
   ],
   "source": [
    "hola()"
   ]
  },
  {
   "cell_type": "code",
   "execution_count": null,
   "id": "57fd3304",
   "metadata": {},
   "outputs": [],
   "source": []
  }
 ],
 "metadata": {
  "kernelspec": {
   "display_name": "Python 3 (ipykernel)",
   "language": "python",
   "name": "python3"
  },
  "language_info": {
   "codemirror_mode": {
    "name": "ipython",
    "version": 3
   },
   "file_extension": ".py",
   "mimetype": "text/x-python",
   "name": "python",
   "nbconvert_exporter": "python",
   "pygments_lexer": "ipython3",
   "version": "3.8.12"
  }
 },
 "nbformat": 4,
 "nbformat_minor": 5
}
